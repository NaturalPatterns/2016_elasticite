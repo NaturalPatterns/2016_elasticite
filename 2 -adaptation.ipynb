{
 "metadata": {
  "name": ""
 },
 "nbformat": 3,
 "nbformat_minor": 0,
 "worksheets": [
  {
   "cells": [
    {
     "cell_type": "markdown",
     "metadata": {},
     "source": [
      "# adaptation\n",
      "\n",
      "## algo de base d'adaptation \u00e0 une stat d\u00e9sir\u00e9e de co-occurence\n",
      "\n",
      "## segmentation (Julesz?)"
     ]
    },
    {
     "cell_type": "code",
     "collapsed": false,
     "input": [],
     "language": "python",
     "metadata": {},
     "outputs": []
    }
   ],
   "metadata": {}
  }
 ]
}
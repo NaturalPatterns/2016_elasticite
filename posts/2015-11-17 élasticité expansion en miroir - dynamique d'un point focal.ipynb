{
 "cells": [
  {
   "cell_type": "code",
   "execution_count": 1,
   "metadata": {
    "collapsed": false
   },
   "outputs": [],
   "source": [
    "%load_ext autoreload\n",
    "%autoreload 2"
   ]
  },
  {
   "cell_type": "code",
   "execution_count": 2,
   "metadata": {
    "collapsed": true
   },
   "outputs": [],
   "source": [
    "import matplotlib\n",
    "matplotlib.rcParams['figure.max_open_warning'] = 400\n",
    "#%matplotlib inline\n",
    "#%config InlineBackend.figure_format='retina'\n",
    "#%config InlineBackend.figure_format = 'svg'"
   ]
  },
  {
   "cell_type": "code",
   "execution_count": 3,
   "metadata": {
    "collapsed": false
   },
   "outputs": [],
   "source": [
    "import elasticite as el\n",
    "import numpy as np\n",
    "duration = el.get_default_args(el.EdgeGrid.render)['duration']"
   ]
  },
  {
   "cell_type": "code",
   "execution_count": 4,
   "metadata": {
    "collapsed": false
   },
   "outputs": [],
   "source": [
    "import sys\n",
    "sys.path.append('..')\n",
    "from scenario_line_fresnel import EdgeGrid\n",
    "e = EdgeGrid(N_lame=25, grid_type='line')"
   ]
  },
  {
   "cell_type": "code",
   "execution_count": 5,
   "metadata": {
    "collapsed": false
   },
   "outputs": [
    {
     "data": {
      "text/plain": [
       "(4, 31)"
      ]
     },
     "execution_count": 5,
     "metadata": {},
     "output_type": "execute_result"
    }
   ],
   "source": [
    "e.lames.shape"
   ]
  },
  {
   "cell_type": "code",
   "execution_count": 6,
   "metadata": {
    "collapsed": false
   },
   "outputs": [],
   "source": [
    "e = el.EdgeGrid(N_lame=25, grid_type='line')\n",
    "e.sample_structure(N_mirror=2, alpha = .5)\n",
    "fig, ax = e.plot_structure()"
   ]
  },
  {
   "cell_type": "code",
   "execution_count": null,
   "metadata": {
    "collapsed": false
   },
   "outputs": [
    {
     "data": {
      "text/plain": [
       "((3, 2352), 48, 8)"
      ]
     },
     "execution_count": 7,
     "metadata": {},
     "output_type": "execute_result"
    }
   ],
   "source": [
    "e.particles.shape, e.N_particles, e.N_particles_per_lame"
   ]
  },
  {
   "cell_type": "markdown",
   "metadata": {},
   "source": [
    "Greedy :"
   ]
  },
  {
   "cell_type": "code",
   "execution_count": null,
   "metadata": {
    "collapsed": false
   },
   "outputs": [
    {
     "name": "stderr",
     "output_type": "stream",
     "text": [
      "WARNING:py.warnings:/usr/local/lib/python3.5/site-packages/skimage/filter/__init__.py:6: skimage_deprecation: The `skimage.filter` module has been renamed to `skimage.filters`.  This placeholder module will be removed in v0.13.\n",
      "  warn(skimage_deprecation('The `skimage.filter` module has been renamed '\n",
      "\n"
     ]
    },
    {
     "name": "stdout",
     "output_type": "stream",
     "text": [
      "[MoviePy] >>>> Building video /var/folders/3p/m0g52j9j69z3gj8ktpgg1dm00000gn/T/tmp906j36ts.webm\n",
      "[MoviePy] Writing video /var/folders/3p/m0g52j9j69z3gj8ktpgg1dm00000gn/T/tmp906j36ts.webm\n"
     ]
    },
    {
     "name": "stderr",
     "output_type": "stream",
     "text": [
      " 53%|█████▎    | 106/201 [00:26<00:20,  4.71it/s]"
     ]
    }
   ],
   "source": [
    "duration = el.get_default_args(el.EdgeGrid.render)['duration']\n",
    "class EdgeGrid(el.EdgeGrid):\n",
    "    def update(self, tau=.5):\n",
    "        for i in range(14):\n",
    "            ind_max = np.argmax(self.particles[2, :])\n",
    "            self.particles[2, ind_max] = 0 # np.random.randn(self.particles.shape[1])\n",
    "        #print (self.particles[2, :].min(), self.particles[2, :].max())\n",
    "        self.particles[2, :] += self.dt/tau * (self.particles[2, :] - self.particles_ref)\n",
    "\n",
    "e = EdgeGrid(N_lame=25, grid_type='line')\n",
    "e.sample_structure(N_mirror=2, alpha = .5)\n",
    "e.particles_ref = e.particles[2, :].copy()\n",
    "e.animate(scale = 32.)\n",
    "#e.animate(fname='../files/expansion_foyers_greedy_12.mp4', scale = 32.)"
   ]
  },
  {
   "cell_type": "code",
   "execution_count": null,
   "metadata": {
    "collapsed": false
   },
   "outputs": [],
   "source": [
    "duration = el.get_default_args(el.EdgeGrid.render)['duration']\n",
    "class EdgeGrid(el.EdgeGrid):\n",
    "    def update(self, tau=.5):\n",
    "        ind_max = np.argmax(self.particles[2, :])\n",
    "        # TODO akin to pursuit\n",
    "        #for i in range(14):\n",
    "        #   \n",
    "        #   self.particles[2, ind_max] = 0 # np.random.randn(self.particles.shape[1])\n",
    "        #print (self.particles[2, :].min(), self.particles[2, :].max())\n",
    "        self.particles[2, :] += self.dt/tau * (self.particles[2, :] - self.particles_ref)\n",
    "\n",
    "e = EdgeGrid(N_lame=25, grid_type='line')\n",
    "e.sample_structure(N_mirror=2, alpha = .5)\n",
    "e.particles_ref = e.particles[2, :].copy()\n",
    "e.animate(scale = 32.)\n",
    "#e.animate(fname='../files/expansion_foyers_greedy_12.mp4', scale = 32.)"
   ]
  },
  {
   "cell_type": "markdown",
   "metadata": {},
   "source": [
    "## git\n"
   ]
  },
  {
   "cell_type": "code",
   "execution_count": null,
   "metadata": {
    "collapsed": false
   },
   "outputs": [],
   "source": [
    "!git s"
   ]
  },
  {
   "cell_type": "code",
   "execution_count": null,
   "metadata": {
    "collapsed": false
   },
   "outputs": [],
   "source": [
    "!git commit -am' expansion - miroir de la structure - focus'"
   ]
  },
  {
   "cell_type": "code",
   "execution_count": null,
   "metadata": {
    "collapsed": false
   },
   "outputs": [],
   "source": [
    "!git commit -m' nb_pas ' ../src/elasticite.py\n"
   ]
  },
  {
   "cell_type": "code",
   "execution_count": null,
   "metadata": {
    "collapsed": false
   },
   "outputs": [],
   "source": [
    "! git push\n"
   ]
  }
 ],
 "metadata": {
  "kernelspec": {
   "display_name": "Python 3",
   "language": "python",
   "name": "python3"
  },
  "language_info": {
   "codemirror_mode": {
    "name": "ipython",
    "version": 3
   },
   "file_extension": ".py",
   "mimetype": "text/x-python",
   "name": "python",
   "nbconvert_exporter": "python",
   "pygments_lexer": "ipython3",
   "version": "3.5.1"
  }
 },
 "nbformat": 4,
 "nbformat_minor": 0
}

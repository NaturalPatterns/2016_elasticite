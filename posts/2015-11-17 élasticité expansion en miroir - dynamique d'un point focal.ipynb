{
 "cells": [
  {
   "cell_type": "code",
   "execution_count": null,
   "metadata": {
    "collapsed": false
   },
   "outputs": [],
   "source": [
    "%load_ext autoreload\n",
    "%autoreload 2"
   ]
  },
  {
   "cell_type": "code",
   "execution_count": null,
   "metadata": {
    "collapsed": false
   },
   "outputs": [],
   "source": [
    "import matplotlib\n",
    "matplotlib.rcParams['figure.max_open_warning'] = 400\n",
    "%matplotlib inline\n",
    "%config InlineBackend.figure_format='retina'\n",
    "#%config InlineBackend.figure_format = 'svg'"
   ]
  },
  {
   "cell_type": "code",
   "execution_count": null,
   "metadata": {
    "collapsed": false
   },
   "outputs": [],
   "source": [
    "import elasticite as el\n",
    "import numpy as np\n",
    "duration = el.get_default_args(el.EdgeGrid.render)['duration']"
   ]
  },
  {
   "cell_type": "code",
   "execution_count": null,
   "metadata": {
    "collapsed": false
   },
   "outputs": [],
   "source": [
    "import sys\n",
    "sys.path.append('..')\n",
    "from scenario_line_fresnel import EdgeGrid\n",
    "e = EdgeGrid(N_lame=25, grid_type='line')"
   ]
  },
  {
   "cell_type": "code",
   "execution_count": null,
   "metadata": {
    "collapsed": false
   },
   "outputs": [],
   "source": [
    "e.lames.shape"
   ]
  },
  {
   "cell_type": "code",
   "execution_count": null,
   "metadata": {
    "collapsed": false
   },
   "outputs": [],
   "source": [
    "e = el.EdgeGrid(N_lame=25, grid_type='line')\n",
    "e.sample_structure(N_mirror=2, alpha = .5)\n",
    "fig, ax = e.plot_structure()"
   ]
  },
  {
   "cell_type": "code",
   "execution_count": null,
   "metadata": {
    "collapsed": false
   },
   "outputs": [],
   "source": [
    "e.particles.shape, e.N_particles, e.N_particles_per_lame"
   ]
  },
  {
   "cell_type": "markdown",
   "metadata": {},
   "source": [
    "Greedy :"
   ]
  },
  {
   "cell_type": "code",
   "execution_count": null,
   "metadata": {
    "collapsed": false
   },
   "outputs": [],
   "source": [
    "duration = el.get_default_args(el.EdgeGrid.render)['duration']\n",
    "class EdgeGrid(el.EdgeGrid):\n",
    "    def update(self, tau=.5):\n",
    "        for i in range(14):\n",
    "            ind_max = np.argmax(self.particles[2, :])\n",
    "            self.particles[2, ind_max] = 0 # np.random.randn(self.particles.shape[1])\n",
    "        #print (self.particles[2, :].min(), self.particles[2, :].max())\n",
    "        self.particles[2, :] += self.dt/tau * (self.particles[2, :] - self.particles_ref)\n",
    "\n",
    "e = EdgeGrid(N_lame=25, grid_type='line')\n",
    "e.sample_structure(N_mirror=2, alpha = .5)\n",
    "e.particles_ref = e.particles[2, :].copy()\n",
    "_ = e.animate(scale = 32.)\n",
    "#e.animate(fname='../files/expansion_foyers_greedy_12.mp4', scale = 32.)"
   ]
  },
  {
   "cell_type": "code",
   "execution_count": null,
   "metadata": {
    "collapsed": false
   },
   "outputs": [],
   "source": [
    "duration = el.get_default_args(el.EdgeGrid.render)['duration']\n",
    "class EdgeGrid(el.EdgeGrid):\n",
    "    def update(self, tau=.5):\n",
    "        ind_max = np.argmax(self.particles[2, :])\n",
    "        \n",
    "        for i in range(14):\n",
    "            \n",
    "            self.particles[2, ind_max] = 0 # np.random.randn(self.particles.shape[1])\n",
    "        #print (self.particles[2, :].min(), self.particles[2, :].max())\n",
    "        self.particles[2, :] += self.dt/tau * (self.particles[2, :] - self.particles_ref)\n",
    "\n",
    "e = EdgeGrid(N_lame=25, grid_type='line')\n",
    "e.sample_structure(N_mirror=2, alpha = .5)\n",
    "e.particles_ref = e.particles[2, :].copy()\n",
    "_ = e.animate(scale = 32.)\n",
    "#e.animate(fname='../files/expansion_foyers_greedy_12.mp4', scale = 32.)"
   ]
  },
  {
   "cell_type": "markdown",
   "metadata": {},
   "source": [
    "## git\n"
   ]
  },
  {
   "cell_type": "code",
   "execution_count": 1,
   "metadata": {
    "collapsed": false
   },
   "outputs": [
    {
     "name": "stdout",
     "output_type": "stream",
     "text": [
      " \u001b[32mM\u001b[m \"2015-11-02 \\303\\251lasticit\\303\\251 expansion en miroir - exploration param\\303\\250tres.ipynb\"\r\n",
      " \u001b[32mM\u001b[m \"2015-11-17 \\303\\251lasticit\\303\\251 expansion en miroir - dynamique d'un point focal.ipynb\"\r\n",
      " \u001b[32mM\u001b[m ../src/elasticite.py\r\n",
      "\u001b[36m??\u001b[m ../.scenario_line_contraint.py.~472bb904\r\n",
      "\u001b[36m??\u001b[m \".2015-11-02 \\303\\251lasticit\\303\\251 expansion en miroir - exploration param\\303\\250tres.ipynb.~1ed7b084\"\r\n",
      "\u001b[36m??\u001b[m \".2015-11-02 \\303\\251lasticit\\303\\251 expansion en miroir - principes.ipynb.~3971a923\"\r\n",
      "\u001b[36m??\u001b[m \"2015-11-02 \\303\\251lasticit\\303\\251 expansion en miroir - principes.html\"\r\n",
      "\u001b[36m??\u001b[m ../screenshot.png\r\n",
      "\u001b[36m??\u001b[m ../src/.elasticite.py.~76f3bc2c\r\n",
      "\u001b[36m??\u001b[m ../src/__pycache__/\r\n"
     ]
    }
   ],
   "source": [
    "!git s"
   ]
  },
  {
   "cell_type": "code",
   "execution_count": null,
   "metadata": {
    "collapsed": false
   },
   "outputs": [],
   "source": [
    "!git commit -am' expansion - miroir de la structure - focus'"
   ]
  },
  {
   "cell_type": "code",
   "execution_count": 3,
   "metadata": {
    "collapsed": false
   },
   "outputs": [
    {
     "name": "stdout",
     "output_type": "stream",
     "text": [
      "error: invalid object 100644 0474e6b1ed0786cde408cca646c82206efe068f0 for 'files/figures/elasticite/trame_sobel.webm'\r\n",
      "error: invalid object 100644 0474e6b1ed0786cde408cca646c82206efe068f0 for 'files/figures/elasticite/trame_sobel.webm'\r\n",
      "error: Error building trees\r\n"
     ]
    }
   ],
   "source": [
    "!git commit -m' nb_pas '    ../src/elasticite.py\n"
   ]
  },
  {
   "cell_type": "code",
   "execution_count": null,
   "metadata": {
    "collapsed": false
   },
   "outputs": [],
   "source": [
    "! git push\n"
   ]
  }
 ],
 "metadata": {
  "kernelspec": {
   "display_name": "Python 3",
   "language": "python",
   "name": "python3"
  },
  "language_info": {
   "codemirror_mode": {
    "name": "ipython",
    "version": 3
   },
   "file_extension": ".py",
   "mimetype": "text/x-python",
   "name": "python",
   "nbconvert_exporter": "python",
   "pygments_lexer": "ipython3",
   "version": "3.5.0"
  }
 },
 "nbformat": 4,
 "nbformat_minor": 0
}

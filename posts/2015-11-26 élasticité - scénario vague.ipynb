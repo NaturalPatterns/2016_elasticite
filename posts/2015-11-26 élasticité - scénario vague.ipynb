{
 "cells": [
  {
   "cell_type": "code",
   "execution_count": 73,
   "metadata": {
    "collapsed": false
   },
   "outputs": [
    {
     "name": "stdout",
     "output_type": "stream",
     "text": [
      "The autoreload extension is already loaded. To reload it, use:\n",
      "  %reload_ext autoreload\n"
     ]
    }
   ],
   "source": [
    "%load_ext autoreload\n",
    "%autoreload 2"
   ]
  },
  {
   "cell_type": "code",
   "execution_count": 74,
   "metadata": {
    "collapsed": false
   },
   "outputs": [
    {
     "name": "stderr",
     "output_type": "stream",
     "text": [
      "/usr/local/lib/python3.5/site-packages/matplotlib/__init__.py:1350: UserWarning:  This call to matplotlib.use() has no effect\n",
      "because the backend has already been chosen;\n",
      "matplotlib.use() must be called *before* pylab, matplotlib.pyplot,\n",
      "or matplotlib.backends is imported for the first time.\n",
      "\n",
      "  warnings.warn(_use_error_msg)\n"
     ]
    }
   ],
   "source": [
    "import matplotlib\n",
    "matplotlib.use('nbagg')\n",
    "%matplotlib inline\n",
    "matplotlib.rcParams['figure.max_open_warning'] = 400\n",
    "%matplotlib inline\n",
    "%config InlineBackend.figure_format='retina'\n",
    "import matplotlib.pyplot as plt\n",
    "#%config InlineBackend.figure_format = 'svg'"
   ]
  },
  {
   "cell_type": "markdown",
   "metadata": {},
   "source": [
    "## vague gravitationnelle"
   ]
  },
  {
   "cell_type": "code",
   "execution_count": 75,
   "metadata": {
    "collapsed": false
   },
   "outputs": [
    {
     "data": {
      "text/html": [
       "\n",
       "            <center><table border=none width=100% height=100%>\n",
       "            <tr>\n",
       "            <td width=33%%><center><img src=\"../files/waves_low.png\" width=100%/></td>\n",
       "            <td rowspan=2  colspan=2><center><video src=\"../files/waves_low.webm\"   loop=\"1\" autoplay=\"1\" controls   type=\"video/webm\" width=100%/></td>\n",
       "            </tr>\n",
       "            <tr>\n",
       "            <td><center><img src=\"../files/waves_low_cube.png\" width=100%/></td>\n",
       "            </tr>\n",
       "            </table></center>"
      ],
      "text/plain": [
       "<IPython.core.display.HTML object>"
      ]
     },
     "metadata": {},
     "output_type": "display_data"
    }
   ],
   "source": [
    "name = 'waves'\n",
    "vext = '.webm'\n",
    "import os\n",
    "import numpy as np\n",
    "import MotionClouds as mc\n",
    "mc.N_X, mc.N_Y, mc.N_frame = 128, 32, 512\n",
    "fx, fy, ft = mc.get_grids(mc.N_X, mc.N_Y, mc.N_frame)\n",
    "theta, B_theta, B_wave = 0., np.pi/8., .5\n",
    "#alpha, sf_0, B_sf, B_V = 2., .25, .3, 2.\n",
    "alpha, sf_0, B_sf, B_V = 2., .2, .1, 3.\n",
    "seed = 1234565\n",
    "#V_X, V_Y, g = .5, 0., .1\n",
    "V_X, V_Y, g = .5, 0., 2\n",
    "loggabor=True\n",
    "B_v = .025\n",
    "\n",
    "\n",
    "def envelope_gravity(fx, fy, ft, B_wave, g=.1):\n",
    "    \"\"\"\n",
    "     Gravitational envelope:\n",
    "     selects the plane corresponding to the speed (V_X, V_Y) with some thickness B_V\n",
    "\n",
    "    \"\"\"\n",
    "    k = fx*V_X+fy*V_Y\n",
    "    env = np.exp(-.5*(((ft/.5)**2-g*np.sqrt(((k/.5)**2)))**2/(B_wave*mc.frequency_radius(fx, fy, ft, ft_0=np.inf))**2))\n",
    "    env *= (ft*k) < 0\n",
    "    return env\n",
    "\n",
    "def envelope_gabor_wave(fx, fy, ft, B_wave, V_X=mc.V_X, V_Y=mc.V_Y,\n",
    "                        B_V=mc.B_V, B_v=1., sf_0=mc.sf_0, B_sf=mc.B_sf, loggabor=mc.loggabor,\n",
    "                        theta=mc.theta, B_theta=mc.B_theta, alpha=mc.alpha):\n",
    "    \"\"\"\n",
    "    Returns the Motion Cloud kernel\n",
    "\n",
    "    \"\"\"\n",
    "    envelope = mc.envelope_gabor(fx, fy, ft, V_X=V_X, V_Y=V_Y,\n",
    "                                 B_V=B_V, sf_0=sf_0, B_sf=B_sf, loggabor=loggabor,\n",
    "                                 theta=theta, B_theta=B_theta, alpha=alpha)\n",
    "    envelope *= envelope_gravity(fx, fy, ft, B_wave=B_wave)\n",
    "    return envelope\n",
    "\n",
    "\n",
    "name_ = name + '_low'\n",
    "mc_wave = envelope_gabor_wave(fx, fy, ft, V_X=1., V_Y=0., B_wave=B_v, B_V=B_V, theta=theta, B_theta=B_theta, sf_0=sf_0, B_sf=B_sf, alpha=alpha)\n",
    "mc.figures(mc_wave, name_, vext=vext, seed=seed)\n",
    "mc.in_show_video(name_)\n"
   ]
  },
  {
   "cell_type": "markdown",
   "metadata": {},
   "source": [
    "Saving the corrresponding cloud as a ``nd.array``:"
   ]
  },
  {
   "cell_type": "code",
   "execution_count": 76,
   "metadata": {
    "collapsed": false
   },
   "outputs": [
    {
     "name": "stdout",
     "output_type": "stream",
     "text": [
      "(128, 32, 512)\n"
     ]
    }
   ],
   "source": [
    "vague_dense = mc.rectif(mc.random_cloud(mc_wave), contrast=1)\n",
    "print(vague_dense.shape)"
   ]
  },
  {
   "cell_type": "code",
   "execution_count": 77,
   "metadata": {
    "collapsed": false
   },
   "outputs": [
    {
     "data": {
      "text/html": [
       "\n",
       "            <center><table border=none width=100% height=100%>\n",
       "            <tr>\n",
       "            <td width=33%%><center><img src=\"../files/waves_impulse.png\" width=100%/></td>\n",
       "            <td rowspan=2  colspan=2><center><video src=\"../files/waves_impulse.webm\"   loop=\"1\" autoplay=\"1\" controls   type=\"video/webm\" width=100%/></td>\n",
       "            </tr>\n",
       "            <tr>\n",
       "            <td><center><img src=\"../files/waves_impulse_cube.png\" width=100%/></td>\n",
       "            </tr>\n",
       "            </table></center>"
      ],
      "text/plain": [
       "<IPython.core.display.HTML object>"
      ]
     },
     "metadata": {},
     "output_type": "display_data"
    }
   ],
   "source": [
    "#mc_wave = envelope_gabor_wave(fx, fy, ft, V_X, V_Y, B_V, B_wave, sf_0, B_sf, theta, B_theta, alpha, g)\n",
    "mc.figures(mc_wave, 'waves_impulse', seed=seed, impulse=True)\n",
    "mc.in_show_video('waves_impulse')"
   ]
  },
  {
   "cell_type": "code",
   "execution_count": 78,
   "metadata": {
    "collapsed": false
   },
   "outputs": [
    {
     "name": "stdout",
     "output_type": "stream",
     "text": [
      "(128, 32, 512)\n"
     ]
    }
   ],
   "source": [
    "vague_solo = mc.rectif(mc.random_cloud(mc_wave, seed=seed, impulse=True), contrast=1)\n",
    "print(vague_solo.shape)"
   ]
  },
  {
   "cell_type": "markdown",
   "metadata": {},
   "source": [
    "## transforme la vague 2D sur les lames"
   ]
  },
  {
   "cell_type": "code",
   "execution_count": null,
   "metadata": {
    "collapsed": true
   },
   "outputs": [],
   "source": [
    "def vague_animate(z, x_offset=0, y_offset=0, N_lame = 25, t_offset=0, N_steps = 512):\n",
    "    import matplotlib.pyplot as plt\n",
    "    import matplotlib.animation as animation\n",
    "    from IPython.display import HTML\n",
    "\n",
    "    fig, ax = plt.subplots(figsize=(15, 3))\n",
    "\n",
    "    x = np.arange(0, N_lame)        # x-array\n",
    "\n",
    "    def vague(i):\n",
    "        return z[x_offset:(x_offset+N_lame), y_offset, t_offset+i]\n",
    "\n",
    "    def animate(i):\n",
    "        line.set_ydata(vague(i))  # update the data\n",
    "        return line,\n",
    "\n",
    "    #Init only required for blitting to give a clean slate.\n",
    "    def init():\n",
    "        line.set_ydata(np.ma.array(x, mask=True))\n",
    "        return line,\n",
    "\n",
    "    line,  = ax.plot(x, vague(0))\n",
    "    ax.set_xlim([0, N_lame-1])\n",
    "    ax.set_ylim([0, 1])\n",
    "\n",
    "    anim = animation.FuncAnimation(fig, animate, np.arange(1, N_steps), init_func=init,\n",
    "        interval=25, blit=True)\n",
    "\n",
    "    return HTML(anim.to_html5_video())\n",
    "    "
   ]
  },
  {
   "cell_type": "code",
   "execution_count": null,
   "metadata": {
    "collapsed": false
   },
   "outputs": [],
   "source": [
    "vague_animate(vague_dense)"
   ]
  },
  {
   "cell_type": "code",
   "execution_count": null,
   "metadata": {
    "collapsed": false,
    "scrolled": true
   },
   "outputs": [],
   "source": [
    "vague_animate(vague_solo, x_offset=vague_solo.shape[0]//2-25//2, y_offset=vague_solo.shape[1]//2, t_offset=0, N_steps = vague_solo.shape[-1])"
   ]
  },
  {
   "cell_type": "code",
   "execution_count": null,
   "metadata": {
    "collapsed": false,
    "scrolled": true
   },
   "outputs": [],
   "source": [
    "vague_animate(vague_solo, x_offset=vague_solo.shape[0]//2-25//2, y_offset=vague_solo.shape[1]//2, t_offset=vague_solo.shape[-1]//4, N_steps=vague_solo.shape[-1]//2)"
   ]
  },
  {
   "cell_type": "code",
   "execution_count": null,
   "metadata": {
    "collapsed": false,
    "scrolled": true
   },
   "outputs": [],
   "source": [
    "vague_animate(vague_solo, x_offset=vague_solo.shape[0]//2-25//2, y_offset=vague_solo.shape[1]//2, \n",
    "              t_offset=vague_solo.shape[-1]*3//8, N_steps=vague_solo.shape[-1]//4)"
   ]
  },
  {
   "cell_type": "markdown",
   "metadata": {},
   "source": [
    "## Saving as a scenario"
   ]
  },
  {
   "cell_type": "code",
   "execution_count": null,
   "metadata": {
    "collapsed": false,
    "scrolled": true
   },
   "outputs": [],
   "source": [
    "%%writefile ../scenario_line_vague.py\n",
    "#!/usr/bin/env python\n",
    "# -*- coding: utf8 -*-\n",
    "\n",
    "import elasticite as el\n",
    "import numpy as np\n",
    "\n",
    "def make_vague(impulse=False):\n",
    "    name = 'waves'\n",
    "    import os\n",
    "    import numpy as np\n",
    "    import MotionClouds as mc\n",
    "\n",
    "    mc.N_X, mc.N_Y, mc.N_frame = 128, 32, 512\n",
    "    fx, fy, ft = mc.get_grids(mc.N_X, mc.N_Y, mc.N_frame)\n",
    "    theta, B_theta, B_wave = 0., np.pi/8., .1\n",
    "    alpha, sf_0, B_sf, B_V = 2., .25, .3, 2.\n",
    "    alpha, sf_0, B_sf, B_V = 1., .1, .3, 2.\n",
    "    seed = 1234565\n",
    "    V_X, V_Y, g = .5, 0., .1\n",
    "    V_X, V_Y, g = .5, 0., 2\n",
    "    loggabor=True\n",
    "    B_v = .025\n",
    "    \n",
    "    def envelope_gravity(fx, fy, ft, B_wave, g=.1):\n",
    "        \"\"\"\n",
    "         Gravitational envelope:\n",
    "         selects the plane corresponding to the speed (V_X, V_Y) with some thickness B_V\n",
    "\n",
    "        \"\"\"\n",
    "        k = fx*V_X+fy*V_Y\n",
    "        env = np.exp(-.5*(((ft/.5)**2-g*np.sqrt(((k/.5)**2)))**2/(B_wave*mc.frequency_radius(fx, fy, ft, ft_0=np.inf))**2))\n",
    "        env *= (ft*k) < 0\n",
    "        return env\n",
    "\n",
    "    def envelope_gabor_wave(fx, fy, ft, B_wave, V_X=mc.V_X, V_Y=mc.V_Y,\n",
    "                            B_V=mc.B_V, B_v=1., sf_0=mc.sf_0, B_sf=mc.B_sf, loggabor=mc.loggabor,\n",
    "                            theta=mc.theta, B_theta=mc.B_theta, alpha=mc.alpha):\n",
    "        \"\"\"\n",
    "        Returns the Motion Cloud kernel\n",
    "\n",
    "        \"\"\"\n",
    "        envelope = mc.envelope_gabor(fx, fy, ft, V_X=V_X, V_Y=V_Y,\n",
    "                                     B_V=B_V, sf_0=sf_0, B_sf=B_sf, loggabor=loggabor,\n",
    "                                     theta=theta, B_theta=B_theta, alpha=alpha)\n",
    "        envelope *= envelope_gravity(fx, fy, ft, B_wave=B_wave)\n",
    "        return envelope\n",
    "\n",
    "    B_v_low, B_v_high = .025, .1\n",
    "\n",
    "    mc_vague = envelope_gabor_wave(fx, fy, ft, V_X=1., V_Y=0., B_wave=B_v_low, B_V=B_V, theta=theta, B_theta=B_theta, sf_0=sf_0, B_sf=B_sf, alpha=alpha)\n",
    "    return mc.rectif(mc.random_cloud(mc_vague, seed=seed, impulse=impulse))\n",
    "\n",
    "class EdgeGrid(el.EdgeGrid):\n",
    "    def __init__(self, vague, x_offset=0, y_offset=0, t_offset=0, N_steps = 256, damp_tau=5., **kwargs):\n",
    "        #super(el.EdgeGrid.__init__(self))\n",
    "        #super(el.EdgeGrid, self).__init__(**kwargs)\n",
    "        el.EdgeGrid.__init__(self, **kwargs)\n",
    "        #print (self.verb, kwargs)\n",
    "        self.vague = vague\n",
    "        self.x_offset = x_offset\n",
    "        self.y_offset = y_offset\n",
    "        self.t_offset = t_offset\n",
    "        self.N_steps = N_steps\n",
    "        #print(self.x_offset, self.y_offset, self.t_offset)\n",
    "        #print(self.z.shape)\n",
    "        self.damp_tau = damp_tau\n",
    "        \n",
    "        \n",
    "    def update(self):\n",
    "        if self.structure: N_lame = self.N_lame-self.struct_N\n",
    "        else: N_lame = self.N_lame\n",
    "        damp = lambda t: 1. - np.exp(-np.abs(np.mod(t+self.period/2, self.period)-self.period/2)/self.damp_tau)\n",
    "\n",
    "        N_periods = 1\n",
    "        i = np.mod(np.int(self.t/self.period * self.vague.shape[2] / N_periods), self.vague.shape[2])\n",
    "        surface = np.zeros_like(self.lames[2, :N_lame])\n",
    "        #for k, amp in zip([-2, -1, 0, 1, 2], [.125, .25, .5, .25, .125]):\n",
    "        #    surface += amp * self.vague[self.x_offset:(self.x_offset+N_lame), self.y_offset, self.t_offset+i+k]\n",
    "        surface = self.vague[self.x_offset:(self.x_offset+N_lame), self.y_offset, self.t_offset+i]\n",
    "        surface = np.convolve(surface, np.arange(5), mode='same')\n",
    "        dsurface = np.gradient(surface)\n",
    "        dsurface *= np.bartlett(N_lame)\n",
    "        #print(dsurface.mean(), dsurface.max(), damp(self.t))\n",
    "        #dsurface /= np.abs(dsurface).max()\n",
    "        dsurface *= np.tan(np.pi/8) # maximum angle achieved\n",
    "        self.lames[2, :N_lame] = np.arctan(dsurface)*damp(self.t)\n",
    "        \n",
    "if __name__ == \"__main__\":\n",
    "    import sys\n",
    "    if len(sys.argv)>1: mode = sys.argv[1]\n",
    "    else: mode = 'both'\n",
    "        \n",
    "    vague_dense = make_vague(impulse=False)\n",
    "\n",
    "    period = 512./30\n",
    "    e = EdgeGrid(N_lame=25, grid_type='line', mode=mode,\n",
    "                 verb=False, period=period, filename='mat/line_vague_dense.npy', \n",
    "                 vague = vague_dense,\n",
    "                 x_offset=0, y_offset=0, t_offset=0, N_steps=512)\n",
    "\n",
    "    # running the code\n",
    "    el.main(e)\n"
   ]
  },
  {
   "cell_type": "code",
   "execution_count": null,
   "metadata": {
    "collapsed": false
   },
   "outputs": [],
   "source": [
    "%cd ..\n",
    "!rm mat/line_vague_dense.npy\n",
    "%run  scenario_line_vague.py writer\n",
    "%cd posts"
   ]
  },
  {
   "cell_type": "code",
   "execution_count": null,
   "metadata": {
    "collapsed": false
   },
   "outputs": [],
   "source": [
    "z = np.load('../mat/line_vague_dense.npy')\n",
    "print(z.shape)\n",
    "fig, ax = plt.subplots(figsize=(15, 3))\n",
    "#_ = ax.plot(z[:, 0])\n",
    "_ = ax.plot(z[:, 0], z[:, 1:])"
   ]
  },
  {
   "cell_type": "code",
   "execution_count": null,
   "metadata": {
    "collapsed": false,
    "scrolled": true
   },
   "outputs": [],
   "source": [
    "%%writefile ../scenario_line_vague_solo.py\n",
    "#!/usr/bin/env python\n",
    "# -*- coding: utf8 -*-\n",
    "\n",
    "import elasticite as el\n",
    "import numpy as np\n",
    "\n",
    "from scenario_line_vague import make_vague, EdgeGrid\n",
    "\n",
    "if __name__ == \"__main__\":\n",
    "    import sys\n",
    "    if len(sys.argv)>1: mode = sys.argv[1]\n",
    "    else: mode = 'both'\n",
    "    period = 512./30\n",
    "    vague_solo = make_vague(impulse=True)\n",
    "    e_solo = EdgeGrid(N_lame=25, grid_type='line', mode=mode,\n",
    "                 verb=False, period=period, filename='mat/line_vague_solo.npy', \n",
    "                 vague = vague_solo,\n",
    "                 x_offset=vague_solo.shape[0]//2-25//2, y_offset=vague_solo.shape[1]//2, \n",
    "                 t_offset=0, N_steps=512)#t_offset=vague_solo.shape[-1]*3//8, N_steps=vague_solo.shape[-1]//4)\n",
    "\n",
    "    # running the code\n",
    "    el.main(e_solo)"
   ]
  },
  {
   "cell_type": "code",
   "execution_count": null,
   "metadata": {
    "collapsed": false,
    "scrolled": true
   },
   "outputs": [],
   "source": [
    "%cd ..\n",
    "%run  scenario_line_vague_solo.py writer\n",
    "%cd posts"
   ]
  },
  {
   "cell_type": "code",
   "execution_count": null,
   "metadata": {
    "collapsed": false
   },
   "outputs": [],
   "source": [
    "\n",
    "z = np.load('../mat/line_vague_solo.npy')\n",
    "fig, ax = plt.subplots(figsize=(15, 3))\n",
    "#_ = ax.plot(z[:, 0])\n",
    "_ = ax.plot(z[:, 0], z[:, 1:])"
   ]
  },
  {
   "cell_type": "code",
   "execution_count": null,
   "metadata": {
    "collapsed": true
   },
   "outputs": [],
   "source": []
  },
  {
   "cell_type": "markdown",
   "metadata": {},
   "source": [
    "## git\n"
   ]
  },
  {
   "cell_type": "code",
   "execution_count": null,
   "metadata": {
    "collapsed": false
   },
   "outputs": [],
   "source": [
    "!git s"
   ]
  },
  {
   "cell_type": "code",
   "execution_count": null,
   "metadata": {
    "collapsed": false
   },
   "outputs": [],
   "source": [
    "!git commit -am' scenario vague '"
   ]
  },
  {
   "cell_type": "code",
   "execution_count": null,
   "metadata": {
    "collapsed": false
   },
   "outputs": [],
   "source": [
    "! git push\n"
   ]
  }
 ],
 "metadata": {
  "kernelspec": {
   "display_name": "Python 3",
   "language": "python",
   "name": "python3"
  },
  "language_info": {
   "codemirror_mode": {
    "name": "ipython",
    "version": 3
   },
   "file_extension": ".py",
   "mimetype": "text/x-python",
   "name": "python",
   "nbconvert_exporter": "python",
   "pygments_lexer": "ipython3",
   "version": "3.5.0"
  }
 },
 "nbformat": 4,
 "nbformat_minor": 0
}

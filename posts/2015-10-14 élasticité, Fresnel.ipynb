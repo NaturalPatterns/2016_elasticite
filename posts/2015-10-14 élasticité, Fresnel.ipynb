{
 "cells": [
  {
   "cell_type": "code",
   "execution_count": null,
   "metadata": {
    "collapsed": false
   },
   "outputs": [],
   "source": [
    "%load_ext autoreload\n",
    "%autoreload 2"
   ]
  },
  {
   "cell_type": "code",
   "execution_count": null,
   "metadata": {
    "collapsed": false
   },
   "outputs": [],
   "source": [
    "import elasticite as el\n",
    "import numpy as np\n",
    "#duration = el.get_default_args(el.EdgeGrid.render)['duration']"
   ]
  },
  {
   "cell_type": "code",
   "execution_count": null,
   "metadata": {
    "collapsed": false
   },
   "outputs": [],
   "source": [
    "import sys\n",
    "sys.path.append('..')\n",
    "from scenario_line_fresnel import EdgeGrid\n",
    "e = EdgeGrid(N_lame=25, grid_type='line', period=120)\n",
    "e.render(fps=30., duration=10, fname='../files/fresnel.mp4')"
   ]
  },
  {
   "cell_type": "code",
   "execution_count": null,
   "metadata": {
    "collapsed": false
   },
   "outputs": [],
   "source": [
    "from scenario_line_elastic_fresnel import EdgeGrid\n",
    "e = EdgeGrid(N_lame=25, grid_type='line', period=120)\n",
    "e.render(fps=30., duration=10, fname='../files/elastic_fresnel.mp4')"
   ]
  },
  {
   "cell_type": "markdown",
   "metadata": {},
   "source": [
    "## controls\n",
    "\n",
    "Le point focal bouge à gauche de l'observateur."
   ]
  },
  {
   "cell_type": "code",
   "execution_count": null,
   "metadata": {
    "collapsed": false
   },
   "outputs": [],
   "source": [
    "import elasticite as el\n",
    "import numpy as np\n",
    "\n",
    "duration = el.get_default_args(el.EdgeGrid.render)['duration']\n",
    "location = el.get_default_args(el.EdgeGrid.render)['location']\n",
    "\n",
    "\n",
    "class EdgeGrid(el.EdgeGrid):\n",
    "    def champ(self):\n",
    "        if self.structure: N_lame = self.N_lame-self.struct_N\n",
    "        else: N_lame = self.N_lame\n",
    "        tf = 2. #how many cycles in one period (duration)\n",
    "        force = np.zeros_like(self.lames[2, :N_lame])\n",
    "        damp = lambda t: 0.01 #* np.exp(np.cos(t / 6.) / 3.**2)\n",
    "        xf = lambda t: location[0] - self.total_width/4.\n",
    "        zf = lambda t: location[2] * (.5 + .45 * np.sin(2*np.pi*self.t*tf/duration))\n",
    "        \n",
    "        desired_angle = np.pi/2 + np.arctan2(self.lames[1, :N_lame]-zf(self.t), self.lames[0, :N_lame]-xf(self.t))\n",
    "        self.lames[2, :N_lame] = np.mod(self.lames[2, :N_lame]-np.pi/2, np.pi) + np.pi/2\n",
    "        force += np.mod(desired_angle-np.pi/2, np.pi) + np.pi/2- self.lames[2, :N_lame]\n",
    "        force -= damp(self.t) * self.lames[3, :N_lame]/self.dt\n",
    "        return 3. * force\n",
    "\n",
    "e = EdgeGrid(N_lame=25, grid_type='line')\n",
    "e.render(fps=50., duration=10, fname='../files/elastic_fresnel_gauche.mp4')"
   ]
  },
  {
   "cell_type": "markdown",
   "metadata": {},
   "source": [
    "Lateral movement from right to left"
   ]
  },
  {
   "cell_type": "code",
   "execution_count": null,
   "metadata": {
    "collapsed": false
   },
   "outputs": [],
   "source": [
    "class EdgeGrid(el.EdgeGrid):\n",
    "    def champ(self):\n",
    "        if self.structure: N_lame = self.N_lame-self.struct_N\n",
    "        else: N_lame = self.N_lame\n",
    "        tf = 2. #how many cycles in one period (duration)\n",
    "        force = np.zeros_like(self.lames[2, :N_lame])\n",
    "        damp = lambda t: 0.01 #* np.exp(np.cos(t / 6.) / 3.**2)\n",
    "        xf = lambda t: location[0] + 2. * np.sin(2*np.pi*self.t*tf/duration)\n",
    "        zf = lambda t: location[2]\n",
    "        \n",
    "        desired_angle = np.pi/2 + np.arctan2(self.lames[1, :N_lame]-zf(self.t), self.lames[0, :N_lame]-xf(self.t))\n",
    "        self.lames[2, :N_lame] = np.mod(self.lames[2, :N_lame]-np.pi/2, np.pi) + np.pi/2\n",
    "        force += np.mod(desired_angle-np.pi/2, np.pi) + np.pi/2- self.lames[2, :N_lame]\n",
    "        force -= damp(self.t) * self.lames[3, :N_lame]/self.dt\n",
    "        return 3. * force\n",
    "\n",
    "e = EdgeGrid(N_lame=25, grid_type='line')\n",
    "e.render(fps=50., duration=10, fname='../files/elastic_fresnel_lateral.mp4')"
   ]
  },
  {
   "cell_type": "markdown",
   "metadata": {},
   "source": [
    "Circular movement"
   ]
  },
  {
   "cell_type": "code",
   "execution_count": null,
   "metadata": {
    "collapsed": false
   },
   "outputs": [],
   "source": [
    "class EdgeGrid(el.EdgeGrid):\n",
    "    def champ(self):\n",
    "        if self.structure: N_lame = self.N_lame-self.struct_N\n",
    "        else: N_lame = self.N_lame\n",
    "        tf = 2. #how many cycles in one period (duration)\n",
    "        force = np.zeros_like(self.lames[2, :N_lame])\n",
    "        damp = lambda t: 0.01 #* np.exp(np.cos(t / 6.) / 3.**2)\n",
    "        xf = lambda t: location[0] + 2. * np.sin(2*np.pi*self.t*tf/duration)\n",
    "        zf = lambda t: location[2] * (.5 + .45 * np.sin(2*np.pi*self.t*tf/duration))\n",
    "        \n",
    "        desired_angle = np.pi/2 + np.arctan2(self.lames[1, :N_lame]-zf(self.t), self.lames[0, :N_lame]-xf(self.t))\n",
    "        self.lames[2, :N_lame] = np.mod(self.lames[2, :N_lame]-np.pi/2, np.pi) + np.pi/2\n",
    "        force += np.mod(desired_angle-np.pi/2, np.pi) + np.pi/2- self.lames[2, :N_lame]\n",
    "        force -= damp(self.t) * self.lames[3, :N_lame]/self.dt\n",
    "        return 3. * force\n",
    "\n",
    "e = EdgeGrid(N_lame=25, grid_type='line')\n",
    "e.render(fps=50., duration=10, fname='../files/elastic_fresnel_rot.mp4')"
   ]
  },
  {
   "cell_type": "markdown",
   "metadata": {},
   "source": [
    "Simulation des pas du moteur"
   ]
  },
  {
   "cell_type": "code",
   "execution_count": null,
   "metadata": {
    "collapsed": false
   },
   "outputs": [],
   "source": [
    "class EdgeGrid(el.EdgeGrid):\n",
    "    def champ(self):\n",
    "        if self.structure: N_lame = self.N_lame-self.struct_N\n",
    "        else: N_lame = self.N_lame\n",
    "        tf = 2. #how many cycles in one period (duration)\n",
    "        force = np.zeros_like(self.lames[2, :N_lame])\n",
    "        damp = lambda t: 0.01 #* np.exp(np.cos(t / 6.) / 3.**2)\n",
    "        xf = lambda t: location[0] #+ 2. * np.sin(2*np.pi*self.t*tf/duration)\n",
    "        zf = lambda t: location[2] * (.5 + .45 * np.sin(2*np.pi*self.t*tf/duration))\n",
    "        \n",
    "        desired_angle = np.pi/2 + np.arctan2(self.lames[1, :N_lame]-zf(self.t), self.lames[0, :N_lame]-xf(self.t))\n",
    "        self.lames[2, :N_lame] = np.mod(self.lames[2, :N_lame]-np.pi/2, np.pi) + np.pi/2\n",
    "        force += np.mod(desired_angle-np.pi/2, np.pi) + np.pi/2- self.lames[2, :N_lame]\n",
    "        force -= damp(self.t) * self.lames[3, :N_lame]/self.dt\n",
    "        return 3. * force\n",
    "\n",
    "    def update(self):\n",
    "        if self.structure: N_lame = self.N_lame-self.struct_N\n",
    "        else: N_lame = self.N_lame\n",
    "        self.lames[2, :N_lame] += self.lames[3, :N_lame]*self.dt/2\n",
    "        self.lames[3, :N_lame] += self.champ() * self.dt\n",
    "        self.lames[2, :N_lame] += self.lames[3, :N_lame]*self.dt/2\n",
    "        self.lames[2, :N_lame] = np.floor(self.lames[2, :N_lame] / np.pi* self.n_pas ) / self.n_pas * np.pi\n",
    "\n",
    "e = EdgeGrid(N_lame=25, grid_type='line')\n",
    "e.n_pas = 150.\n",
    "e.render(fps=50., duration=10, fname='../files/elastic_fresnel_pasapas.mp4')"
   ]
  },
  {
   "cell_type": "code",
   "execution_count": null,
   "metadata": {
    "collapsed": false
   },
   "outputs": [],
   "source": [
    "%%writefile ../scenario_line_contraint.py\n",
    "#!/usr/bin/env python\n",
    "# -*- coding: utf8 -*-\n",
    "\n",
    "\"\"\"\n",
    "\n",
    "Sur une ligne de lames, on fait tourner les lames avec un mouvement relativement élastique mais exogene (prédeterminé, pas émergent)\n",
    "\n",
    "\"\"\"\n",
    "\n",
    "import elasticite as el\n",
    "import numpy as np\n",
    "\n",
    "class EdgeGrid(el.EdgeGrid):\n",
    "    def update(self):\n",
    "        if self.structure: N_lame = self.N_lame-self.struct_N\n",
    "        else: N_lame = self.N_lame\n",
    "        self.lames[2, :N_lame] = 90.* np.pi/180. * np.sin(2*np.pi*(self.t)/self.period)\n",
    "\n",
    "if __name__ == \"__main__\":\n",
    "    import sys\n",
    "    if len(sys.argv)>1: mode = sys.argv[1]\n",
    "    else: mode = 'both'\n",
    "\n",
    "    #e = EdgeGrid(N_lame=25, grid_type='line', mode=mode, verb=False, period=30)\n",
    "    # to test writing / reading from a file\n",
    "    e = EdgeGrid(N_lame=25, grid_type='line', mode=mode, verb=True, period=30, filename='/tmp/line_contraint.npy')\n",
    "    el.main(e)\n"
   ]
  },
  {
   "cell_type": "code",
   "execution_count": null,
   "metadata": {
    "collapsed": false
   },
   "outputs": [],
   "source": [
    "%%writefile ../scenario_line_elastic_fresnel.py\n",
    "#!/usr/bin/env python\n",
    "# -*- coding: utf8 -*-\n",
    "\n",
    "\"\"\"\n",
    "\n",
    "Sur une ligne de lames, on fait tourner les lames avec un mouvement relativement élastique mais exogene (prédeterminé, pas émergent)\n",
    "\n",
    "\"\"\"\n",
    "\n",
    "import elasticite as el\n",
    "import numpy as np\n",
    "\n",
    "duration = el.get_default_args(el.EdgeGrid.render)['duration']\n",
    "location = el.get_default_args(el.EdgeGrid.render)['location']\n",
    "\n",
    "class EdgeGrid(el.EdgeGrid):\n",
    "    def champ(self):\n",
    "        if self.structure: N_lame = self.N_lame-self.struct_N\n",
    "        else: N_lame = self.N_lame\n",
    "\n",
    "        force = np.zeros_like(self.lames[2, :N_lame])\n",
    "        damp_min = 0.01\n",
    "        damp_tau = 1.5\n",
    "        damp_angle_tau = 14.\n",
    "        damp = lambda t: damp_min + (1.-damp_min)*np.exp(-np.abs(np.mod(t+self.period/2, self.period)-self.period/2)/damp_tau)\n",
    "        damp_angle = lambda t: 1.-np.exp(-(np.mod(t+self.period/2, self.period)-self.period/2)**2/2/damp_angle_tau**2)\n",
    "        xf = lambda t: location[0]\n",
    "        zf = lambda t: location[2] + 3.5 * np.sin(2*np.pi*(t)/self.period)\n",
    "        smooth_tau = 15\n",
    "        smooth = lambda t: 1.-np.exp(-np.abs(np.mod(t+self.period/2, self.period)-self.period/2)**2/smooth_tau**2)\n",
    "        \n",
    "        desired_angle = np.arctan2(self.lames[1, :N_lame]-zf(self.t), self.lames[0, :N_lame]-xf(self.t)) - np.pi/2\n",
    "        # self.lames[2, :N_lame] = np.mod(self.lames[2, :]-np.pi/2, np.pi) + np.pi/2\n",
    "        #print (damp_angle(self.t), desired_angle)\n",
    "        force += (damp_angle(self.t)*(np.mod(desired_angle+np.pi/2, np.pi) - np.pi/2) - self.lames[2, :N_lame]) *smooth(self.t)\n",
    "        force -= 12 * (np.mod(self.lames[2, :N_lame]+np.pi/2, np.pi) - np.pi/2) * (1- smooth(self.t) )\n",
    "        #print (force)\n",
    "        force -= damp(self.t) * self.lames[3, :N_lame]/self.dt\n",
    "        #force *= damp_force(self.t) #* self.lames[3, :N_lame]/self.dt\n",
    "#         print (damp(self.t), self.t, self.period)\n",
    "        return 3. * force\n",
    "\n",
    "if __name__ == \"__main__\":\n",
    "    import sys\n",
    "    if len(sys.argv)>1: mode = sys.argv[1]\n",
    "    else: mode = 'both'\n",
    "    filename = None\n",
    "    filename = 'mat/line_fresnelastique.npy'\n",
    "    e = EdgeGrid(N_lame=25, grid_type='line', mode=mode, verb=False, filename=filename, period=120.)\n",
    "    el.main(e)\n",
    "\n",
    "    "
   ]
  },
  {
   "cell_type": "code",
   "execution_count": null,
   "metadata": {
    "collapsed": false
   },
   "outputs": [],
   "source": [
    "%cd ..\n",
    "!rm mat/line_fresnelastique.npy\n",
    "%run  scenario_line_elastic_fresnel.py writer\n",
    "%cd posts"
   ]
  },
  {
   "cell_type": "code",
   "execution_count": null,
   "metadata": {
    "collapsed": false
   },
   "outputs": [],
   "source": [
    "import matplotlib\n",
    "matplotlib.use('nbagg')\n",
    "%matplotlib inline\n",
    "import matplotlib.pyplot as plt\n",
    "\n",
    "z = np.load('../mat/line_fresnelastique.npy')\n",
    "fig, ax = plt.subplots(figsize=(15, 3))\n",
    "#_ = ax.plot(z[:, 0])\n",
    "_ = ax.plot(z[:, 0], z[:, 1:])"
   ]
  },
  {
   "cell_type": "code",
   "execution_count": null,
   "metadata": {
    "collapsed": false
   },
   "outputs": [],
   "source": [
    "%%writefile ../scenario_line_elastic_fresnel_chirp.py\n",
    "#!/usr/bin/env python\n",
    "# -*- coding: utf8 -*-\n",
    "\n",
    "\"\"\"\n",
    "\n",
    "Sur une ligne de lames, on fait tourner les lames avec un mouvement relativement élastique mais exogene (prédeterminé, pas émergent)\n",
    "\n",
    "\"\"\"\n",
    "\n",
    "import elasticite as el\n",
    "import numpy as np\n",
    "\n",
    "duration = el.get_default_args(el.EdgeGrid.render)['duration']\n",
    "location = el.get_default_args(el.EdgeGrid.render)['location']\n",
    "\n",
    "\n",
    "class EdgeGrid(el.EdgeGrid):\n",
    "    def champ(self):\n",
    "        if self.structure: N_lame = self.N_lame-self.struct_N\n",
    "        else: N_lame = self.N_lame\n",
    "\n",
    "        force = np.zeros_like(self.lames[2, :N_lame])\n",
    "        damp_min = 0.01\n",
    "        damp_tau = 1.5\n",
    "        damp_angle_tau = 8.\n",
    "        damp_chirp_tau = 20.\n",
    "        damp = lambda t: damp_min + (1.-damp_min)*np.exp(-np.abs(np.mod(t+self.period/2, self.period)-self.period/2)/damp_tau)\n",
    "        damp_angle = lambda t: 1.-np.exp(-(np.mod(t+self.period/2, self.period)-self.period/2)**2/2/damp_angle_tau**2)\n",
    "        xf = lambda t: location[0]\n",
    "        freq = lambda t: 4 +  100*np.exp(-np.abs(t/damp_chirp_tau))\n",
    "        chirp = lambda t: np.sin(2*np.pi*t/self.period * freq(t))\n",
    "        amp = lambda t: 1 - np.exp(-np.abs(t/damp_chirp_tau))\n",
    "        zf = lambda t: location[2] + 3.5 * amp(t) * chirp(t)\n",
    "\n",
    "        smooth_tau = 15\n",
    "        smooth = lambda t: 1.-np.exp(-np.abs(np.mod(t+self.period/2, self.period)-self.period/2)**2/smooth_tau**2)\n",
    "        \n",
    "        #print(freq(self.t), damp(self.t))\n",
    "        desired_angle = np.arctan2(self.lames[1, :N_lame]-zf(self.t), self.lames[0, :N_lame]-xf(self.t)) - np.pi/2\n",
    "        force += (damp_angle(self.t)*(np.mod(desired_angle+np.pi/2, np.pi) - np.pi/2) - self.lames[2, :N_lame]) *smooth(self.t)\n",
    "        force -= 12 * (np.mod(self.lames[2, :N_lame]+np.pi/2, np.pi) - np.pi/2) * (1- smooth(self.t) )\n",
    "        force -= damp(self.t) * self.lames[3, :N_lame]/self.dt\n",
    "        return 3. * force\n",
    "\n",
    "if __name__ == \"__main__\":\n",
    "    import sys\n",
    "    if len(sys.argv)>1: mode = sys.argv[1]\n",
    "    else: mode = 'both'\n",
    "    filename = None\n",
    "    filename = 'mat/line_fresnelastique_chirp.npy'\n",
    "    e = EdgeGrid(N_lame=25, grid_type='line', mode=mode, verb=False, filename=filename, period=120.)\n",
    "    el.main(e)\n",
    "\n",
    "    "
   ]
  },
  {
   "cell_type": "code",
   "execution_count": null,
   "metadata": {
    "collapsed": false,
    "scrolled": false
   },
   "outputs": [],
   "source": [
    "%cd ..\n",
    "!rm mat/line_fresnelastique_chirp.npy\n",
    "%run  scenario_line_elastic_fresnel_chirp.py writer\n",
    "!ls -ltr mat/line_fresnelastique_chirp.npy\n",
    "%cd posts"
   ]
  },
  {
   "cell_type": "code",
   "execution_count": null,
   "metadata": {
    "collapsed": false,
    "scrolled": true
   },
   "outputs": [],
   "source": [
    "z = np.load('../mat/line_fresnelastique_chirp.npy')\n",
    "fig, ax = plt.subplots(figsize=(15, 3))\n",
    "#_ = ax.plot(z[:, 0])\n",
    "_ = ax.plot(z[:, 0], z[:, 1:])"
   ]
  },
  {
   "cell_type": "code",
   "execution_count": null,
   "metadata": {
    "collapsed": false
   },
   "outputs": [],
   "source": [
    "%%writefile ../scenario_line_elastic_fresnel_choc.py\n",
    "#!/usr/bin/env python\n",
    "# -*- coding: utf8 -*-\n",
    "\n",
    "\"\"\"\n",
    "\n",
    "Sur une ligne de lames, on fait tourner les lames avec un mouvement relativement élastique mais exogene (prédeterminé, pas émergent)\n",
    "\n",
    "\"\"\"\n",
    "\n",
    "import elasticite as el\n",
    "import numpy as np\n",
    "\n",
    "duration = el.get_default_args(el.EdgeGrid.render)['duration']\n",
    "location = el.get_default_args(el.EdgeGrid.render)['location']\n",
    "\n",
    "\n",
    "class EdgeGrid(el.EdgeGrid):\n",
    "    def champ(self):\n",
    "        if self.structure: N_lame = self.N_lame-self.struct_N\n",
    "        else: N_lame = self.N_lame\n",
    "\n",
    "        force = np.zeros_like(self.lames[2, :N_lame])\n",
    "        damp_min = 0.01\n",
    "        damp_tau = 1.5\n",
    "        damp_angle_tau = 8.\n",
    "        damp_chirp_tau = 20.\n",
    "        damp = lambda t: damp_min + (1.-damp_min)*np.exp(-np.abs(np.mod(t+self.period/2, self.period)-self.period/2)/damp_tau)\n",
    "        damp_angle = lambda t: 1.-np.exp(-(np.mod(t+self.period/2, self.period)-self.period/2)**2/2/damp_angle_tau**2)\n",
    "        step_angle = lambda t: 1.*(t < 3*self.period/4)\n",
    "        xf = lambda t: location[0]\n",
    "        freq = lambda t: 4 +  100*np.exp(-np.abs(t/damp_chirp_tau))\n",
    "        chirp = lambda t: np.sin(2*np.pi*t/self.period * freq(t))\n",
    "        amp = lambda t: 1 - np.exp(-np.abs(t/damp_chirp_tau))\n",
    "        zf = lambda t: location[2] + 3.5 * amp(t) * chirp(t) * step_angle(t)\n",
    "\n",
    "        smooth_tau = 15\n",
    "        smooth = lambda t: 1.-np.exp(-np.abs(np.mod(t+self.period/2, self.period)-self.period/2)**2/smooth_tau**2)\n",
    "        force -= 12 * (np.mod(self.lames[2, :N_lame]+np.pi/2, np.pi) - np.pi/2) * (1- smooth(self.t) )\n",
    "        \n",
    "        #print(freq(self.t), damp(self.t))\n",
    "        desired_angle = np.arctan2(self.lames[1, :N_lame]-zf(self.t), self.lames[0, :N_lame]-xf(self.t)) - np.pi/2\n",
    "        force += (damp_angle(self.t)*(np.mod(desired_angle+np.pi/2, np.pi) - np.pi/2) - self.lames[2, :N_lame]) *smooth(self.t)\n",
    "        force -= damp(self.t) * self.lames[3, :N_lame]/self.dt\n",
    "        return 3. * force\n",
    "\n",
    "if __name__ == \"__main__\":\n",
    "    import sys\n",
    "    if len(sys.argv)>1: mode = sys.argv[1]\n",
    "    else: mode = 'both'\n",
    "    filename = None\n",
    "    filename = 'mat/line_fresnelastique_choc.npy'\n",
    "    e = EdgeGrid(N_lame=25, grid_type='line', mode=mode, verb=False, filename=filename, period=120.)\n",
    "    el.main(e)\n",
    "\n",
    "    "
   ]
  },
  {
   "cell_type": "code",
   "execution_count": null,
   "metadata": {
    "collapsed": false,
    "scrolled": true
   },
   "outputs": [],
   "source": [
    "%cd ..\n",
    "!rm mat/line_fresnelastique_choc.npy\n",
    "%run  scenario_line_elastic_fresnel_choc.py writer\n",
    "!ls -ltr mat/line_fresnelastique_choc.npy\n",
    "%cd posts"
   ]
  },
  {
   "cell_type": "code",
   "execution_count": null,
   "metadata": {
    "collapsed": false,
    "scrolled": true
   },
   "outputs": [],
   "source": [
    "z = np.load('../mat/line_fresnelastique_choc.npy')\n",
    "fig, ax = plt.subplots(figsize=(15, 3))\n",
    "#_ = ax.plot(z[:, 0])\n",
    "_ = ax.plot(z[:, 0], z[:, 1:])"
   ]
  },
  {
   "cell_type": "markdown",
   "metadata": {},
   "source": [
    "## git"
   ]
  },
  {
   "cell_type": "code",
   "execution_count": null,
   "metadata": {
    "collapsed": false,
    "scrolled": true
   },
   "outputs": [],
   "source": [
    "!git s"
   ]
  },
  {
   "cell_type": "code",
   "execution_count": null,
   "metadata": {
    "collapsed": false
   },
   "outputs": [],
   "source": [
    "!git commit -m' scenario fresnel ' -a"
   ]
  },
  {
   "cell_type": "code",
   "execution_count": null,
   "metadata": {
    "collapsed": false
   },
   "outputs": [],
   "source": [
    "! git push"
   ]
  }
 ],
 "metadata": {
  "kernelspec": {
   "display_name": "Python 3",
   "language": "python",
   "name": "python3"
  },
  "language_info": {
   "codemirror_mode": {
    "name": "ipython",
    "version": 3
   },
   "file_extension": ".py",
   "mimetype": "text/x-python",
   "name": "python",
   "nbconvert_exporter": "python",
   "pygments_lexer": "ipython3",
   "version": "3.5.0"
  }
 },
 "nbformat": 4,
 "nbformat_minor": 0
}

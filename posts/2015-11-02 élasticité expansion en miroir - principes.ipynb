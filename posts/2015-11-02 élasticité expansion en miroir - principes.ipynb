{
 "cells": [
  {
   "cell_type": "code",
   "execution_count": null,
   "metadata": {
    "collapsed": false
   },
   "outputs": [],
   "source": [
    "%load_ext autoreload\n",
    "%autoreload 2"
   ]
  },
  {
   "cell_type": "code",
   "execution_count": null,
   "metadata": {
    "collapsed": false
   },
   "outputs": [],
   "source": [
    "import elasticite as el\n",
    "import numpy as np\n",
    "duration = el.get_default_args(el.EdgeGrid.render)['duration']"
   ]
  },
  {
   "cell_type": "code",
   "execution_count": null,
   "metadata": {
    "collapsed": false
   },
   "outputs": [],
   "source": [
    "import sys\n",
    "sys.path.append('..')\n",
    "from scenario_line_fresnel import EdgeGrid\n",
    "e = EdgeGrid(N_lame=25, grid_type='line')"
   ]
  },
  {
   "cell_type": "code",
   "execution_count": null,
   "metadata": {
    "collapsed": false
   },
   "outputs": [],
   "source": [
    "e.lames.shape"
   ]
  },
  {
   "cell_type": "markdown",
   "metadata": {},
   "source": [
    "## Point-Line Distance--2-Dimensional\n",
    "\n",
    "See http://mathworld.wolfram.com/Point-LineDistance2-Dimensional.html\n"
   ]
  },
  {
   "cell_type": "code",
   "execution_count": null,
   "metadata": {
    "collapsed": false
   },
   "outputs": [],
   "source": [
    "%matplotlib inline\n",
    "%config InlineBackend.figure_format='retina'\n",
    "#%config InlineBackend.figure_format = 'svg'\n",
    "import matplotlib.pyplot as plt\n",
    "import numpy as np\n",
    "np.set_printoptions(precision=2, suppress=True)"
   ]
  },
  {
   "cell_type": "code",
   "execution_count": null,
   "metadata": {
    "collapsed": false
   },
   "outputs": [],
   "source": [
    "particles = np.array([[.2, .3], [-.5, 1.1], [.3, .9]]).T\n",
    "fig = plt.figure(figsize=(5, 5))\n",
    "border = 0.0\n",
    "ax = fig.add_axes((border, border, 1.-2*border, 1.-2*border), axisbg='w')\n",
    "ax.plot(particles[0, 0], particles[1, 0], 'b+')\n",
    "ax.plot(particles[0, 1:], particles[1, 1:], 'r')\n",
    "ax.set_xlim([-1, 1])\n",
    "ax.set_ylim([0, 2])\n",
    "print(particles)"
   ]
  },
  {
   "cell_type": "markdown",
   "metadata": {},
   "source": [
    "projection du point sur la droite"
   ]
  },
  {
   "cell_type": "code",
   "execution_count": null,
   "metadata": {
    "collapsed": false
   },
   "outputs": [],
   "source": [
    "particles = np.array([[.2, 1.4], [-.5, 1.], [.4, 1.]]).T\n",
    "particles = np.array([[.2, 1.5], [-.5, .8], [.3, .9]]).T\n",
    "print(particles)\n",
    "P = particles[:, 0].copy()\n",
    "print(P)\n",
    "print(np.dot(particles[:, 1:].T, np.array([[0, 1], [-1, 0]])))\n",
    "perp = np.zeros_like(P)\n",
    "perp[0] = particles[1, 2] - particles[1, 1]\n",
    "perp[1] = -(particles[0, 2] - particles[0, 1])\n",
    "print(perp)\n",
    "# distance to the line\n",
    "d = perp[0]*(particles[0, 1] - particles[0, 0]) + perp[1]*(particles[1, 1] - particles[1, 0])\n",
    "print(d, np.sqrt(perp[0]**2 + perp[1]**2), d/np.sqrt(perp[0]**2 + perp[1]**2))\n",
    "# normalizing\n",
    "#perp /= np.sqrt((perp**2).sum())\n",
    "#perp /= np.sqrt(perp[0]**2 + perp[1]**2)\n",
    "P += d * perp / (perp[0]**2 + perp[1]**2)\n",
    "fig = plt.figure(figsize=(5, 5))\n",
    "border = 0.0\n",
    "ax = fig.add_axes((border, border, 1.-2*border, 1.-2*border), axisbg='w')\n",
    "ax.plot(particles[0, 0], particles[1, 0], 'b+')\n",
    "ax.plot(particles[0, 1:], particles[1, 1:], 'r')\n",
    "ax.plot(P[0], P[1], 'gs')\n",
    "ax.set_xlim([-1, 1])\n",
    "ax.set_ylim([0, 2])\n",
    "print(P)"
   ]
  },
  {
   "cell_type": "markdown",
   "metadata": {},
   "source": [
    "shorter form"
   ]
  },
  {
   "cell_type": "code",
   "execution_count": null,
   "metadata": {
    "collapsed": false
   },
   "outputs": [],
   "source": [
    "particles = np.array([[.2, 1.4], [-.5, 1.], [.4, 1.]]).T\n",
    "particles = np.array([[.2, 1.5], [-.5, .8], [.3, .9]]).T\n",
    "perp = np.array([particles[1, 2] - particles[1, 1], -(particles[0, 2] - particles[0, 1])])\n",
    "# distance to the line\n",
    "d = perp[0]*(particles[0, 1] - particles[0, 0]) + perp[1]*(particles[1, 1] - particles[1, 0])\n",
    "P =  particles[:, 0] + d * perp / (perp**2).sum()\n",
    "\n",
    "fig = plt.figure(figsize=(5, 5))\n",
    "border = 0.0\n",
    "ax = fig.add_axes((border, border, 1.-2*border, 1.-2*border), axisbg='w')\n",
    "ax.plot(particles[0, 0], particles[1, 0], 'b+')\n",
    "ax.plot(particles[0, 1:], particles[1, 1:], 'r')\n",
    "ax.plot(P[0], P[1], 'gs')\n",
    "ax.set_xlim([-1, 1])\n",
    "ax.set_ylim([0, 2])\n",
    "print(P)"
   ]
  },
  {
   "cell_type": "markdown",
   "metadata": {},
   "source": [
    "deducing the mirror image as twice this projection"
   ]
  },
  {
   "cell_type": "code",
   "execution_count": null,
   "metadata": {
    "collapsed": false
   },
   "outputs": [],
   "source": [
    "particles = np.array([[.2, 1.4], [-.5, 1.], [.4, 1.]]).T\n",
    "particles = np.array([[.2, 1.5], [-.5, .8], [.3, .9]]).T\n",
    "perp = np.array([particles[1, 2] - particles[1, 1], -(particles[0, 2] - particles[0, 1])])\n",
    "# distance to the line\n",
    "d = perp[0]*(particles[0, 1] - particles[0, 0]) + perp[1]*(particles[1, 1] - particles[1, 0])\n",
    "P =  particles[:, 0] + 2 *d * perp / (perp**2).sum()\n",
    "\n",
    "fig = plt.figure(figsize=(5, 5))\n",
    "border = 0.0\n",
    "ax = fig.add_axes((border, border, 1.-2*border, 1.-2*border), axisbg='w')\n",
    "ax.plot(particles[0, 0], particles[1, 0], 'b+')\n",
    "ax.plot(particles[0, 1:], particles[1, 1:], 'r')\n",
    "ax.plot(P[0], P[1], 'gs')\n",
    "ax.set_xlim([-1, 1])\n",
    "ax.set_ylim([0, 2])\n",
    "print(P)"
   ]
  },
  {
   "cell_type": "markdown",
   "metadata": {},
   "source": [
    "a function"
   ]
  },
  {
   "cell_type": "code",
   "execution_count": null,
   "metadata": {
    "collapsed": false
   },
   "outputs": [],
   "source": [
    "particles.T.tolist()"
   ]
  },
  {
   "cell_type": "code",
   "execution_count": null,
   "metadata": {
    "collapsed": false,
    "scrolled": true
   },
   "outputs": [],
   "source": [
    "particles = np.array([[-.5, .5],[.2, 1.5], [-.5, .8], [.3, .9]]).T\n",
    "particles = np.random.rand(2, 10)\n",
    "print(particles)\n",
    "segment = np.array([[-.5, .5], [.5, 1.5]]).T\n",
    "print(segment)\n",
    "def mirror(particles, segment, alpha=1.):\n",
    "    mirror = particles.copy()\n",
    "    perp = np.array([segment[1][1] - segment[1][0], -(segment[0][1] - segment[0][0])])\n",
    "    # distance to the line\n",
    "    d = perp[0]*(segment[0][1] - particles[0, :]) + perp[1]*(segment[1, 1] - particles[1, :])\n",
    "    mirror[:2, :] =  particles[:2, :] + 2. * d[np.newaxis, :] * perp[:, np.newaxis] / (perp**2).sum()\n",
    "    if mirror.shape[0]>2: mirror[2, :] =  alpha * particles[2, :]\n",
    "    #ind = 1-(d == np.zeros_like(d))\n",
    "    return mirror#[:, ind]\n",
    "\n",
    "particles_mirror = mirror(particles, segment)\n",
    "\n",
    "fig = plt.figure(figsize=(5, 5))\n",
    "border = 0.0\n",
    "ax = fig.add_axes((border, border, 1.-2*border, 1.-2*border), axisbg='w')\n",
    "ax.plot(particles[0, :], particles[1, :], 'b+')\n",
    "ax.plot(segment[0, :], segment[1, :], 'r')\n",
    "ax.plot(particles_mirror[0, :], particles_mirror[1, :], 'g+')\n",
    "ax.plot(np.vstack((particles[0, :], particles_mirror[0, :])), np.vstack((particles[1, :], particles_mirror[1, :])), 'k--')\n",
    "ax.set_xlim([-1, 1])\n",
    "ax.set_ylim([0, 2])\n",
    "print(particles_mirror)"
   ]
  },
  {
   "cell_type": "markdown",
   "metadata": {},
   "source": [
    "## miroir d'une image et image d'un miroir\n",
    "\n",
    "peut on simuler de façon équivalente plusieurs reflections en utilisant le miroir d'un segment"
   ]
  },
  {
   "cell_type": "code",
   "execution_count": null,
   "metadata": {
    "collapsed": false
   },
   "outputs": [],
   "source": [
    "particles = np.array([[-.5, .5],[.2, 1.5], [-.5, .8], [.3, .9]]).T\n",
    "particles = np.random.rand(2, 10)\n",
    "print(particles)\n",
    "segmentA = np.array([[-.5, .5], [.5, 1.5]]).T\n",
    "segmentB = np.array([[-0., 0.], [.0, 2.]]).T\n",
    "print(segmentA, segmentB)\n",
    "\n",
    "particles_mirrorA = mirror(particles, segmentA)\n",
    "particles_mirrorAB = mirror(particles_mirrorA, segmentB)\n",
    "segmentB_mirrorA = mirror(segmentA, segmentB)\n",
    "particles_mirrorAB_ = mirror(particles, segmentB_mirrorA)\n",
    "\n",
    "fig = plt.figure(figsize=(15, 15))\n",
    "border = 0.0\n",
    "ax = fig.add_axes((border, border, 1.-2*border, 1.-2*border), axisbg='w')\n",
    "ax.plot(particles[0, :], particles[1, :], 'bo')\n",
    "ax.plot(segmentA[0, :], segmentA[1, :], 'r')\n",
    "ax.plot(segmentB[0, :], segmentB[1, :], 'b')\n",
    "ax.plot(segmentB_mirrorA[0, :], segmentB_mirrorA[1, :], 'b--')\n",
    "ax.plot(particles_mirrorA[0, :], particles_mirrorA[1, :], 'go')\n",
    "ax.plot(particles_mirrorAB[0, :], particles_mirrorAB[1, :], 'g+')\n",
    "ax.plot(particles_mirrorAB_[0, :], particles_mirrorAB_[1, :], 'gx')\n",
    "ax.plot(np.vstack((particles_mirrorA[0, :], particles_mirrorAB[0, :])), np.vstack((particles_mirrorA[1, :], particles_mirrorAB[1, :])), 'k--')\n",
    "ax.plot(np.vstack((particles[0, :], particles_mirrorAB_[0, :])), np.vstack((particles[1, :], particles_mirrorAB_[1, :])), 'k-.')\n",
    "ax.set_xlim([-1, 1])\n",
    "ax.set_ylim([0, 2])\n",
    "print(particles_mirror)"
   ]
  },
  {
   "cell_type": "markdown",
   "metadata": {},
   "source": [
    "# on applique maintenant à la structure\n",
    "\n",
    "la structure est représentée par une liste de segments sur lesquels on a tiré des points "
   ]
  },
  {
   "cell_type": "code",
   "execution_count": null,
   "metadata": {
    "collapsed": false
   },
   "outputs": [],
   "source": [
    "import elasticite as el\n",
    "import numpy as np\n",
    "\n",
    "e = el.EdgeGrid(N_lame=25, grid_type='line')\n",
    "e.sample_structure()\n",
    "fig, ax = e.plot_structure()\n",
    "print(e.do_structure())"
   ]
  },
  {
   "cell_type": "code",
   "execution_count": null,
   "metadata": {
    "collapsed": false
   },
   "outputs": [],
   "source": [
    "segments = e.structure_as_segments()\n",
    "print(segments)"
   ]
  },
  {
   "cell_type": "code",
   "execution_count": null,
   "metadata": {
    "collapsed": false
   },
   "outputs": [],
   "source": [
    "e = el.EdgeGrid(N_lame=25, grid_type='line')\n",
    "e.sample_structure()\n",
    "alpha = .8\n",
    "particles = e.particles.copy()\n",
    "particles_mirror = particles.copy()\n",
    "for segment in segments:\n",
    "    particles_mirror = np.hstack((particles_mirror, mirror(particles, segment, alpha)))\n",
    "    #print(particles_mirror.shape)#, mirror(e.particles, np.array(segment))).shape)\n",
    "\n",
    "e.particles = particles_mirror\n",
    "fig, ax = e.plot_structure()"
   ]
  },
  {
   "cell_type": "code",
   "execution_count": null,
   "metadata": {
    "collapsed": false
   },
   "outputs": [],
   "source": [
    "alpha *= .8\n",
    "particles = e.particles.copy()\n",
    "particles_mirror = particles.copy()\n",
    "for segment in segments:\n",
    "    particles_mirror = np.hstack((particles_mirror, mirror(particles, np.array(segment), alpha)))\n",
    "    #print(particles_mirror.shape)#, mirror(e.particles, np.array(segment))).shape)\n",
    "\n",
    "e.particles = particles_mirror\n",
    "fig, ax = e.plot_structure()"
   ]
  },
  {
   "cell_type": "code",
   "execution_count": null,
   "metadata": {
    "collapsed": false
   },
   "outputs": [],
   "source": [
    "alpha *= .8\n",
    "particles = e.particles.copy()\n",
    "particles_mirror = particles.copy()\n",
    "for segment in segments:\n",
    "    particles_mirror = np.hstack((particles_mirror, mirror(particles, np.array(segment), alpha)))\n",
    "    #print(particles_mirror.shape)#, mirror(e.particles, np.array(segment))).shape)\n",
    "\n",
    "    \n",
    "e.total_width *= 1.6\n",
    "e.particles = particles_mirror\n",
    "fig, ax = e.plot_structure()"
   ]
  },
  {
   "cell_type": "markdown",
   "metadata": {},
   "source": [
    "Summming up everything in a few functions:\n"
   ]
  },
  {
   "cell_type": "code",
   "execution_count": null,
   "metadata": {
    "collapsed": false
   },
   "outputs": [],
   "source": [
    "e = el.EdgeGrid(N_lame=25, grid_type='line')\n",
    "e.sample_structure()\n",
    "fig, ax = e.plot_structure()"
   ]
  },
  {
   "cell_type": "code",
   "execution_count": null,
   "metadata": {
    "collapsed": false
   },
   "outputs": [],
   "source": [
    "e = el.EdgeGrid(N_lame=25, grid_type='line')\n",
    "e.sample_structure(N_mirror=1, alpha = .8)\n",
    "e.total_width *= 1.6\n",
    "fig, ax = e.plot_structure()"
   ]
  },
  {
   "cell_type": "code",
   "execution_count": null,
   "metadata": {
    "collapsed": false
   },
   "outputs": [],
   "source": [
    "e = el.EdgeGrid(N_lame=25, grid_type='line')\n",
    "e.sample_structure(N_mirror=2, alpha = .8)\n",
    "fig, ax = e.plot_structure()"
   ]
  },
  {
   "cell_type": "code",
   "execution_count": null,
   "metadata": {
    "collapsed": false
   },
   "outputs": [],
   "source": [
    "e = el.EdgeGrid(N_lame=25, grid_type='line')\n",
    "e.sample_structure(N_mirror=3, alpha = .5)\n",
    "fig, ax = e.plot_structure()"
   ]
  },
  {
   "cell_type": "markdown",
   "metadata": {},
   "source": [
    "## git\n"
   ]
  },
  {
   "cell_type": "code",
   "execution_count": null,
   "metadata": {
    "collapsed": false
   },
   "outputs": [],
   "source": [
    "!git s\n",
    "#!git add 2015-11-02\\ élasticité\\ expansion\\ en\\ m*"
   ]
  },
  {
   "cell_type": "code",
   "execution_count": null,
   "metadata": {
    "collapsed": false
   },
   "outputs": [],
   "source": [
    "!git commit -am' expansion - miroir de la structure - principes'"
   ]
  },
  {
   "cell_type": "code",
   "execution_count": null,
   "metadata": {
    "collapsed": false
   },
   "outputs": [],
   "source": [
    "! git push\n"
   ]
  }
 ],
 "metadata": {
  "kernelspec": {
   "display_name": "Python 3",
   "language": "python",
   "name": "python3"
  },
  "language_info": {
   "codemirror_mode": {
    "name": "ipython",
    "version": 3
   },
   "file_extension": ".py",
   "mimetype": "text/x-python",
   "name": "python",
   "nbconvert_exporter": "python",
   "pygments_lexer": "ipython3",
   "version": "3.5.0"
  }
 },
 "nbformat": 4,
 "nbformat_minor": 0
}

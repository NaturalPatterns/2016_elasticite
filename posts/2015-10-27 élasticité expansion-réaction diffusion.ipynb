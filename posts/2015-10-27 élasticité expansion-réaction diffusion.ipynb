{
 "cells": [
  {
   "cell_type": "code",
   "execution_count": null,
   "metadata": {
    "collapsed": false
   },
   "outputs": [],
   "source": [
    "%load_ext autoreload\n",
    "%autoreload 2"
   ]
  },
  {
   "cell_type": "code",
   "execution_count": null,
   "metadata": {
    "collapsed": true
   },
   "outputs": [],
   "source": [
    "import elasticite as el\n",
    "import numpy as np\n",
    "np.set_printoptions(precision=2, suppress=True)\n",
    "import matplotlib.pyplot as plt"
   ]
  },
  {
   "cell_type": "code",
   "execution_count": null,
   "metadata": {
    "collapsed": false
   },
   "outputs": [],
   "source": [
    "class EdgeGrid(el.EdgeGrid):\n",
    "    def update_particles(self):\n",
    "        self.particles[2,:] =  np.cos((self.t + np.linspace(0, 1., self.N_particles))*2*np.pi)\n",
    "\n",
    "    def update(self):\n",
    "        self.update_particles()\n",
    "\n",
    "e = EdgeGrid(N_lame=25, grid_type='line')\n",
    "e.animate()"
   ]
  },
  {
   "cell_type": "code",
   "execution_count": null,
   "metadata": {
    "collapsed": false
   },
   "outputs": [],
   "source": [
    "CC = e.particles[:, :, np.newaxis]-e.particles[:, np.newaxis, :] # 2xNxN ; en metres\n",
    "distance = np.sqrt(np.sum(CC**2, axis=0))# NxN ; en metres\n",
    "print(distance)\n",
    "print(np.tanh(np.linspace(-2, 2, 15)))\n",
    "d_min, d_max = .2, 1.\n",
    "f = lambda d: 900./ e.N_particles* (np.exp(-d/d_max)/d_max - np.exp(-d/d_min)/d_min)\n",
    "print(f(np.linspace(0, 2, 15)))"
   ]
  },
  {
   "cell_type": "code",
   "execution_count": null,
   "metadata": {
    "collapsed": false
   },
   "outputs": [],
   "source": [
    "class EdgeGrid(el.EdgeGrid):\n",
    "    def update_particles(self):\n",
    "        CC = self.particles[:, :, np.newaxis]-self.particles[:, np.newaxis, :] # 2xNxN ; en metres\n",
    "        distance = np.sqrt(np.sum(CC**2, axis=0))# NxN ; en metres\n",
    "        d_min, d_max = .2, 1.5\n",
    "        #f = lambda d: -100./ self.N_particles* (np.exp(-d/d_max)/d_max - np.exp(-d/d_min)/d_min)\n",
    "        #f = lambda d: 100./ self.N_particles* (np.exp(-d/d_max) - np.exp(-d/d_min))\n",
    "        f = lambda d: -20./ self.N_particles* (np.exp(-d/d_max)/d_max - np.exp(-d/d_min)/d_min)\n",
    "        #R = lambda w: - 3.5*np.sin(2*np.pi*w)\n",
    "        #R = lambda w: w*(1 - w**2)\n",
    "        R = lambda w: .2*np.tanh(w) # (1+w)*(1-w)\n",
    "        \n",
    "        w = self.particles[2,:]\n",
    "        #print('w_t', (np.dot(f(distance), w)).mean(), (np.dot(f(distance), w)).std())\n",
    "        #w *= (1-self.dt)\n",
    "        w += np.tanh(np.dot(f(distance), w) + R(w))*self.dt\n",
    "        #print(w.min(), w.max())\n",
    "        #w /= np.absolute(w).max()\n",
    "        self.particles[2,:] = w\n",
    "\n",
    "    def update(self):\n",
    "        self.update_particles()\n",
    "\n",
    "e = EdgeGrid(N_lame=25, grid_type='line')\n",
    "#e.particles[2, :] = 0\n",
    "#e.particles[2, 0] = -1.\n",
    "#e.particles[2, -1] = 1.\n",
    "#e.particles[2, :] = 2*np.random.rand(e.N_particles)-1\n",
    "e.animate(duration=40, fps=10, fname='../files/reaction-diffusion.mp4')"
   ]
  },
  {
   "cell_type": "code",
   "execution_count": null,
   "metadata": {
    "collapsed": false
   },
   "outputs": [],
   "source": [
    "class EdgeGrid(el.EdgeGrid):\n",
    "    def update_particles(self):\n",
    "        CC = self.particles[:, :, np.newaxis]-self.particles[:, np.newaxis, :] # 2xNxN ; en metres\n",
    "        distance = np.sqrt(np.sum(CC**2, axis=0))# NxN ; en metres\n",
    "        d_min, d_max = .2, 1.5\n",
    "        #f = lambda d: -100./ self.N_particles* (np.exp(-d/d_max)/d_max - np.exp(-d/d_min)/d_min)\n",
    "        #f = lambda d: 100./ self.N_particles* (np.exp(-d/d_max) - np.exp(-d/d_min))\n",
    "        f = lambda d: 20./ self.N_particles* (np.exp(-d/d_max)/d_max - np.exp(-d/d_min)/d_min)\n",
    "        #R = lambda w: - 3.5*np.sin(2*np.pi*w)\n",
    "        #R = lambda w: w*(1 - w**2)\n",
    "        R = lambda w: -10.*np.tanh(w) # (1+w)*(1-w)\n",
    "        \n",
    "        w = self.particles[2,:]\n",
    "        #print('w_t', (np.dot(f(distance), w)).mean(), (np.dot(f(distance), w)).std())\n",
    "        #w *= (1-self.dt)\n",
    "        w += np.tanh(np.dot(f(distance), w) + R(w))*self.dt\n",
    "        #print(w.min(), w.max())\n",
    "        #w /= np.absolute(w).max()\n",
    "        self.particles[2,:] = w\n",
    "\n",
    "    def update(self):\n",
    "        self.update_particles()\n",
    "\n",
    "e = EdgeGrid(N_lame=25, grid_type='line')\n",
    "#e.particles[2, :] = 0\n",
    "#e.particles[2, 0] = -1.\n",
    "#e.particles[2, -1] = 1.\n",
    "#e.particles[2, :] = 2*np.random.rand(e.N_particles)-1\n",
    "e.animate(duration=40, fps=10, fname='../files/reaction-diffusion-up.mp4')"
   ]
  },
  {
   "cell_type": "markdown",
   "metadata": {},
   "source": [
    "## git\n"
   ]
  },
  {
   "cell_type": "code",
   "execution_count": null,
   "metadata": {
    "collapsed": false
   },
   "outputs": [],
   "source": [
    "!git s"
   ]
  },
  {
   "cell_type": "code",
   "execution_count": null,
   "metadata": {
    "collapsed": false
   },
   "outputs": [],
   "source": [
    "!git commit -am' expansion - équation de reaction diffusion'"
   ]
  },
  {
   "cell_type": "code",
   "execution_count": null,
   "metadata": {
    "collapsed": false
   },
   "outputs": [],
   "source": [
    "! git push"
   ]
  },
  {
   "cell_type": "code",
   "execution_count": null,
   "metadata": {
    "collapsed": false
   },
   "outputs": [],
   "source": [
    "!git pull"
   ]
  }
 ],
 "metadata": {
  "kernelspec": {
   "display_name": "Python 3",
   "language": "python",
   "name": "python3"
  },
  "language_info": {
   "codemirror_mode": {
    "name": "ipython",
    "version": 3
   },
   "file_extension": ".py",
   "mimetype": "text/x-python",
   "name": "python",
   "nbconvert_exporter": "python",
   "pygments_lexer": "ipython3",
   "version": "3.5.0"
  }
 },
 "nbformat": 4,
 "nbformat_minor": 0
}

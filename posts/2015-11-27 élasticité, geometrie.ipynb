{
 "cells": [
  {
   "cell_type": "code",
   "execution_count": null,
   "metadata": {
    "collapsed": false
   },
   "outputs": [],
   "source": [
    "%load_ext autoreload\n",
    "%autoreload 2"
   ]
  },
  {
   "cell_type": "code",
   "execution_count": null,
   "metadata": {
    "collapsed": false
   },
   "outputs": [],
   "source": [
    "import elasticite as el\n",
    "import numpy as np\n",
    "duration = el.get_default_args(el.EdgeGrid.render)['duration']"
   ]
  },
  {
   "cell_type": "markdown",
   "metadata": {},
   "source": [
    "## angles perpendiculaires"
   ]
  },
  {
   "cell_type": "code",
   "execution_count": null,
   "metadata": {
    "collapsed": false
   },
   "outputs": [],
   "source": [
    "%%writefile ../scenario_line_geometry.py\n",
    "#!/usr/bin/env python\n",
    "# -*- coding: utf8 -*-\n",
    "\n",
    "import elasticite as el\n",
    "import numpy as np\n",
    "\n",
    "class EdgeGrid(el.EdgeGrid):\n",
    "    def champ(self):\n",
    "        if self.structure: N_lame = self.N_lame-self.struct_N\n",
    "        else: N_lame = self.N_lame\n",
    "\n",
    "        force = np.zeros_like(self.lames[2, :N_lame])\n",
    "        damp_min = 0.5\n",
    "        damp_tau = 10.\n",
    "        damp = lambda t: damp_min + (1.-damp_min)*np.exp(-np.abs(np.mod(t+self.period/2, self.period)-self.period/2)/damp_tau)\n",
    "\n",
    "        smooth_tau = 15\n",
    "        smooth = lambda t: 1.-np.exp(-np.abs(np.mod(t+self.period/2, self.period)-self.period/2)**2/smooth_tau**2)\n",
    "        \n",
    "        damp_angle_tau = 8.\n",
    "        damp_angle = lambda t: 1.-np.exp(-(np.mod(t+self.period/2, self.period)-self.period/2)**2/2/damp_angle_tau**2)\n",
    "        xf = lambda t: location[0]\n",
    "        zf = lambda t: location[2] + 3.5 * np.sin(2*np.pi*(t)/self.period)\n",
    "\n",
    "        noise = lambda t: .5 * smooth(t)#* np.exp((np.cos(2*np.pi*((t-0.) / 6. + x))-1.)/ .1**2)\n",
    "        #damp = lambda t: 0.001 #* np.exp(np.cos(t / 6.) / 3.**2)\n",
    "        colin_t = lambda t: -.2 * smooth(t) #*np.exp((np.cos(2*np.pi*((t-3.) / 6. + y))-1.)/ .3**2)\n",
    "        colin_d = lambda d: np.exp(-d**2/2/.25**2) #np.exp(-np.log((d+1.e-12)/.05)**2/2/1.5)\n",
    "\n",
    "        \n",
    "        #delta_angle = np.mod(self.angle_relatif()-np.pi/3., 2*np.pi/3)\n",
    "        delta_angle = self.angle_relatif()[:N_lame, :N_lame]-np.pi/2.\n",
    "        #delta_angle *= np.sign(delta_angle)\n",
    "        D = self.distance(do_torus=True)[:N_lame, :N_lame]\n",
    "        force  += 1. * colin_t(self.t) * np.sum(np.sin(2*delta_angle)*colin_d(D), axis=1) * smooth(self.t)\n",
    "        #force += force_/np.abs(force_**2).sum()\n",
    "        force -= 12 * (np.mod(self.lames[2, :N_lame]+np.pi/2, np.pi) - np.pi/2) * (1- smooth(self.t) )\n",
    "        force += noise(self.t)*np.pi*np.random.randn(N_lame)\n",
    "        force -= damp(self.t) * self.lames[3, :N_lame]/self.dt\n",
    "        force *= .03\n",
    "        force = 2. * np.tanh(force)\n",
    "        return force\n",
    "    \n",
    "\n",
    "if __name__ == \"__main__\":\n",
    "    import sys\n",
    "    if len(sys.argv)>1: mode = sys.argv[1]\n",
    "    else: mode = 'both'\n",
    "    filename = None\n",
    "    filename = 'mat/line_geometry.npy'\n",
    "    e = EdgeGrid(N_lame=25, grid_type='line', mode=mode, verb=False, filename=filename, period=4*60.)\n",
    "    el.main(e)\n",
    "\n",
    "    "
   ]
  },
  {
   "cell_type": "code",
   "execution_count": null,
   "metadata": {
    "collapsed": false
   },
   "outputs": [],
   "source": [
    "%cd ..\n",
    "!rm mat/line_geometry.npy\n",
    "%run  scenario_line_geometry.py writer\n",
    "%cd posts"
   ]
  },
  {
   "cell_type": "code",
   "execution_count": null,
   "metadata": {
    "collapsed": false
   },
   "outputs": [],
   "source": [
    "import matplotlib\n",
    "%matplotlib inline\n",
    "import matplotlib.pyplot as plt\n",
    "\n",
    "z = np.load('../mat/line_geometry.npy')\n",
    "fig, ax = plt.subplots(figsize=(15, 3))\n",
    "#_ = ax.plot(z[:, 0])\n",
    "_ = ax.plot(z[:, 0], z[:, 1:])"
   ]
  },
  {
   "cell_type": "markdown",
   "metadata": {},
   "source": [
    "## 45 deg\n"
   ]
  },
  {
   "cell_type": "code",
   "execution_count": null,
   "metadata": {
    "collapsed": false
   },
   "outputs": [],
   "source": [
    "%%writefile ../scenario_line_geometry_45deg.py\n",
    "#!/usr/bin/env python\n",
    "# -*- coding: utf8 -*-\n",
    "\n",
    "import elasticite as el\n",
    "import numpy as np\n",
    "\n",
    "class EdgeGrid(el.EdgeGrid):\n",
    "    def champ(self):\n",
    "        if self.structure: N_lame = self.N_lame-self.struct_N\n",
    "        else: N_lame = self.N_lame\n",
    "\n",
    "        force = np.zeros_like(self.lames[2, :N_lame])\n",
    "        damp_min = 0.4\n",
    "        damp_tau = 14.\n",
    "        damp = lambda t: damp_min + (1.-damp_min)*np.exp(-np.abs(np.mod(t+self.period/2, self.period)-self.period/2)/damp_tau)\n",
    "\n",
    "        smooth = lambda t: 1.-np.exp(-np.abs(np.mod(t+self.period/2, self.period)-self.period/2)**2/damp_tau**2)\n",
    "        on_off = lambda t, freq: (np.sin(2*np.pi*t/self.period*freq) > 0.)\n",
    "\n",
    "        noise = lambda t: .5 * smooth(t)\n",
    "        \n",
    "        force -= 7.5 * (np.mod(self.lames[2, :N_lame]+np.pi/2, np.pi) - np.pi/2 -np.pi/4) *smooth(self.t) *on_off(self.t, 3)\n",
    "        force -= 40 * (np.mod(self.lames[2, :N_lame]+np.pi/2, np.pi) - np.pi/2) * (1- smooth(self.t) ) *(1-on_off(self.t, 3))\n",
    "        force += noise(self.t)*np.pi*np.random.randn(N_lame)\n",
    "        force -= damp(self.t) * self.lames[3, :N_lame]/self.dt\n",
    "        force *= .01\n",
    "        force = 2 * np.tanh(force)\n",
    "        return force    \n",
    "\n",
    "if __name__ == \"__main__\":\n",
    "    import sys\n",
    "    if len(sys.argv)>1: mode = sys.argv[1]\n",
    "    else: mode = 'both'\n",
    "    filename = None\n",
    "    filename = 'mat/line_geometry_45deg.npy'\n",
    "    e = EdgeGrid(N_lame=25, grid_type='line', mode=mode, verb=False, filename=filename, period=4*60.)\n",
    "    el.main(e)\n",
    "\n",
    "    "
   ]
  },
  {
   "cell_type": "code",
   "execution_count": null,
   "metadata": {
    "collapsed": false
   },
   "outputs": [],
   "source": [
    "%cd ..\n",
    "!rm mat/line_geometry_45deg.npy\n",
    "%run  scenario_line_geometry_45deg.py writer\n",
    "%cd posts"
   ]
  },
  {
   "cell_type": "code",
   "execution_count": null,
   "metadata": {
    "collapsed": false
   },
   "outputs": [],
   "source": [
    "import matplotlib\n",
    "%matplotlib inline\n",
    "import matplotlib.pyplot as plt\n",
    "\n",
    "z = np.load('../mat/line_geometry_45deg.npy')\n",
    "el.check(e, z)\n",
    "fig, ax = plt.subplots(figsize=(15, 3))\n",
    "#_ = ax.plot(z[:, 0])\n",
    "_ = ax.plot(z[:, 0], z[:, 1:])"
   ]
  },
  {
   "cell_type": "markdown",
   "metadata": {},
   "source": [
    "## 90 deg\n"
   ]
  },
  {
   "cell_type": "code",
   "execution_count": null,
   "metadata": {
    "collapsed": false
   },
   "outputs": [],
   "source": [
    "%%writefile ../scenario_line_geometry_90deg.py\n",
    "#!/usr/bin/env python\n",
    "# -*- coding: utf8 -*-\n",
    "\n",
    "import elasticite as el\n",
    "import numpy as np\n",
    "\n",
    "class EdgeGrid(el.EdgeGrid):\n",
    "    def champ(self):\n",
    "        if self.structure: N_lame = self.N_lame-self.struct_N\n",
    "        else: N_lame = self.N_lame\n",
    "\n",
    "        force = np.zeros_like(self.lames[2, :N_lame])\n",
    "        damp_min = 0.7\n",
    "        damp_tau = 14.\n",
    "        damp = lambda t: damp_min + (1.-damp_min)*np.exp(-np.abs(np.mod(t+self.period/2, self.period)-self.period/2)/damp_tau)\n",
    "\n",
    "        smooth = lambda t: 1.-np.exp(-np.abs(np.mod(t+self.period/2, self.period)-self.period/2)**2/damp_tau**2)\n",
    "        on_off = lambda t, freq: (np.sin(2*np.pi*t/self.period*freq) > 0.)\n",
    "\n",
    "        noise = lambda t: .2 * smooth(t)\n",
    "        \n",
    "        force -= 7.5 * (np.mod(self.lames[2, :N_lame], np.pi) -np.pi/2 ) *smooth(self.t) * on_off(self.t, 3)\n",
    "        force -= 40 * (np.mod(self.lames[2, :N_lame]+np.pi/2, np.pi) - np.pi/2) * (1- smooth(self.t) ) * (1-on_off(self.t, 3))\n",
    "        force += noise(self.t)*np.pi*np.random.randn(N_lame)\n",
    "        force -= damp(self.t) * self.lames[3, :N_lame]/self.dt\n",
    "        force *= .01\n",
    "        force = 2 * np.tanh(force)\n",
    "        return force    \n",
    "\n",
    "if __name__ == \"__main__\":\n",
    "    import sys\n",
    "    if len(sys.argv)>1: mode = sys.argv[1]\n",
    "    else: mode = 'both'\n",
    "    filename = None\n",
    "    filename = 'mat/line_geometry_90deg.npy'\n",
    "    e = EdgeGrid(N_lame=25, grid_type='line', mode=mode, verb=False, filename=filename, period=4*60.)\n",
    "    el.main(e)\n",
    "\n",
    "    "
   ]
  },
  {
   "cell_type": "code",
   "execution_count": null,
   "metadata": {
    "collapsed": false,
    "scrolled": true
   },
   "outputs": [],
   "source": [
    "%cd ..\n",
    "!rm mat/line_geometry_90deg.npy\n",
    "%run  scenario_line_geometry_90deg.py writer\n",
    "%cd posts"
   ]
  },
  {
   "cell_type": "code",
   "execution_count": null,
   "metadata": {
    "collapsed": false,
    "scrolled": true
   },
   "outputs": [],
   "source": [
    "import matplotlib\n",
    "%matplotlib inline\n",
    "import matplotlib.pyplot as plt\n",
    "\n",
    "z = np.load('../mat/line_geometry_90deg.npy')\n",
    "el.check(e, z)\n",
    "fig, ax = plt.subplots(figsize=(15, 3))\n",
    "#_ = ax.plot(z[:, 0])\n",
    "_ = ax.plot(z[:, 0], z[:, 1:])"
   ]
  },
  {
   "cell_type": "markdown",
   "metadata": {},
   "source": [
    "## angles structure\n",
    "\n",
    "\n",
    "on  s'oriente vers les angles parallèles aux structures\n"
   ]
  },
  {
   "cell_type": "code",
   "execution_count": null,
   "metadata": {
    "collapsed": false
   },
   "outputs": [],
   "source": [
    "%%writefile ../scenario_line_geometry_structure.py\n",
    "#!/usr/bin/env python\n",
    "# -*- coding: utf8 -*-\n",
    "\n",
    "import elasticite as el\n",
    "import numpy as np\n",
    "\n",
    "class EdgeGrid(el.EdgeGrid):\n",
    "    def champ(self):\n",
    "        if self.structure: N_lame = self.N_lame-self.struct_N\n",
    "        else: N_lame = self.N_lame\n",
    "\n",
    "        force = np.zeros_like(self.lames[2, :N_lame])\n",
    "        damp_min = 0.8\n",
    "        damp_tau = 15.\n",
    "        damp = lambda t: damp_min #+ (1.-damp_min)*np.exp(-np.abs(np.mod(t+self.period/2, self.period)-self.period/2)/damp_tau)\n",
    "\n",
    "        smooth = lambda t: 1.-np.exp(-np.abs(np.mod(t+self.period/2, self.period)-self.period/2)**2/damp_tau**2)\n",
    "        on_off = lambda t, freq: (np.sin(2*np.pi*t/self.period*freq) > 0.)\n",
    "\n",
    "        noise = lambda t: .4 * smooth(t)\n",
    "        np.random.seed(12345)\n",
    "        random_timing = np.random.rand(N_lame)\n",
    "        #print(np.mod(random_timing + self.t/self.period, 1))\n",
    "        struct_angles = np.random.permutation( np.hstack((self.struct_angles, -np.array(self.struct_angles)))) * np.pi / 180\n",
    "        #print(struct_angles, (np.mod(random_timing + self.t/self.period, 1)*len(struct_angles)).astype(np.int)) \n",
    "        angle_desired = np.zeros(N_lame)\n",
    "        for i, idx in enumerate((np.mod(random_timing + self.t/self.period, 1)*len(struct_angles)).astype(np.int)):\n",
    "            angle_desired[i] = struct_angles[idx]\n",
    "        \n",
    "        force -= 20 * (np.mod(self.lames[2, :N_lame] - angle_desired +np.pi/2, np.pi) - np.pi/2 ) * smooth(self.t)\n",
    "        force -= 80 * (np.mod(self.lames[2, :N_lame] + np.pi/2, np.pi) - np.pi/2) * (1- smooth(self.t) )\n",
    "        force += noise(self.t)*np.pi*np.random.randn(N_lame)\n",
    "        force -= damp(self.t) * self.lames[3, :N_lame]/self.dt\n",
    "        force = .02 * 100 * np.tanh(force/100)\n",
    "        return force    \n",
    "\n",
    "if __name__ == \"__main__\":\n",
    "    import sys\n",
    "    if len(sys.argv)>1: mode = sys.argv[1]\n",
    "    else: mode = 'both'\n",
    "    filename = None\n",
    "    filename = 'mat/line_geometry_structure.npy'\n",
    "    e = EdgeGrid(N_lame=25, grid_type='line', mode=mode, verb=False, filename=filename, period=4*60.)\n",
    "    el.main(e)\n",
    "\n",
    "    "
   ]
  },
  {
   "cell_type": "code",
   "execution_count": null,
   "metadata": {
    "collapsed": false
   },
   "outputs": [],
   "source": [
    "%cd ..\n",
    "!rm mat/line_geometry_structure.npy\n",
    "%run  scenario_line_geometry_structure.py writer\n",
    "%cd posts"
   ]
  },
  {
   "cell_type": "code",
   "execution_count": null,
   "metadata": {
    "collapsed": false
   },
   "outputs": [],
   "source": [
    "import matplotlib\n",
    "%matplotlib inline\n",
    "import matplotlib.pyplot as plt\n",
    "\n",
    "z = np.load('../mat/line_geometry_structure.npy')\n",
    "el.check(e, z)\n",
    "fig, ax = plt.subplots(figsize=(15, 3))\n",
    "#_ = ax.plot(z[:, 0])\n",
    "_ = ax.plot(z[:, 0], z[:, 1:])"
   ]
  },
  {
   "cell_type": "markdown",
   "metadata": {},
   "source": [
    "## git"
   ]
  },
  {
   "cell_type": "code",
   "execution_count": null,
   "metadata": {
    "collapsed": false,
    "scrolled": true
   },
   "outputs": [],
   "source": [
    "!git add  ../mat/line_geometry_90deg.npy  ../scenario_line_geometry_90deg.py\n",
    "\n",
    "!git s"
   ]
  },
  {
   "cell_type": "code",
   "execution_count": null,
   "metadata": {
    "collapsed": false
   },
   "outputs": [],
   "source": [
    "!git commit -am' scenario geometry  90deg '"
   ]
  },
  {
   "cell_type": "code",
   "execution_count": null,
   "metadata": {
    "collapsed": false
   },
   "outputs": [],
   "source": [
    "! git push"
   ]
  }
 ],
 "metadata": {
  "kernelspec": {
   "display_name": "Python 3",
   "language": "python",
   "name": "python3"
  },
  "language_info": {
   "codemirror_mode": {
    "name": "ipython",
    "version": 3
   },
   "file_extension": ".py",
   "mimetype": "text/x-python",
   "name": "python",
   "nbconvert_exporter": "python",
   "pygments_lexer": "ipython3",
   "version": "3.5.1"
  }
 },
 "nbformat": 4,
 "nbformat_minor": 0
}

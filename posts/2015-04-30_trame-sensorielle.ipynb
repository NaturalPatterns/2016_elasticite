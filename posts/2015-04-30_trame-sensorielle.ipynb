{
 "cells": [
  {
   "cell_type": "markdown",
   "metadata": {},
   "source": [
    "On va maintenant utiliser une image naturelle comme entrée. \n",
    "\n",
    "At each time, the pipeline is the  following:\n",
    "\n",
    "* take an image, \n",
    "* turn into blocks corresponding to the edges' centers,\n",
    "* into each block determine the most likely orientation\n",
    "\n",
    "<!-- TEASER_END -->\n",
    "\n",
    "Let's first create a dummy movie:"
   ]
  },
  {
   "cell_type": "code",
   "execution_count": 1,
   "metadata": {},
   "outputs": [],
   "source": [
    "import os\n",
    "import matplotlib\n",
    "matplotlib.use(\"Agg\") # agg-backend, so we can create figures without x-server (no PDF, just PNG etc.)\n",
    "from elasticite import EdgeGrid\n",
    "e = EdgeGrid()\n",
    "fps = 24.\n",
    "loop = 1\n",
    "autoplay = 0\n",
    "duration = 4.\n",
    "figpath = '../files/elasticite/'"
   ]
  },
  {
   "cell_type": "code",
   "execution_count": 2,
   "metadata": {},
   "outputs": [],
   "source": [
    "import matplotlib as mpl\n",
    "import matplotlib.pyplot as plt\n",
    "from moviepy.video.io.bindings import mplfig_to_npimage\n",
    "import moviepy.editor as mpy\n",
    "\n",
    "fig_mpl, ax = plt.subplots(1, figsize=(1, 1), facecolor='white')\n",
    "\n",
    "def draw_elementary_pattern(ax, center): \n",
    "    #ax.add_artist(mpl.patches.Wedge(center-1., 1., 0, 180, width=.1)) #center, r, theta1, theta2, width=None\n",
    "    #ax.add_artist(mpl.patches.Wedge(-center+1., 1., 0, 180, width=.1))\n",
    "    # class matplotlib.patches.RegularPolygon(xy, numVertices, radius=5, orientation=0, **kwargs)¶\n",
    "    ax.add_artist(mpl.patches.RegularPolygon((.5,.5), 5, center, facecolor='r'))\n",
    "    ax.add_artist(mpl.patches.RegularPolygon((.5,.5), 5, center/2, facecolor='w'))\n",
    "    ax.add_artist(mpl.patches.RegularPolygon((.5,.5), 5, center/4, facecolor='g'))\n",
    "\n",
    "def make_frame_mpl(t):\n",
    "    ax = fig_mpl.add_axes([0., 0., 1., 1.], axisbg='w')\n",
    "    ax.cla()\n",
    "    plt.setp(ax, xticks=[])\n",
    "    plt.setp(ax, yticks=[])\n",
    "    #ax.axis(c='b', lw=0, frame_on=False)\n",
    "    ax.grid(b=False, which=\"both\")\n",
    "    draw_elementary_pattern(ax, t/duration)\n",
    "    return mplfig_to_npimage(fig_mpl) # RGB image of the figure\n",
    "\n",
    "animation = mpy.VideoClip(make_frame_mpl, duration=duration)"
   ]
  },
  {
   "cell_type": "code",
   "execution_count": 3,
   "metadata": {},
   "outputs": [
    {
     "name": "stdout",
     "output_type": "stream",
     "text": [
      "[MoviePy] >>>> Building video ../files/elasticite/elasticite_test.mp4\n",
      "[MoviePy] Writing video ../files/elasticite/elasticite_test.mp4\n"
     ]
    },
    {
     "name": "stderr",
     "output_type": "stream",
     "text": [
      " 99%|█████████▉| 96/97 [00:06<00:00, 20.12it/s]"
     ]
    },
    {
     "name": "stdout",
     "output_type": "stream",
     "text": [
      "[MoviePy] Done.\n",
      "[MoviePy] >>>> Video ready: ../files/elasticite/elasticite_test.mp4 \n",
      "\n"
     ]
    },
    {
     "name": "stderr",
     "output_type": "stream",
     "text": [
      "\n"
     ]
    },
    {
     "ename": "AttributeError",
     "evalue": "'EdgeGrid' object has no attribute 'vext'",
     "output_type": "error",
     "traceback": [
      "\u001b[0;31m---------------------------------------------------------------------------\u001b[0m",
      "\u001b[0;31mAttributeError\u001b[0m                            Traceback (most recent call last)",
      "\u001b[0;32m<ipython-input-3-315a44d803a4>\u001b[0m in \u001b[0;36m<module>\u001b[0;34m()\u001b[0m\n\u001b[1;32m      2\u001b[0m \u001b[0;32mif\u001b[0m \u001b[0;32mnot\u001b[0m \u001b[0mos\u001b[0m\u001b[0;34m.\u001b[0m\u001b[0mpath\u001b[0m\u001b[0;34m.\u001b[0m\u001b[0misfile\u001b[0m\u001b[0;34m(\u001b[0m\u001b[0mos\u001b[0m\u001b[0;34m.\u001b[0m\u001b[0mpath\u001b[0m\u001b[0;34m.\u001b[0m\u001b[0mjoin\u001b[0m\u001b[0;34m(\u001b[0m\u001b[0mfigpath\u001b[0m\u001b[0;34m,\u001b[0m \u001b[0mname\u001b[0m \u001b[0;34m+\u001b[0m \u001b[0;34m'.mp4'\u001b[0m\u001b[0;34m)\u001b[0m\u001b[0;34m)\u001b[0m\u001b[0;34m:\u001b[0m\u001b[0;34m\u001b[0m\u001b[0m\n\u001b[1;32m      3\u001b[0m     \u001b[0manimation\u001b[0m\u001b[0;34m.\u001b[0m\u001b[0mwrite_videofile\u001b[0m\u001b[0;34m(\u001b[0m\u001b[0mfigpath\u001b[0m \u001b[0;34m+\u001b[0m \u001b[0mname\u001b[0m \u001b[0;34m+\u001b[0m \u001b[0mvext\u001b[0m\u001b[0;34m,\u001b[0m \u001b[0mfps\u001b[0m\u001b[0;34m=\u001b[0m\u001b[0mfps\u001b[0m\u001b[0;34m)\u001b[0m\u001b[0;34m\u001b[0m\u001b[0m\n\u001b[0;32m----> 4\u001b[0;31m     \u001b[0manimation\u001b[0m\u001b[0;34m.\u001b[0m\u001b[0mwrite_videofile\u001b[0m\u001b[0;34m(\u001b[0m\u001b[0mfigpath\u001b[0m \u001b[0;34m+\u001b[0m \u001b[0mname\u001b[0m \u001b[0;34m+\u001b[0m \u001b[0me\u001b[0m\u001b[0;34m.\u001b[0m\u001b[0mvext\u001b[0m\u001b[0;34m,\u001b[0m \u001b[0mfps\u001b[0m\u001b[0;34m=\u001b[0m\u001b[0mfps\u001b[0m\u001b[0;34m)\u001b[0m\u001b[0;34m\u001b[0m\u001b[0m\n\u001b[0m\u001b[1;32m      5\u001b[0m \u001b[0me\u001b[0m\u001b[0;34m.\u001b[0m\u001b[0mipython_display\u001b[0m\u001b[0;34m(\u001b[0m\u001b[0mname\u001b[0m\u001b[0;34m)\u001b[0m\u001b[0;34m\u001b[0m\u001b[0m\n",
      "\u001b[0;31mAttributeError\u001b[0m: 'EdgeGrid' object has no attribute 'vext'"
     ]
    }
   ],
   "source": [
    "name, vext = 'elasticite_test', '.mp4'\n",
    "if not os.path.isfile(os.path.join(figpath, name + '.mp4')):\n",
    "    animation.write_videofile(figpath + name + vext, fps=fps)\n",
    "    animation.write_videofile(figpath + name + e.vext, fps=fps)\n",
    "e.ipython_display(name)"
   ]
  },
  {
   "cell_type": "markdown",
   "metadata": {},
   "source": [
    "Now read this clip using ``imageio``:"
   ]
  },
  {
   "cell_type": "code",
   "execution_count": null,
   "metadata": {},
   "outputs": [],
   "source": [
    "import imageio\n",
    "\n",
    "reader = imageio.get_reader(figpath + name + vext)\n",
    "for i, im in enumerate(reader):\n",
    "    print('Mean of frame %i is %1.1f' % (i, im.mean()))\n",
    "    if i > 15: break"
   ]
  },
  {
   "cell_type": "markdown",
   "metadata": {},
   "source": [
    "Let's consider one frame, and a ROI defined by its center and width:"
   ]
  },
  {
   "cell_type": "code",
   "execution_count": null,
   "metadata": {},
   "outputs": [],
   "source": [
    "def mat2ipn(mat):   \n",
    "    # create a temporary file\n",
    "    import tempfile\n",
    "    filename = tempfile.mktemp(suffix='.png')\n",
    "    # Use write_png to export your wonderful plot as png ! \n",
    "    import vispy.io as io\n",
    "    imageio.imwrite(filename, mat)\n",
    "    from IPython.core.display import display, Image\n",
    "    return display(Image(filename))    \n",
    "mat2ipn(im)\n",
    "#from holoviews import Image\n",
    "#from holoviews import HoloMap, Dimension\n",
    "#%load_ext holoviews.ipython"
   ]
  },
  {
   "cell_type": "markdown",
   "metadata": {},
   "source": [
    "## trying to guess orientations using LogGabors"
   ]
  },
  {
   "cell_type": "code",
   "execution_count": null,
   "metadata": {},
   "outputs": [],
   "source": [
    "from NeuroTools.parameters import ParameterSet\n",
    "from SLIP import Image\n",
    "slip = Image(ParameterSet({'N_X':im.shape[1], 'N_Y':im.shape[0]}))"
   ]
  },
  {
   "cell_type": "code",
   "execution_count": null,
   "metadata": {},
   "outputs": [],
   "source": [
    "import numpy as np\n",
    "im_ = im.sum(axis=-1)\n",
    "print(im_.shape)\n",
    "\n",
    "X_=.3\n",
    "Y_=.5\n",
    "w=.2\n",
    "im_ = im_ * np.exp(-.5*((slip.x-X_)**2+(slip.y-Y_)**2)/w**2)\n",
    "mat2ipn(im_)"
   ]
  },
  {
   "cell_type": "markdown",
   "metadata": {},
   "source": [
    "Now, we will test the energy of different orientations :"
   ]
  },
  {
   "cell_type": "code",
   "execution_count": null,
   "metadata": {},
   "outputs": [],
   "source": [
    "from LogGabor import LogGabor\n",
    "lg = LogGabor(slip)\n",
    "N_theta = 24\n",
    "thetas, E = np.linspace(0, np.pi, N_theta), np.zeros((N_theta,))\n",
    "for i_theta, theta in enumerate(thetas):\n",
    "    params= {'sf_0':.3, 'B_sf': .3, 'theta':theta, 'B_theta': .1}\n",
    "    FT_lg = lg.loggabor(0, 0, **params)\n",
    "    E[i_theta] = np.sum(np.absolute(slip.FTfilter(im_.T, FT_lg, full=True))**2)\n",
    "    print(theta*180/np.pi, E[i_theta])       "
   ]
  },
  {
   "cell_type": "markdown",
   "metadata": {},
   "source": [
    "Now select the most likely:"
   ]
  },
  {
   "cell_type": "code",
   "execution_count": null,
   "metadata": {},
   "outputs": [],
   "source": [
    "print(np.argmax(E), thetas[np.argmax(E)]*180/np.pi)"
   ]
  },
  {
   "cell_type": "markdown",
   "metadata": {},
   "source": [
    "wrapping things in one function:"
   ]
  },
  {
   "cell_type": "code",
   "execution_count": null,
   "metadata": {},
   "outputs": [],
   "source": [
    "from NeuroTools.parameters import ParameterSet\n",
    "from SLIP import Image\n",
    "from LogGabor import LogGabor\n",
    "import numpy as np\n",
    "slip = Image(ParameterSet({'N_X':im.shape[1], 'N_Y':im.shape[0]}))\n",
    "lg = LogGabor(slip)\n",
    "N_theta = 24\n",
    "def theta_max(im, X_=.0, Y_=.0, w=.3):\n",
    "    im_ = im.sum(axis=-1)\n",
    "    im_ = im_ * np.exp(-.5*((slip.x-X_)**2+(slip.y-Y_)**2)/w**2)\n",
    "    thetas, E = np.linspace(0, np.pi, N_theta), np.zeros((N_theta,))\n",
    "    for i_theta, theta in enumerate(thetas):\n",
    "        params= {'sf_0':.3, 'B_sf': .3, 'theta':theta, 'B_theta': .1}\n",
    "        FT_lg = lg.loggabor(0, 0, **params)\n",
    "        E[i_theta] = np.sum(np.absolute(slip.FTfilter(im_.T, FT_lg, full=True))**2)\n",
    "    return np.pi/2 - thetas[np.argmax(E)]     \n",
    "\n",
    "e.reader = imageio.get_reader(figpath + 'elasticite_test.mp4', loop=True)\n",
    "for i, im in enumerate(reader):\n",
    "    print(i, theta_max(im, X_=.3, Y_=.3, w=.3)*180./np.pi)\n",
    "    if i > 5: break"
   ]
  },
  {
   "cell_type": "markdown",
   "metadata": {},
   "source": [
    "We retrieve the centers and span of all edges from the ``EdgeGrid`` class:"
   ]
  },
  {
   "cell_type": "code",
   "execution_count": null,
   "metadata": {},
   "outputs": [],
   "source": [
    "name = 'trame_loggabor'\n",
    "import numpy as np\n",
    "from EdgeGrid import EdgeGrid\n",
    "e = EdgeGrid()\n",
    "\n",
    "import imageio\n",
    "e.reader = imageio.get_reader(figpath + 'elasticite_test.mp4', loop=True)\n",
    "def make_lames(e):\n",
    "    im = e.reader.get_next_data()\n",
    "    for i in range(e.N_lame):\n",
    "        e.lames[2, i] = e.theta_max(im, X_=e.lames[0, i], Y_=e.lames[1, i], w=.05)\n",
    "    return e.lames[2, :]\n",
    "\n",
    "e.make_anim(name, make_lames, duration=duration)\n",
    "e.ipython_display(name)"
   ]
  },
  {
   "cell_type": "markdown",
   "metadata": {},
   "source": [
    "## trying to guess orientations using Sobel filters"
   ]
  },
  {
   "cell_type": "markdown",
   "metadata": {},
   "source": [
    "dans ce cas, on voit que les filtres orientés sont corrects, mais c'est un peu overkill (et lent) donc on peut préférer utiliser des filtres orientés plus simples, les filtres de Sobel, soit pour les horizontales la matrice:\n",
    "\n",
    "    [1   2  1]\n",
    "    [0   0  0]\n",
    "    [-1 -2 -1]    \n",
    "    \n",
    "et son transposé (pour les verticales). "
   ]
  },
  {
   "cell_type": "code",
   "execution_count": null,
   "metadata": {},
   "outputs": [],
   "source": [
    "name = 'trame_sobel_orientations'\n",
    "if not os.path.isfile(os.path.join(figpath, name + '.mp4')):\n",
    "    from EdgeGrid import EdgeGrid\n",
    "    e = EdgeGrid()\n",
    "\n",
    "    import imageio\n",
    "    e.reader = imageio.get_reader(figpath + 'elasticite_test.mp4', loop=True)\n",
    "\n",
    "    import matplotlib.pyplot as plt\n",
    "    import numpy as np\n",
    "    from moviepy.video.io.bindings import mplfig_to_npimage\n",
    "    import moviepy.editor as mpy\n",
    "\n",
    "    # DRAW A FIGURE WITH MATPLOTLIB\n",
    "    fps = 24.\n",
    "    duration = 4.\n",
    "    fig_mpl, ax = plt.subplots(1, 2, figsize=(10,5), facecolor='white')\n",
    "    def make_frame_mpl(t):\n",
    "        import numpy as np\n",
    "        sobel = np.array([[1,   2,  1,],\n",
    "                          [0,   0,  0,],\n",
    "                          [-1, -2, -1,]])\n",
    "        im = e.reader.get_next_data()\n",
    "\n",
    "        im_ = im.sum(axis=-1)\n",
    "        from scipy.signal import convolve2d\n",
    "        #im_ = im_ * np.exp(-.5*((slip.x-X_)**2+(slip.y-Y_)**2)/w**2)\n",
    "        ax[0].imshow(convolve2d(im_, sobel, 'same'))\n",
    "        ax[1].imshow(convolve2d(im_, sobel.T, 'same'))\n",
    "        return mplfig_to_npimage(fig_mpl) # RGB image of the figure\n",
    "\n",
    "    animation = mpy.VideoClip(make_frame_mpl, duration=duration)\n",
    "    animation.write_videofile(os.path.join(figpath, name + '.mp4'), fps=fps)\n",
    "e.ipython_display(name)"
   ]
  },
  {
   "cell_type": "markdown",
   "metadata": {},
   "source": [
    "The angle is derived as the arctan of the 2 components"
   ]
  },
  {
   "cell_type": "code",
   "execution_count": null,
   "metadata": {},
   "outputs": [],
   "source": [
    "name = 'trame_sobel_orientation'\n",
    "import os\n",
    "if True or not os.path.isfile(os.path.join(figpath, name + '.mp4')):\n",
    "    from EdgeGrid import EdgeGrid\n",
    "    e = EdgeGrid()\n",
    "\n",
    "    import imageio\n",
    "    e.reader = imageio.get_reader(figpath + 'elasticite_test.mp4', loop=True)\n",
    "\n",
    "    import matplotlib.pyplot as plt\n",
    "    import numpy as np\n",
    "    from moviepy.video.io.bindings import mplfig_to_npimage\n",
    "    import moviepy.editor as mpy\n",
    "\n",
    "    # DRAW A FIGURE WITH MATPLOTLIB\n",
    "    fps = 24.\n",
    "    duration = 4.\n",
    "    \n",
    "    \n",
    "    def make_frame_mpl(t):\n",
    "        fig_mpl, ax = plt.subplots(figsize=(5,5), facecolor='white')\n",
    "\n",
    "        import numpy as np\n",
    "        sobel = np.array([[1,   2,  1],\n",
    "                          [0,   0,  0],\n",
    "                          [-1, -2, -1]])\n",
    "        im = e.reader.get_next_data()\n",
    "\n",
    "        im_ = im.sum(axis=-1)\n",
    "        N_X, N_Y = im_.shape\n",
    "        x, y = np.mgrid[0:1:1j*N_X, 0:1:1j*N_Y]\n",
    "        # mask = np.exp(-.5*((x-.5)**2+(y-.5)**2)/.1**2)       \n",
    "        blur = np.array([[1, 2, 1],\n",
    "                         [1, 8, 2],\n",
    "                         [1, 2, 1]])\n",
    "\n",
    "        from scipy.signal import convolve2d\n",
    "        im_X = convolve2d(im_, sobel, 'same')\n",
    "        im_Y = convolve2d(im_, sobel.T, 'same')\n",
    "        for i in range(10):\n",
    "            im_X = convolve2d(im_X, blur, 'same')\n",
    "            im_Y = convolve2d(im_Y, blur, 'same')\n",
    "        mappable = ax.imshow(np.arctan2(im_Y, im_X)*180/np.pi, origin='lower')\n",
    "        fig_mpl.colorbar(mappable)\n",
    "        return mplfig_to_npimage(fig_mpl) # RGB image of the figure\n",
    "\n",
    "    animation = mpy.VideoClip(make_frame_mpl, duration=duration)\n",
    "    animation.write_videofile(os.path.join(figpath, name + '.mp4'), fps=fps)\n",
    "e.ipython_display(name)"
   ]
  },
  {
   "cell_type": "markdown",
   "metadata": {},
   "source": [
    "This function is included in the ``EdgeGrid`` class:"
   ]
  },
  {
   "cell_type": "code",
   "execution_count": null,
   "metadata": {},
   "outputs": [],
   "source": [
    "from EdgeGrid import EdgeGrid\n",
    "e = EdgeGrid()\n",
    "import numpy as np\n",
    "np.set_printoptions(precision=2, suppress=True)\n",
    "import imageio\n",
    "e.reader = imageio.get_reader(figpath + 'elasticite_test.mp4', loop=True)\n",
    "for i, im in enumerate(e.reader):\n",
    "    print(i, e.theta_sobel(im, N_blur=10)*180/np.pi)\n",
    "    if i>5: break"
   ]
  },
  {
   "cell_type": "code",
   "execution_count": null,
   "metadata": {},
   "outputs": [],
   "source": [
    "name = 'trame_sobel'\n",
    "from EdgeGrid import EdgeGrid\n",
    "e = EdgeGrid()\n",
    "\n",
    "import imageio\n",
    "e.reader = imageio.get_reader(figpath + 'elasticite_test.mp4', loop=True)\n",
    "def make_lames(e):\n",
    "    e.im = e.reader.get_next_data()\n",
    "    return e.theta_sobel(e.im, N_blur=10)\n",
    "\n",
    "duration = 4.\n",
    "e.make_anim(name, make_lames, duration=duration)\n",
    "e.ipython_display(name)"
   ]
  },
  {
   "cell_type": "code",
   "execution_count": null,
   "metadata": {},
   "outputs": [],
   "source": [
    "import imagen as ig\n",
    "line=ig.Line(xdensity=5, ydensity=5, smoothing=0)\n",
    "import numpy as np\n",
    "np.set_printoptions(1)\n",
    "import holoviews\n",
    "%reload_ext holoviews.ipython"
   ]
  },
  {
   "cell_type": "code",
   "execution_count": null,
   "metadata": {},
   "outputs": [],
   "source": [
    "import numbergen as ng\n",
    "from holoviews import NdLayout\n",
    "import param\n",
    "param.Dynamic.time_dependent=True\n",
    "stim = ig.SineGrating(orientation=np.pi*ng.UniformRandom())\n",
    "NdLayout(stim.anim(3))"
   ]
  },
  {
   "cell_type": "code",
   "execution_count": null,
   "metadata": {},
   "outputs": [],
   "source": [
    "name = 'trame_sobel_grating'\n",
    "from EdgeGrid import EdgeGrid\n",
    "e = EdgeGrid()\n",
    "stim = ig.SineGrating(xdensity=64, ydensity=64)\n",
    "def make_lames(e):\n",
    "    stim.orientation=np.pi*e.t/4.\n",
    "    e.im = stim()\n",
    "    return e.theta_sobel(e.im, N_blur=5)\n",
    "\n",
    "duration = 4.\n",
    "e.make_anim(name, make_lames, duration=duration)\n",
    "e.ipython_display(name)"
   ]
  },
  {
   "cell_type": "code",
   "execution_count": null,
   "metadata": {},
   "outputs": [],
   "source": [
    "%%opts Image.Pattern (cmap='Blues_r')\n",
    "l1 = ig.Line(orientation=-np.pi/4)\n",
    "l2 = ig.Line(orientation=+np.pi/4)\n",
    "cross = l1 | l2\n",
    "cross.orientation=ng.ScaledTime()*(np.pi/-20)\n",
    "l1.anim(20) + l2.anim(20) + cross.anim(20)"
   ]
  },
  {
   "cell_type": "code",
   "execution_count": null,
   "metadata": {
    "scrolled": true
   },
   "outputs": [],
   "source": [
    "name = 'trame_sobel_cross'\n",
    "from EdgeGrid import EdgeGrid\n",
    "e = EdgeGrid()\n",
    "l1 = ig.Line(orientation=-np.pi/4)\n",
    "l2 = ig.Line(orientation=+np.pi/4)\n",
    "cross = l1 | l2\n",
    "\n",
    "def make_lames(e):\n",
    "    cross.orientation = np.pi*e.t/4.\n",
    "    e.im = cross()\n",
    "    return e.theta_sobel(e.im, N_blur=1)\n",
    "\n",
    "duration = 4.\n",
    "e.make_anim(name, make_lames, duration=duration)\n",
    "e.ipython_display(name)"
   ]
  },
  {
   "cell_type": "code",
   "execution_count": null,
   "metadata": {},
   "outputs": [],
   "source": [
    "line.set_param(xdensity=72,ydensity=72,orientation=np.pi/4, thickness=0.02, smoothing=0.02)\n",
    "line.x = .25\n",
    "\n",
    "noise = ig.Composite(xdensity=72, ydensity=72,\n",
    "                     operator=np.add,\n",
    "                     generators=[ig.Gaussian(size=0.1,\n",
    "                                          x=ng.UniformRandom(seed=i+1)-0.5,\n",
    "                                          y=ng.UniformRandom(seed=i+2)-0.5,\n",
    "                                          orientation=np.pi*ng.UniformRandom(seed=i+3))\n",
    "                                for i in range(10)])\n",
    "\n",
    "stim = line + 0.3*noise\n",
    "NdLayout(stim.anim(4)).cols(5)"
   ]
  },
  {
   "cell_type": "code",
   "execution_count": null,
   "metadata": {},
   "outputs": [],
   "source": [
    "name = 'trame_sobel_line_tmp_4'\n",
    "from EdgeGrid import EdgeGrid\n",
    "e = EdgeGrid()\n",
    "\n",
    "def make_lames(e):\n",
    "    line.x = -.5 + e.t / 4.\n",
    "    stim = line + noise\n",
    "    e.im = stim()\n",
    "    return e.theta_sobel(e.im, N_blur=1)\n",
    "\n",
    "duration = 4.\n",
    "e.make_anim(name, make_lames, duration=duration)\n",
    "e.ipython_display(name)"
   ]
  }
 ],
 "metadata": {
  "kernelspec": {
   "display_name": "Python 3",
   "language": "python",
   "name": "python3"
  },
  "language_info": {
   "codemirror_mode": {
    "name": "ipython",
    "version": 3
   },
   "file_extension": ".py",
   "mimetype": "text/x-python",
   "name": "python",
   "nbconvert_exporter": "python",
   "pygments_lexer": "ipython3",
   "version": "3.6.5"
  },
  "toc": {
   "nav_menu": {},
   "number_sections": true,
   "sideBar": true,
   "skip_h1_title": false,
   "toc_cell": false,
   "toc_position": {},
   "toc_section_display": "block",
   "toc_window_display": false
  }
 },
 "nbformat": 4,
 "nbformat_minor": 2
}

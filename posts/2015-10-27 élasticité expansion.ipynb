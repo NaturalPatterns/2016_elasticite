{
 "cells": [
  {
   "cell_type": "code",
   "execution_count": 2,
   "metadata": {
    "collapsed": false
   },
   "outputs": [],
   "source": [
    "%load_ext autoreload\n",
    "%autoreload 2"
   ]
  },
  {
   "cell_type": "code",
   "execution_count": 3,
   "metadata": {
    "collapsed": false
   },
   "outputs": [],
   "source": [
    "import elasticite as el\n",
    "import numpy as np\n",
    "duration = el.get_default_args(el.EdgeGrid.render)['duration']"
   ]
  },
  {
   "cell_type": "code",
   "execution_count": 4,
   "metadata": {
    "collapsed": false
   },
   "outputs": [],
   "source": [
    "import sys\n",
    "sys.path.append('..')\n",
    "from scenario_line_fresnel import EdgeGrid\n",
    "e = EdgeGrid(N_lame=25, grid_type='line')"
   ]
  },
  {
   "cell_type": "code",
   "execution_count": 5,
   "metadata": {
    "collapsed": false
   },
   "outputs": [
    {
     "data": {
      "text/plain": [
       "(4, 31)"
      ]
     },
     "execution_count": 5,
     "metadata": {},
     "output_type": "execute_result"
    }
   ],
   "source": [
    "e.lames.shape"
   ]
  },
  {
   "cell_type": "markdown",
   "metadata": {},
   "source": [
    "## sampling particles on the structure"
   ]
  },
  {
   "cell_type": "code",
   "execution_count": 6,
   "metadata": {
    "collapsed": false
   },
   "outputs": [
    {
     "name": "stdout",
     "output_type": "stream",
     "text": [
      "0 [-1.4488887394336025, 3.111771432346219, 3.4033920413889427]\n",
      "1 [-3.5317048714782544, 1.364081184137463, 4.276056667386108]\n",
      "2 [-3.853764727862665, -1.4626018975182205, 4.921828490624009]\n",
      "3 [1.4488887394336025, 3.111771432346219, -0.2617993877991494]\n",
      "4 [3.5317048714782544, 1.364081184137463, -1.1344640137963142]\n",
      "5 [3.853764727862665, -1.4626018975182205, -1.780235837034216]\n"
     ]
    },
    {
     "name": "stderr",
     "output_type": "stream",
     "text": [
      "/usr/local/lib/python3.5/site-packages/ipykernel/__main__.py:9: DeprecationWarning: using a non-integer number instead of an integer will result in an error in the future\n",
      "/usr/local/lib/python3.5/site-packages/ipykernel/__main__.py:10: DeprecationWarning: using a non-integer number instead of an integer will result in an error in the future\n"
     ]
    }
   ],
   "source": [
    "struct = e.lames[:3, -e.struct_N:]\n",
    "N_particles = e.struct_N * 2**8\n",
    "particles = np.ones((5, N_particles))\n",
    "for i, vec in enumerate(struct.T.tolist()):\n",
    "    print(i, vec)\n",
    "    N_particles_ = N_particles/e.struct_N\n",
    "    x0, x1 = vec[0] - .5*e.struct_longueur*np.cos(vec[2]), vec[0] + .5*e.struct_longueur*np.cos(vec[2])\n",
    "    y0, y1 = vec[1] - .5*e.struct_longueur*np.sin(vec[2]), vec[1] + .5*e.struct_longueur*np.sin(vec[2])\n",
    "    particles[0, i*N_particles_:(i+1)*N_particles_] = np.linspace(x0, x1, N_particles_)\n",
    "    particles[1, i*N_particles_:(i+1)*N_particles_] = np.linspace(y0, y1, N_particles_)\n",
    "    "
   ]
  },
  {
   "cell_type": "code",
   "execution_count": 7,
   "metadata": {
    "collapsed": false
   },
   "outputs": [
    {
     "data": {
      "text/plain": [
       "array([[ 0.        , -0.01136383, -0.02272767, ...,  3.54678923,\n",
       "         3.54434321,  3.54189719],\n",
       "       [ 3.5       ,  3.49695507,  3.49391014, ..., -2.90680806,\n",
       "        -2.91831568, -2.9298233 ],\n",
       "       [ 1.        ,  1.        ,  1.        , ...,  1.        ,\n",
       "         1.        ,  1.        ],\n",
       "       [ 1.        ,  1.        ,  1.        , ...,  1.        ,\n",
       "         1.        ,  1.        ],\n",
       "       [ 1.        ,  1.        ,  1.        , ...,  1.        ,\n",
       "         1.        ,  1.        ]])"
      ]
     },
     "execution_count": 7,
     "metadata": {},
     "output_type": "execute_result"
    }
   ],
   "source": [
    "particles"
   ]
  },
  {
   "cell_type": "code",
   "execution_count": 8,
   "metadata": {
    "collapsed": false
   },
   "outputs": [],
   "source": [
    "%matplotlib inline\n",
    "%config InlineBackend.figure_format='retina'\n",
    "#%config InlineBackend.figure_format = 'svg'\n",
    "import matplotlib.pyplot as plt\n",
    "import numpy as np\n",
    "np.set_printoptions(precision=2, suppress=True)"
   ]
  },
  {
   "cell_type": "code",
   "execution_count": 9,
   "metadata": {
    "collapsed": false
   },
   "outputs": [
    {
     "data": {
      "text/plain": [
       "<matplotlib.collections.PathCollection at 0x11519b4e0>"
      ]
     },
     "execution_count": 9,
     "metadata": {},
     "output_type": "execute_result"
    },
    {
     "data": {
      "image/png": "[encoded data removed]",
      "text/plain": [
       "<matplotlib.figure.Figure at 0x113ca9e10>"
      ]
     },
     "metadata": {
      "image/png": {
       "height": 255,
       "width": 371
      }
     },
     "output_type": "display_data"
    }
   ],
   "source": [
    "plt.scatter(particles[0,:], particles[1,:])"
   ]
  },
  {
   "cell_type": "code",
   "execution_count": 10,
   "metadata": {
    "collapsed": false
   },
   "outputs": [
    {
     "name": "stderr",
     "output_type": "stream",
     "text": [
      "/usr/local/lib/python3.5/site-packages/matplotlib/__init__.py:1350: UserWarning:  This call to matplotlib.use() has no effect\n",
      "because the backend has already been chosen;\n",
      "matplotlib.use() must be called *before* pylab, matplotlib.pyplot,\n",
      "or matplotlib.backends is imported for the first time.\n",
      "\n",
      "  warnings.warn(_use_error_msg)\n",
      "/usr/local/lib/python3.5/site-packages/matplotlib/__init__.py:872: UserWarning: text.fontsize is deprecated and replaced with font.size; please use the latter.\n",
      "  warnings.warn(self.msg_depr % (key, alt_key))\n"
     ]
    }
   ],
   "source": [
    "import MotionParticles as mp\n"
   ]
  },
  {
   "cell_type": "code",
   "execution_count": 11,
   "metadata": {
    "collapsed": false
   },
   "outputs": [
    {
     "ename": "TypeError",
     "evalue": "spatial_readout() got an unexpected keyword argument 'N_quant'",
     "output_type": "error",
     "traceback": [
      "\u001b[0;31m---------------------------------------------------------------------------\u001b[0m",
      "\u001b[0;31mTypeError\u001b[0m                                 Traceback (most recent call last)",
      "\u001b[0;32m<ipython-input-11-27f8c97f6a91>\u001b[0m in \u001b[0;36m<module>\u001b[0;34m()\u001b[0m\n\u001b[0;32m----> 1\u001b[0;31m \u001b[0mfig\u001b[0m\u001b[0;34m,\u001b[0m \u001b[0max\u001b[0m \u001b[0;34m=\u001b[0m \u001b[0mmp\u001b[0m\u001b[0;34m.\u001b[0m\u001b[0mspatial_readout\u001b[0m\u001b[0;34m(\u001b[0m\u001b[0mparticles\u001b[0m\u001b[0;34m,\u001b[0m \u001b[0mN_X\u001b[0m\u001b[0;34m=\u001b[0m\u001b[0;36m256\u001b[0m\u001b[0;34m,\u001b[0m \u001b[0mN_Y\u001b[0m\u001b[0;34m=\u001b[0m\u001b[0;36m256\u001b[0m\u001b[0;34m,\u001b[0m \u001b[0mN_quant\u001b[0m\u001b[0;34m=\u001b[0m\u001b[0;36m256\u001b[0m\u001b[0;34m,\u001b[0m \u001b[0mhue\u001b[0m\u001b[0;34m=\u001b[0m\u001b[0;32mFalse\u001b[0m\u001b[0;34m,\u001b[0m \u001b[0mwidth\u001b[0m\u001b[0;34m=\u001b[0m\u001b[0me\u001b[0m\u001b[0;34m.\u001b[0m\u001b[0mtotal_width\u001b[0m\u001b[0;34m*\u001b[0m\u001b[0;36m2\u001b[0m\u001b[0;34m)\u001b[0m\u001b[0;34m\u001b[0m\u001b[0m\n\u001b[0m",
      "\u001b[0;31mTypeError\u001b[0m: spatial_readout() got an unexpected keyword argument 'N_quant'"
     ]
    }
   ],
   "source": [
    "fig, ax = mp.spatial_readout(particles, N_X=256, N_Y=256, N_quant=256, hue=False, width=e.total_width*2)"
   ]
  },
  {
   "cell_type": "code",
   "execution_count": null,
   "metadata": {
    "collapsed": false
   },
   "outputs": [],
   "source": [
    "e.sample_structure()\n",
    "plt.scatter(e.particles[0,:], e.particles[1,:])"
   ]
  },
  {
   "cell_type": "markdown",
   "metadata": {},
   "source": [
    "## generating a trajectory"
   ]
  },
  {
   "cell_type": "code",
   "execution_count": null,
   "metadata": {
    "collapsed": false
   },
   "outputs": [],
   "source": [
    "import elasticite as el\n",
    "import numpy as np\n",
    "\n",
    "duration = el.get_default_args(el.EdgeGrid.render)['duration']\n",
    "location = el.get_default_args(el.EdgeGrid.render)['location']\n",
    "\n",
    "\n",
    "class EdgeGrid(el.EdgeGrid):\n",
    "    def champ(self):\n",
    "        if self.structure: N_lame = self.N_lame-self.struct_N\n",
    "        else: N_lame = self.N_lame\n",
    "        tf = 2. #how many cycles in one period (duration)\n",
    "        force = np.zeros_like(self.lames[2, :N_lame])\n",
    "        damp = lambda t: 0.01 #* np.exp(np.cos(t / 6.) / 3.**2)\n",
    "        xf = lambda t: location[0] - self.total_width/4.\n",
    "        zf = lambda t: location[2] * (.5 + .45 * np.sin(2*np.pi*self.t*tf/duration))\n",
    "        \n",
    "        desired_angle = np.pi/2 + np.arctan2(self.lames[1, :N_lame]-zf(self.t), self.lames[0, :N_lame]-xf(self.t))\n",
    "        self.lames[2, :N_lame] = np.mod(self.lames[2, :N_lame]-np.pi/2, np.pi) + np.pi/2\n",
    "        force += np.mod(desired_angle-np.pi/2, np.pi) + np.pi/2- self.lames[2, :N_lame]\n",
    "        force -= damp(self.t) * self.lames[3, :N_lame]/self.dt\n",
    "        return 3. * force\n",
    "\n",
    "e = EdgeGrid(N_lame=25, grid_type='line')\n",
    "e.sample_structure()\n",
    "fig = plt.figure(figsize=(e.figsize, e.figsize))\n",
    "border = 0.0\n",
    "ax = fig.add_axes((border, border, 1.-2*border, 1.-2*border), axisbg='w')\n",
    "scat  = ax.scatter(e.particles[0,:], e.particles[1,:], c=e.particles[1,:])\n",
    "ax.set_xlim([-e.total_width, e.total_width])\n",
    "ax.set_ylim([-e.total_width, e.total_width])"
   ]
  },
  {
   "cell_type": "code",
   "execution_count": null,
   "metadata": {
    "collapsed": false
   },
   "outputs": [],
   "source": [
    "import matplotlib.pyplot as plt\n",
    "import numpy as np\n",
    "from moviepy.video.io.bindings import mplfig_to_npimage\n",
    "import moviepy.editor as mpy\n",
    "\n",
    "# DRAW A FIGURE WITH MATPLOTLIB\n",
    "\n",
    "duration = 2\n",
    "\n",
    "fig_mpl, ax = plt.subplots(1,figsize=(5,3), facecolor='white')\n",
    "xx = np.linspace(-2,2,200) # the x vector\n",
    "zz = lambda d: np.sinc(xx**2)+np.sin(xx+d) # the (changing) z vector\n",
    "ax.set_title(\"Elevation in y=0\")\n",
    "ax.set_ylim(-1.5,2.5)\n",
    "line, = ax.plot(xx, zz(0), lw=3)"
   ]
  },
  {
   "cell_type": "code",
   "execution_count": null,
   "metadata": {
    "collapsed": false
   },
   "outputs": [],
   "source": [
    "fps = 25.\n",
    "# ANIMATE WITH MOVIEPY (UPDATE THE CURVE FOR EACH t). MAKE A GIF.\n",
    "def make_frame_mpl(t):\n",
    "    line.set_ydata( zz(2*np.pi*t/duration))  # <= Update the curve\n",
    "    return mplfig_to_npimage(fig_mpl) # RGB image of the figure\n",
    "\n",
    "animation =mpy.VideoClip(make_frame_mpl, duration=duration)\n",
    "animation.ipython_display(fps=fps, loop=1, autoplay=1)"
   ]
  },
  {
   "cell_type": "code",
   "execution_count": null,
   "metadata": {
    "collapsed": false,
    "scrolled": true
   },
   "outputs": [],
   "source": [
    "e = EdgeGrid(N_lame=25, grid_type='line')\n",
    "e.sample_structure()\n",
    "fig = plt.figure(figsize=(e.figsize, e.figsize))\n",
    "border = 0.0\n",
    "ax = fig.add_axes((border, border, 1.-2*border, 1.-2*border), axisbg='w')\n",
    "ax.axis('off')\n",
    "ax.set_xlim([-e.total_width, e.total_width])\n",
    "ax.set_ylim([-e.total_width, e.total_width])\n",
    "scat  = ax.scatter(e.particles[0,:], e.particles[1,:], c=e.particles[2,:])"
   ]
  },
  {
   "cell_type": "code",
   "execution_count": null,
   "metadata": {
    "collapsed": false,
    "scrolled": false
   },
   "outputs": [],
   "source": [
    "fps = 10.\n",
    "e.dt = 1./fps\n",
    "opts = dict(vmin=0, vmax=1., linewidths=0, cmap=plt.cm.bone)\n",
    "def make_frame_mpl(t):    \n",
    "    #ax.clear()\n",
    "    e.particles[2,:] = .5 + .5*np.sin(t*2*np.pi) \n",
    "    scat  = ax.scatter(e.particles[0,:], e.particles[1,:], c=e.particles[2,:], **opts)\n",
    "    return mplfig_to_npimage(fig) # RGB image of the figure\n",
    "\n",
    "animation = mpy.VideoClip(make_frame_mpl, duration=duration)\n",
    "animation.ipython_display(fps=fps, loop=1, autoplay=1)"
   ]
  },
  {
   "cell_type": "code",
   "execution_count": null,
   "metadata": {
    "collapsed": false
   },
   "outputs": [],
   "source": [
    "import elasticite as el\n",
    "import numpy as np\n",
    "\n",
    "class EdgeGrid(el.EdgeGrid):\n",
    "    def update_particles(self):\n",
    "        self.particles[2,:] =  .5 + .5*np.cos((self.t + np.linspace(0, 1., self.N_particles))*2*np.pi)\n",
    "\n",
    "    def update(self):\n",
    "        self.update_particles()\n",
    "\n",
    "e = EdgeGrid(N_lame=25, grid_type='line')\n",
    "fig, ax = plt.subplots(1, 1, figsize=(e.figsize, e.figsize))\n",
    "ax.axis('off')\n",
    "ax.set_xlim([-e.total_width, e.total_width])\n",
    "ax.set_ylim([-e.total_width, e.total_width])\n",
    "\n",
    "#ax = fig.add_axes((0, 0, 1, 1), axisbg='w')\n",
    "fps = 10.\n",
    "e.dt = 1./fps\n",
    "opts = dict(vmin=0, vmax=1., linewidths=0, cmap=plt.cm.bone)\n",
    "#print(opts)"
   ]
  },
  {
   "cell_type": "code",
   "execution_count": null,
   "metadata": {
    "collapsed": false
   },
   "outputs": [],
   "source": [
    "def make_frame_mpl(t):    \n",
    "    ax.clear()\n",
    "    ax.axis('off')\n",
    "    ax.set_xlim([-e.total_width, e.total_width])\n",
    "    ax.set_ylim([-e.total_width, e.total_width])\n",
    "\n",
    "    e.t = t\n",
    "    e.update()\n",
    "    scat  = ax.scatter(e.particles[0,:], e.particles[1,:], c=e.particles[2,:], **opts)\n",
    "    return mplfig_to_npimage(fig) # RGB image of the figure\n",
    "\n",
    "animation = mpy.VideoClip(make_frame_mpl, duration=duration)\n",
    "animation.ipython_display(fps=fps, loop=1, autoplay=1)"
   ]
  },
  {
   "cell_type": "markdown",
   "metadata": {},
   "source": [
    "All in one call:"
   ]
  },
  {
   "cell_type": "code",
   "execution_count": null,
   "metadata": {
    "collapsed": false
   },
   "outputs": [],
   "source": [
    "class EdgeGrid(el.EdgeGrid):\n",
    "    def update_particles(self):\n",
    "        self.particles[2,:] =  .5 + .5*np.cos((self.t + np.linspace(0, 1., self.N_particles))*2*np.pi)\n",
    "\n",
    "    def update(self):\n",
    "        self.update_particles()\n",
    "\n",
    "e = EdgeGrid(N_lame=25, grid_type='line')\n",
    "e.animate()"
   ]
  },
  {
   "cell_type": "markdown",
   "metadata": {},
   "source": [
    "## git\n"
   ]
  },
  {
   "cell_type": "code",
   "execution_count": null,
   "metadata": {
    "collapsed": false
   },
   "outputs": [],
   "source": [
    "!git s\n",
    "#!git add 2015-10-27\\ élasticité\\ expansion.ipynb"
   ]
  },
  {
   "cell_type": "code",
   "execution_count": null,
   "metadata": {
    "collapsed": false
   },
   "outputs": [],
   "source": [
    "!git commit -am' expansion - function de samples sur la structure - all in one call'"
   ]
  },
  {
   "cell_type": "code",
   "execution_count": null,
   "metadata": {
    "collapsed": false
   },
   "outputs": [],
   "source": [
    "! git push\n"
   ]
  }
 ],
 "metadata": {
  "kernelspec": {
   "display_name": "Python 3",
   "language": "python",
   "name": "python3"
  },
  "language_info": {
   "codemirror_mode": {
    "name": "ipython",
    "version": 3
   },
   "file_extension": ".py",
   "mimetype": "text/x-python",
   "name": "python",
   "nbconvert_exporter": "python",
   "pygments_lexer": "ipython3",
   "version": "3.5.0"
  }
 },
 "nbformat": 4,
 "nbformat_minor": 0
}

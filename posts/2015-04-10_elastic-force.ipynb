{
 "cells": [
  {
   "cell_type": "markdown",
   "metadata": {},
   "source": [
    "On va maintenant utiliser des forces elastiques pour coordonner la dynamique des lames dans la trame.\n",
    "\n",
    "\n",
    "<!-- TEASER_END -->"
   ]
  },
  {
   "cell_type": "code",
   "execution_count": 1,
   "metadata": {
    "collapsed": true
   },
   "outputs": [],
   "source": [
    "from EdgeGrid import EdgeGrid\n",
    "e = EdgeGrid()\n",
    "\n",
    "fps = 20\n",
    "loop = 1\n",
    "autoplay = 0\n"
   ]
  },
  {
   "cell_type": "code",
   "execution_count": 2,
   "metadata": {},
   "outputs": [
    {
     "data": {
      "text/html": [
       "\n",
       "            <center><table border=none width=100% height=100%>\n",
       "            <tr> <td width=100%><center><video  loop=\"1\" autoplay=\"1\" controls  src=\"../galleries/elasticite/test_grid2.mp4\" type=\"video/webm\"  width=100%>\n",
       "            </td></tr></table></center>"
      ],
      "text/plain": [
       "<IPython.core.display.HTML object>"
      ]
     },
     "metadata": {},
     "output_type": "display_data"
    }
   ],
   "source": [
    "name = 'test_grid2'\n",
    "import numpy as np\n",
    "from EdgeGrid import EdgeGrid\n",
    "\n",
    "e = EdgeGrid()\n",
    "\n",
    "duration = 3.\n",
    "def make_lames(lames, t):\n",
    "    return lames[0, :] * np.pi +  t*np.pi/duration\n",
    "\n",
    "duration = 3.\n",
    "e.make_anim(name, make_lames, duration=duration)\n",
    "e.ipython_display(name)\n"
   ]
  },
  {
   "cell_type": "code",
   "execution_count": 6,
   "metadata": {},
   "outputs": [
    {
     "name": "stdout",
     "output_type": "stream",
     "text": [
      "[MoviePy] >>>> Building video ../galleries/elasticite/parallel_force.mp4\n",
      "[MoviePy] Writing video ../galleries/elasticite/parallel_force.mp4\n",
      "[MoviePy] Done.\n",
      "[MoviePy] >>>> Video ready: ../galleries/elasticite/parallel_force.mp4 \n",
      "\n"
     ]
    },
    {
     "data": {
      "text/html": [
       "\n",
       "            <center><table border=none width=100% height=100%>\n",
       "            <tr> <td width=100%><center><video  loop=\"1\" autoplay=\"1\" controls  src=\"../galleries/elasticite/parallel_force.mp4\" type=\"video/webm\"  width=100%>\n",
       "            </td></tr></table></center>"
      ],
      "text/plain": [
       "<IPython.core.display.HTML object>"
      ]
     },
     "metadata": {},
     "output_type": "display_data"
    }
   ],
   "source": [
    "name = 'parallel_force'\n",
    "import numpy as np\n",
    "# re-init\n",
    "e.lames[2, :] = np.pi*np.random.randn(e.N_lame)\n",
    "\n",
    "# distance\n",
    "dx = e.lames[0, :, np.newaxis]-e.lames[0, np.newaxis, :]\n",
    "dy = e.lames[1, :, np.newaxis]-e.lames[1, np.newaxis, :]\n",
    "\n",
    "distance = np.sqrt(dx **2 + dy **2)\n",
    "\n",
    "def make_lames(lames, t):\n",
    "    angle_relatif = lames[2, :, np.newaxis]-lames[2, np.newaxis, :]\n",
    "    lames[2, :] += -.0001 * np.sum(np.sin(2*angle_relatif)/(distance+.1), axis=1)\n",
    "    lames[2, :] += .01*np.pi*np.random.randn(e.N_lame)\n",
    "    return lames[2, :]\n",
    "\n",
    "duration = 10.\n",
    "e.make_anim(name, make_lames, duration=duration, redo=True)\n",
    "e.ipython_display(name)"
   ]
  },
  {
   "cell_type": "code",
   "execution_count": 4,
   "metadata": {},
   "outputs": [
    {
     "data": {
      "text/html": [
       "\n",
       "            <center><table border=none width=100% height=100%>\n",
       "            <tr> <td width=100%><center><video  loop=\"1\" autoplay=\"1\" controls  src=\"../galleries/elasticite/cocircular_force.mp4\" type=\"video/webm\"  width=100%>\n",
       "            </td></tr></table></center>"
      ],
      "text/plain": [
       "<IPython.core.display.HTML object>"
      ]
     },
     "metadata": {},
     "output_type": "display_data"
    }
   ],
   "source": [
    "name = 'cocircular_force'\n",
    "# re-init\n",
    "e.lames[2, :] = np.pi*np.random.randn(e.N_lame)\n",
    "\n",
    "# distance\n",
    "dx = e.lames[0, :, np.newaxis]-e.lames[0, np.newaxis, :]\n",
    "dy = e.lames[1, :, np.newaxis]-e.lames[1, np.newaxis, :]\n",
    "\n",
    "distance = np.sqrt(dx **2 + dy **2)\n",
    "\n",
    "def make_lames(lames, t):\n",
    "    theta = lames[2, :, np.newaxis]-lames[2, np.newaxis, :]\n",
    "    psi = np.arctan2(dy, dx) - np.pi/2 - theta\n",
    "    psi -= theta/2\n",
    "    lames[2, :] += .000125 * np.sum(np.sin(2**psi)/(distance+.1), axis=1)\n",
    "    lames[2, :] += .00*np.pi*np.random.randn(e.N_lame)\n",
    "    return lames[2, :]\n",
    "\n",
    "duration = 10.\n",
    "e.make_anim(name, make_lames, duration=duration)#, redo=True)\n",
    "e.ipython_display(name)"
   ]
  },
  {
   "cell_type": "code",
   "execution_count": 5,
   "metadata": {},
   "outputs": [
    {
     "data": {
      "text/html": [
       "\n",
       "            <center><table border=none width=100% height=100%>\n",
       "            <tr> <td width=100%><center><video  loop=\"1\" autoplay=\"1\" controls  src=\"../galleries/elasticite/cocircular_antiparallel_force.mp4\" type=\"video/webm\"  width=100%>\n",
       "            </td></tr></table></center>"
      ],
      "text/plain": [
       "<IPython.core.display.HTML object>"
      ]
     },
     "metadata": {},
     "output_type": "display_data"
    }
   ],
   "source": [
    "name = 'cocircular_antiparallel_force'\n",
    "import numpy as np\n",
    "# re-init\n",
    "e.lames[2, :] = np.pi*np.random.randn(e.N_lame)\n",
    "\n",
    "# distance\n",
    "dx = e.lames[0, :, np.newaxis]-e.lames[0, np.newaxis, :]\n",
    "dy = e.lames[1, :, np.newaxis]-e.lames[1, np.newaxis, :]\n",
    "\n",
    "distance = np.sqrt(dx **2 + dy **2)\n",
    "\n",
    "def make_lames(lames, t):\n",
    "    theta = lames[2, :, np.newaxis]-lames[2, np.newaxis, :]\n",
    "    psi = np.arctan2(dy, dx) - np.pi/2 - theta\n",
    "    psi -= theta/2\n",
    "    lames[2, :] += .00125 * np.sum(np.sin(theta)/(distance+.1), axis=1)\n",
    "    lames[2, :] += -.00125 * np.sum(np.sin(psi)/(distance+.1), axis=1)\n",
    "    lames[2, :] += .001*np.pi*np.random.randn(e.N_lame)\n",
    "    return lames[2, :]\n",
    "\n",
    "duration = 10.\n",
    "e.make_anim(name, make_lames, duration=duration)#, redo=True)\n",
    "e.ipython_display(name)"
   ]
  }
 ],
 "metadata": {
  "kernelspec": {
   "display_name": "Python 3",
   "language": "python",
   "name": "python3"
  },
  "language_info": {
   "codemirror_mode": {
    "name": "ipython",
    "version": 3
   },
   "file_extension": ".py",
   "mimetype": "text/x-python",
   "name": "python",
   "nbconvert_exporter": "python",
   "pygments_lexer": "ipython3",
   "version": "3.6.5"
  },
  "toc": {
   "nav_menu": {},
   "number_sections": true,
   "sideBar": true,
   "skip_h1_title": false,
   "toc_cell": false,
   "toc_position": {},
   "toc_section_display": "block",
   "toc_window_display": false
  }
 },
 "nbformat": 4,
 "nbformat_minor": 2
}

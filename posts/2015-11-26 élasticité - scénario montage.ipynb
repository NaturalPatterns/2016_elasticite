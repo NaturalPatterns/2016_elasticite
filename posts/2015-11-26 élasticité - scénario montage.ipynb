{
 "cells": [
  {
   "cell_type": "code",
   "execution_count": null,
   "metadata": {
    "collapsed": false
   },
   "outputs": [],
   "source": [
    "%load_ext autoreload\n",
    "%autoreload 2\n",
    "\n",
    "import time\n",
    "time.sleep(600)"
   ]
  },
  {
   "cell_type": "code",
   "execution_count": null,
   "metadata": {
    "collapsed": false
   },
   "outputs": [],
   "source": [
    "import matplotlib\n",
    "matplotlib.use('nbagg')\n",
    "%matplotlib inline\n",
    "import matplotlib.pyplot as plt"
   ]
  },
  {
   "cell_type": "markdown",
   "metadata": {},
   "source": [
    "## Saving as a scenario"
   ]
  },
  {
   "cell_type": "code",
   "execution_count": null,
   "metadata": {
    "collapsed": false
   },
   "outputs": [],
   "source": [
    "!ls -ltrh ../mat/*"
   ]
  },
  {
   "cell_type": "code",
   "execution_count": null,
   "metadata": {
    "collapsed": false,
    "scrolled": true
   },
   "outputs": [],
   "source": [
    "%%writefile ../scenario_line_master.py\n",
    "#!/usr/bin/env python\n",
    "# -*- coding: utf8 -*-\n",
    "\n",
    "import elasticite as el\n",
    "import numpy as np\n",
    "import os\n",
    "\n",
    "def master(e, filename):\n",
    "    if e.structure: N_lame = e.N_lame-e.struct_N\n",
    "    else: N_lame = e.N_lame\n",
    "\n",
    "    def montage(z, z_in, damp_tau=0.):\n",
    "        z_out = z.copy()\n",
    "        z_s = z_in.copy()\n",
    "        #if damp_tau>0:\n",
    "        #    max_time = z_in.shape[0]/e.desired_fps\n",
    "        #    time = np.linspace(0., max_time, z_in.shape[0])\n",
    "        #    smooth = 1.-np.exp((np.cos(2*np.pi* time / max_time)-1)/(damp_tau / max_time)**2)\n",
    "        #    z_s[:, 1:] *= smooth[:, np.newaxis]\n",
    "\n",
    "        #print (z_out[0, 0], z_out[-1, 0], z_s[0, 0], z_s[-1, 0])\n",
    "        z_s[:, 0] += z_out[-1, 0] + 1./e.desired_fps # increment the time on the new array\n",
    "        #print (z_out.shape, z_s.shape, z_s[0, 0], z_s[-1, 0])\n",
    "        return np.vstack((z_out, z_s))\n",
    "\n",
    "    def revert(z_in):\n",
    "        z_s = z_in.copy()\n",
    "        z_s[:, 1:] = z_s[:, 1:][:, ::-1]\n",
    "        return z_s\n",
    "\n",
    "    def mirror(z_in):\n",
    "        z_s = z_in.copy()\n",
    "        z_s[:, 1:] = -z_s[:, 1:]\n",
    "        return z_s\n",
    "\n",
    "    def interleave(z_1, z_2):\n",
    "        z_s_1 = z_1.copy()\n",
    "        z_s_2 = z_2.copy()\n",
    "        z_s_1[:, 1::2] = z_s_2[:, 1::2]\n",
    "        return z_s_1\n",
    "            \n",
    "    matpath = 'mat/'\n",
    "    z_s = {}\n",
    "    print('importing scenarii')\n",
    "    for scenario in [#'line_vague_dense', 'line_vague_solo', \n",
    "                     'line_onde_dense', 'line_onde_solo', 'line_fresnelastique',\n",
    "                    'line_fresnelastique_choc', 'line_fresnelastique_chirp', \n",
    "                     'line_geometry', 'line_geometry_45deg', 'line_geometry_structure']:\n",
    "        z_s[scenario] = np.load(os.path.join(matpath, scenario + '.npy'))\n",
    "        print(scenario)\n",
    "        el.check(e, z_s[scenario])\n",
    "    print('finished importing scenarii')    \n",
    "    ###########################################################################\n",
    "    burnout_time = 4.\n",
    "    z = np.zeros((1, N_lame+1)) # zero at zero\n",
    "    z = np.vstack((z, np.hstack((np.array(burnout_time), np.zeros(N_lame) ))))\n",
    "    ###########################################################################\n",
    "    z = montage(z, z_s['line_onde_dense'])\n",
    "    ###########################################################################\n",
    "    z = montage(z, z_s['line_geometry_45deg'])\n",
    "    z = montage(z, z_s['line_geometry_structure'])\n",
    "    z = montage(z, z_s['line_geometry'])\n",
    "    z = montage(z, mirror(z_s['line_geometry_45deg']))\n",
    "    ###########################################################################\n",
    "    z = montage(z, z_s['line_onde_solo'])\n",
    "    z = montage(z, revert(z_s['line_onde_solo']))\n",
    "    z = montage(z, revert(z_s['line_onde_dense']))\n",
    "    ###########################################################################\n",
    "    z = montage(z, z_s['line_geometry'])\n",
    "    z = montage(z, z_s['line_fresnelastique'])\n",
    "    z = montage(z, z_s['line_geometry_structure'])\n",
    "    z = montage(z, mirror(z_s['line_fresnelastique']))\n",
    "    z = montage(z, z_s['line_fresnelastique_chirp'])\n",
    "    z = montage(z, z_s['line_fresnelastique_choc'])\n",
    "    z = montage(z, z_s['line_geometry'])\n",
    "    z = montage(z, z_s['line_geometry_structure'])\n",
    "\n",
    "    ###########################################################################\n",
    "\n",
    "    z = montage(z, z_s['line_fresnelastique'])\n",
    "    z = montage(z, interleave(z_s['line_fresnelastique'], mirror(z_s['line_fresnelastique'])))\n",
    "    z = montage(z, interleave(z_s['line_fresnelastique_chirp'], mirror(z_s['line_fresnelastique_choc'])))\n",
    "    z = montage(z, interleave(z_s['line_fresnelastique_choc'], mirror(z_s['line_fresnelastique_chirp'])))\n",
    "    ###########################################################################\n",
    "\n",
    "    z = montage(z, z_s['line_geometry'])\n",
    "    z = montage(z, z_s['line_onde_dense'])\n",
    "    \n",
    "    ###########################################################################\n",
    "    # check that there is not overflow @ 30 fps\n",
    "    el.check(e, z)\n",
    "    ###########################################################################\n",
    "    # save the file\n",
    "    np.save(filename, z)\n",
    "\n",
    "    return z_s\n",
    "\n",
    "if __name__ == \"__main__\":\n",
    "    import sys\n",
    "    if len(sys.argv)>1: mode = sys.argv[1]\n",
    "    else: mode = 'both'\n",
    "        \n",
    "    filename = 'mat/master.npy'\n",
    "    e = el.EdgeGrid(N_lame=25, grid_type='line', mode=mode,\n",
    "                 verb=False, filename=filename)\n",
    "\n",
    "    if mode == 'writer':\n",
    "        z_s = master(e, filename)\n",
    "    else:\n",
    "        # running the code\n",
    "        el.main(e)\n"
   ]
  },
  {
   "cell_type": "code",
   "execution_count": null,
   "metadata": {
    "collapsed": false,
    "scrolled": true
   },
   "outputs": [],
   "source": [
    "%cd ..\n",
    "!rm mat/master.npy\n",
    "%run  scenario_line_master.py writer\n",
    "%cd posts"
   ]
  },
  {
   "cell_type": "code",
   "execution_count": null,
   "metadata": {
    "collapsed": false,
    "scrolled": true
   },
   "outputs": [],
   "source": [
    "z = np.load('../mat/master.npy')\n",
    "fig, ax = plt.subplots(figsize=(15, 3))\n",
    "_ = ax.plot(z[:, 0])\n",
    "ax.axis('tight')"
   ]
  },
  {
   "cell_type": "code",
   "execution_count": null,
   "metadata": {
    "collapsed": false,
    "scrolled": true
   },
   "outputs": [],
   "source": [
    "fig, ax = plt.subplots(figsize=(15, 3))\n",
    "_ = ax.plot(z[:, 0], z[:, 1:])\n",
    "ax.axis('tight')"
   ]
  },
  {
   "cell_type": "markdown",
   "metadata": {},
   "source": [
    "## utile"
   ]
  },
  {
   "cell_type": "code",
   "execution_count": null,
   "metadata": {
    "collapsed": false
   },
   "outputs": [],
   "source": [
    "import matplotlib\n",
    "%matplotlib inline\n",
    "import matplotlib.pyplot as plt\n",
    "damp_tau = 60.\n",
    "max_time = z_s['line_geometry'].shape[0]/e.desired_fps\n",
    "time = np.linspace(0., max_time, z_s['line_geometry'].shape[-1])\n",
    "print(z_s['line_geometry'].shape[0], max_time)\n",
    "#smooth = 1.-np.exp(-(np.mod(time+max_time/2, max_time)-max_time/2)**2/damp_tau**2)\n",
    "smooth = 1.-np.exp((np.cos(2*np.pi* time / max_time)-1)/(damp_tau / max_time)**2)\n",
    "print (smooth)\n",
    "fig, ax = plt.subplots(figsize=(15, 3))\n",
    "_ = ax.plot(time, smooth)"
   ]
  },
  {
   "cell_type": "code",
   "execution_count": null,
   "metadata": {
    "collapsed": false
   },
   "outputs": [],
   "source": [
    "angle_actuel = np.linspace(-1.5*np.pi, 1.5*np.pi, 300)\n",
    "angle_actuel_ = np.mod(angle_actuel + np.pi/2, np.pi) - np.pi/2\n",
    "fig, ax = plt.subplots(figsize=(15, 3))\n",
    "_ = ax.plot(angle_actuel, angle_actuel_)"
   ]
  },
  {
   "cell_type": "markdown",
   "metadata": {},
   "source": [
    "## git\n"
   ]
  },
  {
   "cell_type": "code",
   "execution_count": null,
   "metadata": {
    "collapsed": false
   },
   "outputs": [],
   "source": [
    "! git add ../mat/master.npy\n",
    "!git s"
   ]
  },
  {
   "cell_type": "code",
   "execution_count": null,
   "metadata": {
    "collapsed": false
   },
   "outputs": [],
   "source": [
    "!git commit -am' scenario master '"
   ]
  },
  {
   "cell_type": "code",
   "execution_count": null,
   "metadata": {
    "collapsed": false
   },
   "outputs": [],
   "source": [
    "! git push"
   ]
  },
  {
   "cell_type": "code",
   "execution_count": null,
   "metadata": {
    "collapsed": false
   },
   "outputs": [],
   "source": [
    "%pwd"
   ]
  }
 ],
 "metadata": {
  "kernelspec": {
   "display_name": "Python 3",
   "language": "python",
   "name": "python3"
  },
  "language_info": {
   "codemirror_mode": {
    "name": "ipython",
    "version": 3
   },
   "file_extension": ".py",
   "mimetype": "text/x-python",
   "name": "python",
   "nbconvert_exporter": "python",
   "pygments_lexer": "ipython3",
   "version": "3.5.0"
  }
 },
 "nbformat": 4,
 "nbformat_minor": 0
}

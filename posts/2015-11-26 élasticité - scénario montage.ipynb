{
 "cells": [
  {
   "cell_type": "code",
   "execution_count": 5,
   "metadata": {
    "collapsed": false
   },
   "outputs": [
    {
     "name": "stdout",
     "output_type": "stream",
     "text": [
      "The autoreload extension is already loaded. To reload it, use:\n",
      "  %reload_ext autoreload\n"
     ]
    }
   ],
   "source": [
    "%load_ext autoreload\n",
    "%autoreload 2"
   ]
  },
  {
   "cell_type": "markdown",
   "metadata": {},
   "source": [
    "## Saving as a scenario"
   ]
  },
  {
   "cell_type": "code",
   "execution_count": 2,
   "metadata": {
    "collapsed": false
   },
   "outputs": [
    {
     "name": "stdout",
     "output_type": "stream",
     "text": [
      "../mat/line_vague_dense.npy ../mat/line_vague_solo.npy\r\n"
     ]
    }
   ],
   "source": [
    "!ls ../mat/*\n"
   ]
  },
  {
   "cell_type": "code",
   "execution_count": 28,
   "metadata": {
    "collapsed": false,
    "scrolled": true
   },
   "outputs": [
    {
     "name": "stdout",
     "output_type": "stream",
     "text": [
      "Overwriting ../scenario_line_vague.py\n"
     ]
    }
   ],
   "source": [
    "%%writefile ../scenario_master.py\n",
    "#!/usr/bin/env python\n",
    "# -*- coding: utf8 -*-\n",
    "\n",
    "import elasticite as el\n",
    "import numpy as np\n",
    "\n",
    "class EdgeGrid(el.EdgeGrid):\n",
    "    def __init__(self, vague, x_offset=0, y_offset=0, t_offset=0, N_steps = 256, damp_tau=5., **kwargs):\n",
    "        #super(el.EdgeGrid.__init__(self))\n",
    "        #super(el.EdgeGrid, self).__init__(**kwargs)\n",
    "        el.EdgeGrid.__init__(self, **kwargs)\n",
    "        #print (self.verb, kwargs)\n",
    "        self.vague = vague\n",
    "        self.x_offset = x_offset\n",
    "        self.y_offset = y_offset\n",
    "        self.t_offset = t_offset\n",
    "        self.N_steps = N_steps\n",
    "        #print(self.x_offset, self.y_offset, self.t_offset)\n",
    "        #print(self.z.shape)\n",
    "        self.damp_tau = damp_tau\n",
    "        \n",
    "        \n",
    "    def update(self):\n",
    "        if self.structure: N_lame = self.N_lame-self.struct_N\n",
    "        else: N_lame = self.N_lame\n",
    "        damp = lambda t: 1. - np.exp(-np.abs(np.mod(t+self.period/2, self.period)-self.period/2)/self.damp_tau)\n",
    "\n",
    "        N_periods = 4\n",
    "        i = np.mod(np.int(self.t/self.period * self.vague.shape[2] / N_periods), self.vague.shape[2])\n",
    "        surface = self.vague[self.x_offset:(self.x_offset+N_lame), self.y_offset, self.t_offset+i]\n",
    "        dsurface = np.gradient(surface)\n",
    "        print(dsurface.mean(), dsurface.max(), damp(self.t))\n",
    "        dsurface /= np.abs(dsurface).max()\n",
    "        dsurface *= np.arctan(np.pi/4*damp(self.t)) # maximum angle achieved\n",
    "        self.lames[2, :N_lame] = np.tan(dsurface)\n",
    "        \n",
    "if __name__ == \"__main__\":\n",
    "    import sys\n",
    "    if len(sys.argv)>1: mode = sys.argv[1]\n",
    "    else: mode = 'both'\n",
    "    \n",
    "    burnout_time = 4.\n",
    "    \n",
    "    matpath = '../mat/'\n",
    "    for scenario in ['line_vague_dense', 'line_vague_solo']:\n",
    "        z = np.load(scenario + '.npy')\n",
    "        \n",
    "    period = 20\n",
    "    e = EdgeGrid(N_lame=25, grid_type='line', mode=mode,\n",
    "                 verb=True, period=period, filename='mat/master.npy', \n",
    "                 vague = vague_dense,\n",
    "                 x_offset=0, y_offset=0, t_offset=0, N_steps=512)\n",
    "\n",
    "    # running the code\n",
    "    el.main(e)\n"
   ]
  },
  {
   "cell_type": "code",
   "execution_count": 29,
   "metadata": {
    "collapsed": false,
    "scrolled": true
   },
   "outputs": [
    {
     "name": "stdout",
     "output_type": "stream",
     "text": [
      "Overwriting ../scenario_line_vague_solo.py\n"
     ]
    }
   ],
   "source": [
    "%%writefile ../scenario_line_vague_solo.py\n",
    "#!/usr/bin/env python\n",
    "# -*- coding: utf8 -*-\n",
    "\n",
    "import elasticite as el\n",
    "import numpy as np\n",
    "\n",
    "from scenario_line_vague import make_vague, EdgeGrid\n",
    "\n",
    "if __name__ == \"__main__\":\n",
    "    import sys\n",
    "    if len(sys.argv)>1: mode = sys.argv[1]\n",
    "    else: mode = 'both'\n",
    "    period = 20\n",
    "    vague_solo = make_vague(impulse=True)\n",
    "    e_solo = EdgeGrid(N_lame=25, grid_type='line', mode=mode,\n",
    "                 verb=True, period=period, filename='mat/line_vague_solo.npy', \n",
    "                 vague = vague_solo,\n",
    "                 x_offset=vague_solo.shape[0]//2-25//2, y_offset=vague_solo.shape[1]//2, \n",
    "                 t_offset=vague_solo.shape[-1]*3//8, N_steps=vague_solo.shape[-1]//4)\n",
    "\n",
    "    # running the code\n",
    "    el.main(e_solo)"
   ]
  },
  {
   "cell_type": "markdown",
   "metadata": {},
   "source": [
    "## git\n"
   ]
  },
  {
   "cell_type": "code",
   "execution_count": null,
   "metadata": {
    "collapsed": false
   },
   "outputs": [],
   "source": [
    "! git add 2015-11-26*\n",
    "!git s"
   ]
  },
  {
   "cell_type": "code",
   "execution_count": null,
   "metadata": {
    "collapsed": false
   },
   "outputs": [],
   "source": [
    "!git commit -am' scenario vague '"
   ]
  },
  {
   "cell_type": "code",
   "execution_count": null,
   "metadata": {
    "collapsed": false
   },
   "outputs": [],
   "source": [
    "! git push\n"
   ]
  }
 ],
 "metadata": {
  "kernelspec": {
   "display_name": "Python 3",
   "language": "python",
   "name": "python3"
  },
  "language_info": {
   "codemirror_mode": {
    "name": "ipython",
    "version": 3
   },
   "file_extension": ".py",
   "mimetype": "text/x-python",
   "name": "python",
   "nbconvert_exporter": "python",
   "pygments_lexer": "ipython3",
   "version": "3.5.0"
  }
 },
 "nbformat": 4,
 "nbformat_minor": 0
}

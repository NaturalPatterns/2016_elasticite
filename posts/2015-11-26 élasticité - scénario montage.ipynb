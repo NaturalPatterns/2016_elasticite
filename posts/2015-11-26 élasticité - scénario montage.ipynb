{
 "cells": [
  {
   "cell_type": "code",
   "execution_count": 5,
   "metadata": {
    "collapsed": false
   },
   "outputs": [
    {
     "name": "stdout",
     "output_type": "stream",
     "text": [
      "The autoreload extension is already loaded. To reload it, use:\n",
      "  %reload_ext autoreload\n"
     ]
    }
   ],
   "source": [
    "%load_ext autoreload\n",
    "%autoreload 2"
   ]
  },
  {
   "cell_type": "markdown",
   "metadata": {},
   "source": [
    "## Saving as a scenario"
   ]
  },
  {
   "cell_type": "code",
   "execution_count": 29,
   "metadata": {
    "collapsed": false
   },
   "outputs": [
    {
     "name": "stdout",
     "output_type": "stream",
     "text": [
      "../mat/line_fresnelastique.npy ../mat/line_vague_dense.npy    ../mat/line_vague_solo.npy\r\n"
     ]
    }
   ],
   "source": [
    "!ls ../mat/*\n"
   ]
  },
  {
   "cell_type": "code",
   "execution_count": 35,
   "metadata": {
    "collapsed": false,
    "scrolled": true
   },
   "outputs": [
    {
     "name": "stdout",
     "output_type": "stream",
     "text": [
      "Overwriting ../scenario_line_master.py\n"
     ]
    }
   ],
   "source": [
    "%%writefile ../scenario_line_master.py\n",
    "#!/usr/bin/env python\n",
    "# -*- coding: utf8 -*-\n",
    "\n",
    "import elasticite as el\n",
    "import numpy as np\n",
    "import os\n",
    "\n",
    "def master(e, filename):\n",
    "    if e.structure: N_lame = e.N_lame-e.struct_N\n",
    "    else: N_lame = e.N_lame\n",
    "\n",
    "    def montage(z, z_in):\n",
    "        z_in[:, 0] += z[-1, 0] + e.desired_fps # increment the time on the new array\n",
    "        print (z.shape, z_in.shape, z_in[0, 0], z_in[-1, 0])\n",
    "        return np.vstack((z, z_in))\n",
    "\n",
    "    burnout_time = 4.\n",
    "    z = np.zeros((1, N_lame+1)) # zero at zero\n",
    "    np.vstack((z, np.hstack((np.array(burnout_time), np.zeros(N_lame) ))))\n",
    "    \n",
    "    matpath = 'mat/'\n",
    "    z_s = {}\n",
    "    for scenario in ['line_vague_dense', 'line_vague_solo', 'line_fresnelastique']:\n",
    "        z_s[scenario] = np.load(os.path.join(matpath, scenario + '.npy'))\n",
    "    \n",
    "    ###########################################################################\n",
    "    z = montage(z, z_s['line_vague_dense'])\n",
    "    ###########################################################################\n",
    "    z = montage(z, z_s['line_vague_solo'])\n",
    "    ###########################################################################\n",
    "    z = montage(z, z_s['line_fresnelastique'])\n",
    "    ###########################################################################\n",
    "    z = montage(z, z_s['line_vague_dense'])\n",
    "    \n",
    "    ###########################################################################\n",
    "    # save the file\n",
    "    np.save(filename, z)\n",
    "\n",
    "        \n",
    "\n",
    "if __name__ == \"__main__\":\n",
    "    import sys\n",
    "    if len(sys.argv)>1: mode = sys.argv[1]\n",
    "    else: mode = 'both'\n",
    "        \n",
    "    filename='mat/master.npy'\n",
    "    \n",
    "    e = el.EdgeGrid(N_lame=25, grid_type='line', mode=mode,\n",
    "                 verb=True, filename=filename)\n",
    "\n",
    "    master(e, filename)\n",
    "\n",
    "    # running the code\n",
    "    el.main(e)\n"
   ]
  },
  {
   "cell_type": "code",
   "execution_count": 36,
   "metadata": {
    "collapsed": false,
    "scrolled": true
   },
   "outputs": [
    {
     "name": "stdout",
     "output_type": "stream",
     "text": [
      "/Users/laurentperrinet/pool/Dropbox/py-elasticite\n"
     ]
    },
    {
     "ename": "ValueError",
     "evalue": "zero-size array to reduction operation maximum which has no identity",
     "output_type": "error",
     "traceback": [
      "\u001b[0;31m---------------------------------------------------------------------------\u001b[0m",
      "\u001b[0;31mValueError\u001b[0m                                Traceback (most recent call last)",
      "\u001b[0;32m/Users/laurentperrinet/pool/Dropbox/py-elasticite/scenario_line_master.py\u001b[0m in \u001b[0;36m<module>\u001b[0;34m()\u001b[0m\n\u001b[1;32m     47\u001b[0m \u001b[0;34m\u001b[0m\u001b[0m\n\u001b[1;32m     48\u001b[0m     e = el.EdgeGrid(N_lame=25, grid_type='line', mode=mode,\n\u001b[0;32m---> 49\u001b[0;31m                  verb=True, filename=filename)\n\u001b[0m\u001b[1;32m     50\u001b[0m \u001b[0;34m\u001b[0m\u001b[0m\n\u001b[1;32m     51\u001b[0m     \u001b[0mmaster\u001b[0m\u001b[0;34m(\u001b[0m\u001b[0me\u001b[0m\u001b[0;34m,\u001b[0m \u001b[0mfilename\u001b[0m\u001b[0;34m)\u001b[0m\u001b[0;34m\u001b[0m\u001b[0m\n",
      "\u001b[0;32m/Users/laurentperrinet/pool/Dropbox/py-elasticite/src/elasticite.py\u001b[0m in \u001b[0;36m__init__\u001b[0;34m(self, N_lame, N_lame_X, figsize, line_width, grid_type, structure, struct_angles, verb, mode, filename, period, **kw_args)\u001b[0m\n\u001b[1;32m    124\u001b[0m             \u001b[0;31m# le fichier existe, on charge\u001b[0m\u001b[0;34m\u001b[0m\u001b[0;34m\u001b[0m\u001b[0m\n\u001b[1;32m    125\u001b[0m                 \u001b[0mself\u001b[0m\u001b[0;34m.\u001b[0m\u001b[0mz\u001b[0m \u001b[0;34m=\u001b[0m \u001b[0mnp\u001b[0m\u001b[0;34m.\u001b[0m\u001b[0mload\u001b[0m\u001b[0;34m(\u001b[0m\u001b[0mself\u001b[0m\u001b[0;34m.\u001b[0m\u001b[0mfilename\u001b[0m\u001b[0;34m)\u001b[0m\u001b[0;34m\u001b[0m\u001b[0m\n\u001b[0;32m--> 126\u001b[0;31m                 \u001b[0mself\u001b[0m\u001b[0;34m.\u001b[0m\u001b[0mperiod\u001b[0m \u001b[0;34m=\u001b[0m \u001b[0mself\u001b[0m\u001b[0;34m.\u001b[0m\u001b[0mz\u001b[0m\u001b[0;34m[\u001b[0m\u001b[0;34m:\u001b[0m\u001b[0;34m,\u001b[0m \u001b[0;36m0\u001b[0m\u001b[0;34m]\u001b[0m\u001b[0;34m.\u001b[0m\u001b[0mmax\u001b[0m\u001b[0;34m(\u001b[0m\u001b[0;34m)\u001b[0m\u001b[0;34m\u001b[0m\u001b[0m\n\u001b[0m\u001b[1;32m    127\u001b[0m \u001b[0;34m\u001b[0m\u001b[0m\n\u001b[1;32m    128\u001b[0m     \u001b[0;32mdef\u001b[0m \u001b[0mtime\u001b[0m\u001b[0;34m(\u001b[0m\u001b[0mself\u001b[0m\u001b[0;34m,\u001b[0m \u001b[0minit\u001b[0m\u001b[0;34m=\u001b[0m\u001b[0;32mFalse\u001b[0m\u001b[0;34m)\u001b[0m\u001b[0;34m:\u001b[0m\u001b[0;34m\u001b[0m\u001b[0m\n",
      "\u001b[0;32m/usr/local/lib/python3.5/site-packages/numpy/core/_methods.py\u001b[0m in \u001b[0;36m_amax\u001b[0;34m(a, axis, out, keepdims)\u001b[0m\n\u001b[1;32m     24\u001b[0m \u001b[0;31m# small reductions\u001b[0m\u001b[0;34m\u001b[0m\u001b[0;34m\u001b[0m\u001b[0m\n\u001b[1;32m     25\u001b[0m \u001b[0;32mdef\u001b[0m \u001b[0m_amax\u001b[0m\u001b[0;34m(\u001b[0m\u001b[0ma\u001b[0m\u001b[0;34m,\u001b[0m \u001b[0maxis\u001b[0m\u001b[0;34m=\u001b[0m\u001b[0;32mNone\u001b[0m\u001b[0;34m,\u001b[0m \u001b[0mout\u001b[0m\u001b[0;34m=\u001b[0m\u001b[0;32mNone\u001b[0m\u001b[0;34m,\u001b[0m \u001b[0mkeepdims\u001b[0m\u001b[0;34m=\u001b[0m\u001b[0;32mFalse\u001b[0m\u001b[0;34m)\u001b[0m\u001b[0;34m:\u001b[0m\u001b[0;34m\u001b[0m\u001b[0m\n\u001b[0;32m---> 26\u001b[0;31m     \u001b[0;32mreturn\u001b[0m \u001b[0mumr_maximum\u001b[0m\u001b[0;34m(\u001b[0m\u001b[0ma\u001b[0m\u001b[0;34m,\u001b[0m \u001b[0maxis\u001b[0m\u001b[0;34m,\u001b[0m \u001b[0;32mNone\u001b[0m\u001b[0;34m,\u001b[0m \u001b[0mout\u001b[0m\u001b[0;34m,\u001b[0m \u001b[0mkeepdims\u001b[0m\u001b[0;34m)\u001b[0m\u001b[0;34m\u001b[0m\u001b[0m\n\u001b[0m\u001b[1;32m     27\u001b[0m \u001b[0;34m\u001b[0m\u001b[0m\n\u001b[1;32m     28\u001b[0m \u001b[0;32mdef\u001b[0m \u001b[0m_amin\u001b[0m\u001b[0;34m(\u001b[0m\u001b[0ma\u001b[0m\u001b[0;34m,\u001b[0m \u001b[0maxis\u001b[0m\u001b[0;34m=\u001b[0m\u001b[0;32mNone\u001b[0m\u001b[0;34m,\u001b[0m \u001b[0mout\u001b[0m\u001b[0;34m=\u001b[0m\u001b[0;32mNone\u001b[0m\u001b[0;34m,\u001b[0m \u001b[0mkeepdims\u001b[0m\u001b[0;34m=\u001b[0m\u001b[0;32mFalse\u001b[0m\u001b[0;34m)\u001b[0m\u001b[0;34m:\u001b[0m\u001b[0;34m\u001b[0m\u001b[0m\n",
      "\u001b[0;31mValueError\u001b[0m: zero-size array to reduction operation maximum which has no identity"
     ]
    },
    {
     "name": "stdout",
     "output_type": "stream",
     "text": [
      "/Users/laurentperrinet/pool/Dropbox/py-elasticite/posts\n"
     ]
    }
   ],
   "source": [
    "%cd ..\n",
    "%run  scenario_line_master.py writer\n",
    "%cd posts"
   ]
  },
  {
   "cell_type": "markdown",
   "metadata": {},
   "source": [
    "## git\n"
   ]
  },
  {
   "cell_type": "code",
   "execution_count": 33,
   "metadata": {
    "collapsed": false
   },
   "outputs": [
    {
     "name": "stdout",
     "output_type": "stream",
     "text": [
      "\u001b[33mM\u001b[m  \"2015-11-26 \\303\\251lasticit\\303\\251 - sc\\303\\251nario montage.ipynb\"\r\n",
      "\u001b[33mM\u001b[m  \"2015-11-26 \\303\\251lasticit\\303\\251 - sc\\303\\251nario vague.ipynb\"\r\n",
      " \u001b[32mM\u001b[m ../src/elasticite.py\r\n",
      "\u001b[36m??\u001b[m ../mat/line_fresnelastique.npy\r\n",
      "\u001b[36m??\u001b[m ../mat/master.npy\r\n",
      "\u001b[36m??\u001b[m ../scenario_line_master.py\r\n",
      "\u001b[36m??\u001b[m ../scenario_master.py\r\n"
     ]
    }
   ],
   "source": [
    "! git add 2015-11-26*\n",
    "!git s"
   ]
  },
  {
   "cell_type": "code",
   "execution_count": 34,
   "metadata": {
    "collapsed": false
   },
   "outputs": [
    {
     "name": "stdout",
     "output_type": "stream",
     "text": [
      "[master 1f9351c]  scenario master\r\n",
      " 3 files changed, 12324 insertions(+), 7463 deletions(-)\r\n",
      " rewrite \"posts/2015-11-26 \\303\\251lasticit\\303\\251 - sc\\303\\251nario vague.ipynb\" (71%)\r\n"
     ]
    }
   ],
   "source": [
    "!git commit -am' scenario master '"
   ]
  },
  {
   "cell_type": "code",
   "execution_count": null,
   "metadata": {
    "collapsed": false
   },
   "outputs": [],
   "source": [
    "! git push\n"
   ]
  }
 ],
 "metadata": {
  "kernelspec": {
   "display_name": "Python 3",
   "language": "python",
   "name": "python3"
  },
  "language_info": {
   "codemirror_mode": {
    "name": "ipython",
    "version": 3
   },
   "file_extension": ".py",
   "mimetype": "text/x-python",
   "name": "python",
   "nbconvert_exporter": "python",
   "pygments_lexer": "ipython3",
   "version": "3.5.0"
  }
 },
 "nbformat": 4,
 "nbformat_minor": 0
}

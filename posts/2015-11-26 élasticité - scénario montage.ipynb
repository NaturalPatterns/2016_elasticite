{
 "cells": [
  {
   "cell_type": "code",
   "execution_count": 11,
   "metadata": {
    "collapsed": false
   },
   "outputs": [
    {
     "name": "stdout",
     "output_type": "stream",
     "text": [
      "The autoreload extension is already loaded. To reload it, use:\n",
      "  %reload_ext autoreload\n"
     ]
    },
    {
     "name": "stderr",
     "output_type": "stream",
     "text": [
      "/usr/local/lib/python3.5/site-packages/matplotlib/__init__.py:1350: UserWarning:  This call to matplotlib.use() has no effect\n",
      "because the backend has already been chosen;\n",
      "matplotlib.use() must be called *before* pylab, matplotlib.pyplot,\n",
      "or matplotlib.backends is imported for the first time.\n",
      "\n",
      "  warnings.warn(_use_error_msg)\n"
     ]
    }
   ],
   "source": [
    "%load_ext autoreload\n",
    "%autoreload 2\n",
    "\n",
    "import matplotlib\n",
    "matplotlib.use('nbagg')\n",
    "%matplotlib inline\n",
    "import matplotlib.pyplot as plt\n"
   ]
  },
  {
   "cell_type": "markdown",
   "metadata": {},
   "source": [
    "## Saving as a scenario"
   ]
  },
  {
   "cell_type": "code",
   "execution_count": 12,
   "metadata": {
    "collapsed": false
   },
   "outputs": [
    {
     "name": "stdout",
     "output_type": "stream",
     "text": [
      "../mat/line_fresnelastique.npy ../mat/line_vague_solo.npy\r\n",
      "../mat/line_vague_dense.npy    ../mat/master.npy\r\n"
     ]
    }
   ],
   "source": [
    "!ls ../mat/*"
   ]
  },
  {
   "cell_type": "code",
   "execution_count": 37,
   "metadata": {
    "collapsed": false,
    "scrolled": true
   },
   "outputs": [
    {
     "name": "stdout",
     "output_type": "stream",
     "text": [
      "Overwriting ../scenario_line_master.py\n"
     ]
    }
   ],
   "source": [
    "%%writefile ../scenario_line_master.py\n",
    "#!/usr/bin/env python\n",
    "# -*- coding: utf8 -*-\n",
    "\n",
    "import elasticite as el\n",
    "import numpy as np\n",
    "import os\n",
    "\n",
    "def master(e, filename):\n",
    "    if e.structure: N_lame = e.N_lame-e.struct_N\n",
    "    else: N_lame = e.N_lame\n",
    "\n",
    "    def montage(z, z_in):\n",
    "        z_out = z.copy()\n",
    "        z_s = z_in.copy()\n",
    "        print (z_out[0, 0], z_out[-1, 0], z_s[0, 0], z_s[-1, 0])\n",
    "        z_s[:, 0] += z_out[-1, 0] #+ 1./e.desired_fps # increment the time on the new array\n",
    "        print (z_out.shape, z_s.shape, z_s[0, 0], z_s[-1, 0])\n",
    "        return np.vstack((z_out, z_s))\n",
    "\n",
    "    matpath = 'mat/'\n",
    "    z_s = {}\n",
    "    for scenario in ['line_vague_dense', 'line_vague_solo', 'line_fresnelastique']:\n",
    "        z_s[scenario] = np.load(os.path.join(matpath, scenario + '.npy'))\n",
    "    \n",
    "    ###########################################################################\n",
    "    burnout_time = 4.\n",
    "    z = np.zeros((1, N_lame+1)) # zero at zero\n",
    "    z = np.vstack((z, np.hstack((np.array(burnout_time), np.zeros(N_lame) ))))\n",
    "    for _ in range(36):\n",
    "        ###########################################################################\n",
    "        #z = montage(z, z_s['line_vague_dense'])\n",
    "        ###########################################################################\n",
    "        #z = montage(z, z_s['line_vague_solo'])\n",
    "        ###########################################################################\n",
    "        z = montage(z, z_s['line_fresnelastique'])\n",
    "        ###########################################################################\n",
    "        #z = montage(z, z_s['line_vague_dense'])\n",
    "    \n",
    "    ###########################################################################\n",
    "    # save the file\n",
    "    np.save(filename, z)\n",
    "\n",
    "        \n",
    "\n",
    "if __name__ == \"__main__\":\n",
    "    import sys\n",
    "    if len(sys.argv)>1: mode = sys.argv[1]\n",
    "    else: mode = 'both'\n",
    "        \n",
    "    filename='mat/master.npy'\n",
    "    \n",
    "    e = el.EdgeGrid(N_lame=25, grid_type='line', mode=mode,\n",
    "                 verb=True, filename=filename)\n",
    "\n",
    "    if mode == 'writer':\n",
    "        master(e, filename)\n",
    "    else:\n",
    "        # running the code\n",
    "        el.main(e)\n"
   ]
  },
  {
   "cell_type": "code",
   "execution_count": 38,
   "metadata": {
    "collapsed": false,
    "scrolled": true
   },
   "outputs": [
    {
     "name": "stdout",
     "output_type": "stream",
     "text": [
      "/Users/laurentperrinet/pool/Dropbox/py-elasticite\n",
      "0.0 4.0 0.0 119.966666667\n",
      "(2, 26) (3600, 26) 4.0 123.966666667\n",
      "0.0 123.966666667 0.0 119.966666667\n",
      "(3602, 26) (3600, 26) 123.966666667 243.933333333\n",
      "0.0 243.933333333 0.0 119.966666667\n",
      "(7202, 26) (3600, 26) 243.933333333 363.9\n",
      "0.0 363.9 0.0 119.966666667\n",
      "(10802, 26) (3600, 26) 363.9 483.866666667\n",
      "0.0 483.866666667 0.0 119.966666667\n",
      "(14402, 26) (3600, 26) 483.866666667 603.833333333\n",
      "0.0 603.833333333 0.0 119.966666667\n",
      "(18002, 26) (3600, 26) 603.833333333 723.8\n",
      "0.0 723.8 0.0 119.966666667\n",
      "(21602, 26) (3600, 26) 723.8 843.766666667\n",
      "0.0 843.766666667 0.0 119.966666667\n",
      "(25202, 26) (3600, 26) 843.766666667 963.733333333\n",
      "0.0 963.733333333 0.0 119.966666667\n",
      "(28802, 26) (3600, 26) 963.733333333 1083.7\n",
      "0.0 1083.7 0.0 119.966666667\n",
      "(32402, 26) (3600, 26) 1083.7 1203.66666667\n",
      "0.0 1203.66666667 0.0 119.966666667\n",
      "(36002, 26) (3600, 26) 1203.66666667 1323.63333333\n",
      "0.0 1323.63333333 0.0 119.966666667\n",
      "(39602, 26) (3600, 26) 1323.63333333 1443.6\n",
      "0.0 1443.6 0.0 119.966666667\n",
      "(43202, 26) (3600, 26) 1443.6 1563.56666667\n",
      "0.0 1563.56666667 0.0 119.966666667\n",
      "(46802, 26) (3600, 26) 1563.56666667 1683.53333333\n",
      "0.0 1683.53333333 0.0 119.966666667\n",
      "(50402, 26) (3600, 26) 1683.53333333 1803.5\n",
      "0.0 1803.5 0.0 119.966666667\n",
      "(54002, 26) (3600, 26) 1803.5 1923.46666667\n",
      "0.0 1923.46666667 0.0 119.966666667\n",
      "(57602, 26) (3600, 26) 1923.46666667 2043.43333333\n",
      "0.0 2043.43333333 0.0 119.966666667\n",
      "(61202, 26) (3600, 26) 2043.43333333 2163.4\n",
      "0.0 2163.4 0.0 119.966666667\n",
      "(64802, 26) (3600, 26) 2163.4 2283.36666667\n",
      "0.0 2283.36666667 0.0 119.966666667\n",
      "(68402, 26) (3600, 26) 2283.36666667 2403.33333333\n",
      "0.0 2403.33333333 0.0 119.966666667\n",
      "(72002, 26) (3600, 26) 2403.33333333 2523.3\n",
      "0.0 2523.3 0.0 119.966666667\n",
      "(75602, 26) (3600, 26) 2523.3 2643.26666667\n",
      "0.0 2643.26666667 0.0 119.966666667\n",
      "(79202, 26) (3600, 26) 2643.26666667 2763.23333333\n",
      "0.0 2763.23333333 0.0 119.966666667\n",
      "(82802, 26) (3600, 26) 2763.23333333 2883.2\n",
      "0.0 2883.2 0.0 119.966666667\n",
      "(86402, 26) (3600, 26) 2883.2 3003.16666667\n",
      "0.0 3003.16666667 0.0 119.966666667\n",
      "(90002, 26) (3600, 26) 3003.16666667 3123.13333333\n",
      "0.0 3123.13333333 0.0 119.966666667\n",
      "(93602, 26) (3600, 26) 3123.13333333 3243.1\n",
      "0.0 3243.1 0.0 119.966666667\n",
      "(97202, 26) (3600, 26) 3243.1 3363.06666667\n",
      "0.0 3363.06666667 0.0 119.966666667\n",
      "(100802, 26) (3600, 26) 3363.06666667 3483.03333333\n",
      "0.0 3483.03333333 0.0 119.966666667\n",
      "(104402, 26) (3600, 26) 3483.03333333 3603.0\n",
      "0.0 3603.0 0.0 119.966666667\n",
      "(108002, 26) (3600, 26) 3603.0 3722.96666667\n",
      "0.0 3722.96666667 0.0 119.966666667\n",
      "(111602, 26) (3600, 26) 3722.96666667 3842.93333333\n",
      "0.0 3842.93333333 0.0 119.966666667\n",
      "(115202, 26) (3600, 26) 3842.93333333 3962.9\n",
      "0.0 3962.9 0.0 119.966666667\n",
      "(118802, 26) (3600, 26) 3962.9 4082.86666667\n",
      "0.0 4082.86666667 0.0 119.966666667\n",
      "(122402, 26) (3600, 26) 4082.86666667 4202.83333333\n",
      "0.0 4202.83333333 0.0 119.966666667\n",
      "(126002, 26) (3600, 26) 4202.83333333 4322.8\n",
      "/Users/laurentperrinet/pool/Dropbox/py-elasticite/posts\n"
     ]
    }
   ],
   "source": [
    "%cd ..\n",
    "%run  scenario_line_master.py writer\n",
    "%cd posts"
   ]
  },
  {
   "cell_type": "code",
   "execution_count": null,
   "metadata": {
    "collapsed": false,
    "scrolled": true
   },
   "outputs": [
    {
     "data": {
      "image/png": "[encoded data removed]",
      "text/plain": [
       "<matplotlib.figure.Figure at 0x10e8614e0>"
      ]
     },
     "metadata": {},
     "output_type": "display_data"
    }
   ],
   "source": [
    "z = np.load('../mat/master.npy')\n",
    "fig, ax = plt.subplots(figsize=(15, 3))\n",
    "_ = ax.plot(z[:, 0])"
   ]
  },
  {
   "cell_type": "code",
   "execution_count": null,
   "metadata": {
    "collapsed": false
   },
   "outputs": [],
   "source": [
    "fig, ax = plt.subplots(figsize=(15, 3))\n",
    "_ = ax.plot(z[:, 0], z[:, 1:])"
   ]
  },
  {
   "cell_type": "markdown",
   "metadata": {},
   "source": [
    "## git\n"
   ]
  },
  {
   "cell_type": "code",
   "execution_count": 17,
   "metadata": {
    "collapsed": false
   },
   "outputs": [
    {
     "name": "stdout",
     "output_type": "stream",
     "text": [
      " \u001b[32mM\u001b[m ../mat/master.npy\r\n",
      " \u001b[32mM\u001b[m \"2015-10-14 \\303\\251lasticit\\303\\251, Fresnel.ipynb\"\r\n",
      "\u001b[36m??\u001b[m ../.gitignore_conflict-20151125-105937\r\n",
      "\u001b[36m??\u001b[m \"2015-11-02 \\303\\251lasticit\\303\\251 expansion en miroir - exploration param\\303\\250tres_conflict-20151125-105824.ipynb\"\r\n",
      "\u001b[36m??\u001b[m \"2015-11-02 \\303\\251lasticit\\303\\251 expansion en miroir - principes_conflict-20151123-174335.ipynb\"\r\n",
      "\u001b[36m??\u001b[m \"2015-11-17 \\303\\251lasticit\\303\\251 expansion en miroir - dynamique d'un point focal2.ipynb\"\r\n",
      "\u001b[36m??\u001b[m \"2015-11-17 \\303\\251lasticit\\303\\251 expansion en miroir - dynamique d'un point focal_conflict-20151123-174338.ipynb\"\r\n",
      "\u001b[36m??\u001b[m ../scenario_line_fresnel_conflict-20151123-162407.py\r\n",
      "\u001b[36m??\u001b[m ../src/elasticite_conflict-20151123-173759.py\r\n"
     ]
    }
   ],
   "source": [
    "#! git add 2015-11-26*\n",
    "!git s"
   ]
  },
  {
   "cell_type": "code",
   "execution_count": 18,
   "metadata": {
    "collapsed": false
   },
   "outputs": [
    {
     "name": "stdout",
     "output_type": "stream",
     "text": [
      "[master eaf6ddb]  scenario master\n",
      " 2 files changed, 43 insertions(+), 4 deletions(-)\n"
     ]
    }
   ],
   "source": [
    "!git commit -am' scenario master '"
   ]
  },
  {
   "cell_type": "code",
   "execution_count": 19,
   "metadata": {
    "collapsed": false
   },
   "outputs": [
    {
     "name": "stdout",
     "output_type": "stream",
     "text": [
      "Counting objects: 21, done.\n",
      "Delta compression using up to 4 threads.\n",
      "Compressing objects: 100% (21/21), done.\n",
      "Writing objects: 100% (21/21), 197.75 KiB | 0 bytes/s, done.\n",
      "Total 21 (delta 15), reused 0 (delta 0)\n",
      "To git@git.framasoft.org:laurentperrinet/elasticte.git\n",
      "   f5634ef..eaf6ddb  master -> master\n"
     ]
    }
   ],
   "source": [
    "! git push"
   ]
  }
 ],
 "metadata": {
  "kernelspec": {
   "display_name": "Python 3",
   "language": "python",
   "name": "python3"
  },
  "language_info": {
   "codemirror_mode": {
    "name": "ipython",
    "version": 3
   },
   "file_extension": ".py",
   "mimetype": "text/x-python",
   "name": "python",
   "nbconvert_exporter": "python",
   "pygments_lexer": "ipython3",
   "version": "3.5.0"
  }
 },
 "nbformat": 4,
 "nbformat_minor": 0
}

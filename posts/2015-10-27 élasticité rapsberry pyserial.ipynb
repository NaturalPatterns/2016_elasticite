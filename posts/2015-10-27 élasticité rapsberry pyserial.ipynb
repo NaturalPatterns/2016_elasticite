{
 "cells": [
  {
   "cell_type": "code",
   "execution_count": 2,
   "metadata": {
    "collapsed": false
   },
   "outputs": [],
   "source": [
    "%load_ext autoreload\n",
    "%autoreload 2"
   ]
  },
  {
   "cell_type": "markdown",
   "metadata": {
    "collapsed": true
   },
   "source": [
    "1. sharing internet on the laocal machine\n",
    "\n",
    "``\n",
    "    ifconfig\n",
    "``\n",
    "\n",
    "2. scanning the local network to find the raspberry π\n",
    "\n",
    "``\n",
    "    nmap -T4 -sP 192.168.2.0/24\n",
    "``\n",
    "\n",
    "3 . cloned the repository on the π\n",
    "\n",
    "````\n",
    "  686  pip install pyserial\n",
    "  687  vim .ssh/id_rsa.pub\n",
    "  688  vim .ssh/id_rsa\n",
    "  689  chmod 0600 .ssh/id_rsa\n",
    "  690  git clone git@git.framasoft.org:laurentperrinet/elasticte.git\n",
    "  691  cd elasticte/\n",
    "  692  ls\n",
    "  693  cat scenario_line_contraint.py\n",
    "  694  python scenario_line_contraint.py  serial\n",
    "  695  pip install -e .\n",
    "  696  pip install --user -e .\n",
    "  697  python scenario_line_contraint.py  serial\n",
    "``\n"
   ]
  },
  {
   "cell_type": "code",
   "execution_count": 4,
   "metadata": {
    "collapsed": false
   },
   "outputs": [],
   "source": [
    "duration = el.get_default_args(el.EdgeGrid.render)['duration']"
   ]
  },
  {
   "cell_type": "code",
   "execution_count": 5,
   "metadata": {
    "collapsed": false
   },
   "outputs": [],
   "source": [
    "\n",
    "class EdgeGrid(el.EdgeGrid):\n",
    "    def update_particles(self):\n",
    "        self.particles[2,:] =  .5 + .5*np.cos((self.t + np.linspace(0, 1., self.N_particles))*2*np.pi)\n",
    "\n",
    "    def update(self):\n",
    "        self.update_particles()\n",
    "\n",
    "e = EdgeGrid(N_lame=25, grid_type='line')\n",
    "fig, ax = plt.subplots(1, 1, figsize=(e.figsize, e.figsize))\n",
    "#ax = fig.add_axes((0, 0, 1, 1), axisbg='w')\n",
    "fps = 10.\n",
    "e.dt = 1./fps\n",
    "opts = dict(vmin=0, vmax=1., linewidths=0, cmap=plt.cm.bone)\n",
    "#print(opts)"
   ]
  },
  {
   "cell_type": "code",
   "execution_count": 6,
   "metadata": {
    "collapsed": false
   },
   "outputs": [
    {
     "ename": "NameError",
     "evalue": "name 'mpy' is not defined",
     "output_type": "error",
     "traceback": [
      "\u001b[0;31m---------------------------------------------------------------------------\u001b[0m",
      "\u001b[0;31mNameError\u001b[0m                                 Traceback (most recent call last)",
      "\u001b[0;32m<ipython-input-6-8e326fd074b0>\u001b[0m in \u001b[0;36m<module>\u001b[0;34m()\u001b[0m\n\u001b[1;32m      7\u001b[0m     \u001b[0;32mreturn\u001b[0m \u001b[0mmplfig_to_npimage\u001b[0m\u001b[0;34m(\u001b[0m\u001b[0mfig\u001b[0m\u001b[0;34m)\u001b[0m \u001b[0;31m# RGB image of the figure\u001b[0m\u001b[0;34m\u001b[0m\u001b[0m\n\u001b[1;32m      8\u001b[0m \u001b[0;34m\u001b[0m\u001b[0m\n\u001b[0;32m----> 9\u001b[0;31m \u001b[0manimation\u001b[0m \u001b[0;34m=\u001b[0m \u001b[0mmpy\u001b[0m\u001b[0;34m.\u001b[0m\u001b[0mVideoClip\u001b[0m\u001b[0;34m(\u001b[0m\u001b[0mmake_frame_mpl\u001b[0m\u001b[0;34m,\u001b[0m \u001b[0mduration\u001b[0m\u001b[0;34m=\u001b[0m\u001b[0mduration\u001b[0m\u001b[0;34m)\u001b[0m\u001b[0;34m\u001b[0m\u001b[0m\n\u001b[0m\u001b[1;32m     10\u001b[0m \u001b[0manimation\u001b[0m\u001b[0;34m.\u001b[0m\u001b[0mipython_display\u001b[0m\u001b[0;34m(\u001b[0m\u001b[0mfps\u001b[0m\u001b[0;34m=\u001b[0m\u001b[0mfps\u001b[0m\u001b[0;34m,\u001b[0m \u001b[0mloop\u001b[0m\u001b[0;34m=\u001b[0m\u001b[0;36m1\u001b[0m\u001b[0;34m,\u001b[0m \u001b[0mautoplay\u001b[0m\u001b[0;34m=\u001b[0m\u001b[0;36m1\u001b[0m\u001b[0;34m)\u001b[0m\u001b[0;34m\u001b[0m\u001b[0m\n",
      "\u001b[0;31mNameError\u001b[0m: name 'mpy' is not defined"
     ]
    }
   ],
   "source": [
    "def make_frame_mpl(t):    \n",
    "    ax.clear()\n",
    "    ax.axis('off')\n",
    "    e.t = t\n",
    "    e.update()\n",
    "    scat  = ax.scatter(e.particles[0,:], e.particles[1,:], c=e.particles[2,:], **opts)\n",
    "    return mplfig_to_npimage(fig) # RGB image of the figure\n",
    "\n",
    "animation = mpy.VideoClip(make_frame_mpl, duration=duration)\n",
    "animation.ipython_display(fps=fps, loop=1, autoplay=1)"
   ]
  },
  {
   "cell_type": "markdown",
   "metadata": {},
   "source": [
    "## git\n"
   ]
  },
  {
   "cell_type": "code",
   "execution_count": 63,
   "metadata": {
    "collapsed": false
   },
   "outputs": [
    {
     "name": "stdout",
     "output_type": "stream",
     "text": [
      " \u001b[32mM\u001b[m \"2015-10-27 \\303\\251lasticit\\303\\251 expansion.ipynb\"\r\n",
      "\u001b[36m??\u001b[m ../.ipynb_checkpoints/\r\n",
      "\u001b[36m??\u001b[m ../PLAN_PRINCIPE_PROTO/\r\n",
      "\u001b[36m??\u001b[m ../Presentation-Dossier-Artistique/\r\n",
      "\u001b[36m??\u001b[m ../TESTS_TRAME/\r\n",
      "\u001b[36m??\u001b[m ../__temp_ipython__.png\r\n",
      "\u001b[36m??\u001b[m ../files/elastic_fresnel.mp4\r\n",
      "\u001b[36m??\u001b[m ../files/elastic_fresnel_gauche.mp4\r\n",
      "\u001b[36m??\u001b[m ../files/elastic_fresnel_lateral.mp4\r\n",
      "\u001b[36m??\u001b[m ../files/elastic_fresnel_pasapas.mp4\r\n",
      "\u001b[36m??\u001b[m ../files/elastic_fresnel_rot.mp4\r\n",
      "\u001b[36m??\u001b[m ../files/fresnel.mp4\r\n",
      "\u001b[36m??\u001b[m \"../files/grille_carr\\303\\251e.mp4\"\r\n",
      "\u001b[36m??\u001b[m ../files/lames_contraintes.mp4\r\n",
      "\u001b[36m??\u001b[m ../files/lames_oscillantes.mp4\r\n",
      "\u001b[36m??\u001b[m ../files/lames_oscillantes_fps5.mp4\r\n",
      "\u001b[36m??\u001b[m \"../notes-Laurent/2015-10-22_\\303\\251lasticit\\303\\251 LAMES-Dynamique_pdf.pdf\"\r\n",
      "\u001b[36m??\u001b[m .ipynb_checkpoints/\r\n",
      "\u001b[36m??\u001b[m __temp__.mp4\r\n",
      "\u001b[36m??\u001b[m __temp_ipython__.png\r\n",
      "\u001b[36m??\u001b[m anim.gif\r\n",
      "\u001b[36m??\u001b[m ../screenshot.png\r\n",
      "\u001b[36m??\u001b[m ../src/elasticite.egg-info/\r\n"
     ]
    }
   ],
   "source": [
    "!git s\n",
    "#!git add 2015-10-27\\ élasticité\\ expansion.ipynb"
   ]
  },
  {
   "cell_type": "code",
   "execution_count": 15,
   "metadata": {
    "collapsed": false
   },
   "outputs": [
    {
     "name": "stdout",
     "output_type": "stream",
     "text": [
      "[master 5217ce7]  expansion - function de samples sur la structure\n",
      " 3 files changed, 1036 insertions(+), 1209 deletions(-)\n",
      " rewrite posts/2015-04-30_trame-sensorielle.ipynb (99%)\n"
     ]
    }
   ],
   "source": [
    "!git commit -am' expansion - function de samples sur la structure'"
   ]
  },
  {
   "cell_type": "code",
   "execution_count": 16,
   "metadata": {
    "collapsed": false
   },
   "outputs": [
    {
     "name": "stdout",
     "output_type": "stream",
     "text": [
      "Counting objects: 17, done.\n",
      "Delta compression using up to 4 threads.\n",
      "Compressing objects: 100% (17/17), done.\n",
      "Writing objects: 100% (17/17), 76.41 KiB | 0 bytes/s, done.\n",
      "Total 17 (delta 11), reused 0 (delta 0)\n",
      "To git@git.framasoft.org:laurentperrinet/elasticte.git\n",
      "   3f02e9c..5217ce7  master -> master\n"
     ]
    }
   ],
   "source": [
    "! git push\n"
   ]
  },
  {
   "cell_type": "code",
   "execution_count": null,
   "metadata": {
    "collapsed": true
   },
   "outputs": [],
   "source": []
  }
 ],
 "metadata": {
  "kernelspec": {
   "display_name": "Python 3",
   "language": "python",
   "name": "python3"
  },
  "language_info": {
   "codemirror_mode": {
    "name": "ipython",
    "version": 3
   },
   "file_extension": ".py",
   "mimetype": "text/x-python",
   "name": "python",
   "nbconvert_exporter": "python",
   "pygments_lexer": "ipython3",
   "version": "3.5.0"
  }
 },
 "nbformat": 4,
 "nbformat_minor": 0
}

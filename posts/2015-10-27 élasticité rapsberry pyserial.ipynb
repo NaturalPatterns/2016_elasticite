{
 "cells": [
  {
   "cell_type": "code",
   "execution_count": 8,
   "metadata": {
    "collapsed": false
   },
   "outputs": [],
   "source": [
    "%load_ext autoreload\n",
    "%autoreload 2\n",
    "import numpy as np\n"
   ]
  },
  {
   "cell_type": "markdown",
   "metadata": {
    "collapsed": true
   },
   "source": [
    "1. sharing internet on the laocal machine\n",
    "\n",
    "````\n",
    "    ifconfig\n",
    "````\n",
    "\n",
    "2. scanning the local network to find the raspberry π\n",
    "\n",
    "````\n",
    "    nmap -T4 -sP 192.168.2.0/24\n",
    "````\n",
    "\n",
    "3. what I used to clone the repository on the π\n",
    "\n",
    "````\n",
    "  686  pip install pyserial\n",
    "  687  vim .ssh/id_rsa.pub\n",
    "  688  vim .ssh/id_rsa\n",
    "  689  chmod 0600 .ssh/id_rsa\n",
    "  690  git clone git@git.framasoft.org:laurentperrinet/elasticte.git\n",
    "  691  cd elasticte/\n",
    "  692  ls\n",
    "  693  cat scenario_line_contraint.py\n",
    "  694  python scenario_line_contraint.py  serial\n",
    "  695  pip install -e .\n",
    "  696  pip install --user -e .\n",
    "  697  python scenario_line_contraint.py  serial\n",
    "````\n",
    "\n",
    "4. starting \n",
    "\n",
    "````\n",
    "\n",
    "⇒  ssh pi@192.168.2.3\n",
    "pi@192.168.2.3's password: tropic\n",
    "\n",
    "Linux pielastic 3.18.7-v7+ #755 SMP PREEMPT Thu Feb 12 17:20:48 GMT 2015 armv7l\n",
    "\n",
    "pi@pielastic ~ $ cd elasticte/\n",
    "\n",
    "pi@pielastic ~/elasticte $ git pull # to update the code\n",
    "Already up-to-date.\n",
    "\n",
    "pi@pielastic ~/elasticte $ python scenario_line_contraint.py serial\n",
    "\n",
    "````\n"
   ]
  },
  {
   "cell_type": "markdown",
   "metadata": {},
   "source": [
    "## coordonées absolues\n",
    "\n",
    "Prenons un cas  simple avec 12 pas possible et calculons en fonction de la position actuelle et de la position désirée la commande à envoyer aux moteurs"
   ]
  },
  {
   "cell_type": "code",
   "execution_count": 7,
   "metadata": {
    "collapsed": false
   },
   "outputs": [
    {
     "name": "stdout",
     "output_type": "stream",
     "text": [
      "-2\n",
      "4\n"
     ]
    }
   ],
   "source": [
    "nb_pas = 12\n",
    "position_present = 6\n",
    "position_desired = 4\n",
    "\n",
    "d_position = (position_desired - position_present + nb_pas//2 ) % nb_pas - nb_pas//2\n",
    "\n",
    "print (d_position)\n",
    "\n",
    "position_present = (position_present + d_position ) % nb_pas\n",
    "\n",
    "print (position_present)\n"
   ]
  },
  {
   "cell_type": "markdown",
   "metadata": {},
   "source": [
    "on vérifie que ça marche pour toute une série de positions désirées et qu'on évite le demi tour:"
   ]
  },
  {
   "cell_type": "code",
   "execution_count": 13,
   "metadata": {
    "collapsed": false
   },
   "outputs": [
    {
     "name": "stdout",
     "output_type": "stream",
     "text": [
      "[-2 -1  0  1  2  3  4  5 -6 -5 -4 -3]\n",
      "[ 0  1  2  3  4  5  6  7  8  9 10 11]\n"
     ]
    }
   ],
   "source": [
    "nb_pas = 12\n",
    "position_present = 2\n",
    "position_desired = np.arange(nb_pas)\n",
    "\n",
    "d_position = (position_desired - position_present + nb_pas//2 ) % nb_pas - nb_pas//2\n",
    "\n",
    "print (d_position)\n",
    "\n",
    "position_present = (position_present + d_position ) % nb_pas\n",
    "\n",
    "print (position_present)\n"
   ]
  },
  {
   "cell_type": "markdown",
   "metadata": {},
   "source": [
    "on vérifie aussi que ça marche pour toute une série de positions initiales et qu'on évite le demi tour:"
   ]
  },
  {
   "cell_type": "code",
   "execution_count": 14,
   "metadata": {
    "collapsed": false
   },
   "outputs": [
    {
     "name": "stdout",
     "output_type": "stream",
     "text": [
      "[-4 -5 -6  5  4  3  2  1  0 -1 -2 -3]\n",
      "[8 8 8 8 8 8 8 8 8 8 8 8]\n"
     ]
    }
   ],
   "source": [
    "nb_pas = 12\n",
    "position_present = np.arange(nb_pas)\n",
    "position_desired = 8\n",
    "\n",
    "d_position = (position_desired - position_present + nb_pas//2 ) % nb_pas - nb_pas//2\n",
    "\n",
    "print (d_position)\n",
    "\n",
    "position_present = (position_present + d_position ) % nb_pas\n",
    "\n",
    "print (position_present)\n"
   ]
  },
  {
   "cell_type": "code",
   "execution_count": null,
   "metadata": {
    "collapsed": true
   },
   "outputs": [],
   "source": []
  },
  {
   "cell_type": "markdown",
   "metadata": {},
   "source": [
    "### arduino\n",
    "\n",
    "coordonnées moteur + engrenage:\n",
    " - 1.8 deg par pas (soit 200 pas par tour) x 32 divisions de pas = \n",
    " - demultiplication : pignon1= 14 dents, pignon2 = 60 dents\n"
   ]
  },
  {
   "cell_type": "code",
   "execution_count": 3,
   "metadata": {
    "collapsed": false
   },
   "outputs": [
    {
     "name": "stdout",
     "output_type": "stream",
     "text": [
      "27428.571428571428\n"
     ]
    }
   ],
   "source": [
    "n_pas = 200. * 32. * 60 / 14\n",
    "print(n_pas)"
   ]
  },
  {
   "cell_type": "markdown",
   "metadata": {},
   "source": [
    "Donc, on a un nombre même pas entier mais c'est pas grave. C'est le nombre de pas à faire pour le moteur pour faire faire un tour à la lame. Dans un premier temps, on va considérer ce cercle comme des entiers entre 0 et n_pas. ça devrait pouvoir être envoyé sans probleme a chaque arduino comme un int16 (à vérifier - si on a de la marge, on peut faire un truc plus précis): "
   ]
  },
  {
   "cell_type": "code",
   "execution_count": 5,
   "metadata": {
    "collapsed": false
   },
   "outputs": [
    {
     "data": {
      "text/plain": [
       "65536"
      ]
     },
     "execution_count": 5,
     "metadata": {},
     "output_type": "execute_result"
    }
   ],
   "source": [
    "2**16"
   ]
  },
  {
   "cell_type": "markdown",
   "metadata": {},
   "source": [
    "L'algo sur le arduino doit donc avoir cette partie pour convertir une donnée absolue reçue en donnée relative à envoyer aux moteurs:"
   ]
  },
  {
   "cell_type": "code",
   "execution_count": 15,
   "metadata": {
    "collapsed": false
   },
   "outputs": [
    {
     "name": "stdout",
     "output_type": "stream",
     "text": [
      "8 4\n"
     ]
    }
   ],
   "source": [
    "nb_pas = 27428\n",
    "\n",
    "position_present = 27424\n",
    "position_desired = 4 # recu avec la lecture sur le port série\n",
    "\n",
    "# quand on reçoit une valeur absolue on calcule\n",
    "d_position = (position_desired - position_present + nb_pas//2 ) % nb_pas - nb_pas//2\n",
    "\n",
    "# on envoie d_position aux moteurs\n",
    "\n",
    "# on met à jour la position du moteur\n",
    "position_present = (position_present + d_position ) % nb_pas\n",
    "\n",
    "print(d_position, position_present)"
   ]
  },
  {
   "cell_type": "markdown",
   "metadata": {},
   "source": [
    "## git\n"
   ]
  },
  {
   "cell_type": "code",
   "execution_count": 11,
   "metadata": {
    "collapsed": false
   },
   "outputs": [
    {
     "name": "stdout",
     "output_type": "stream",
     "text": [
      " \u001b[32mM\u001b[m \"2015-10-27 \\303\\251lasticit\\303\\251 expansion-r\\303\\251action diffusion.ipynb\"\r\n",
      " \u001b[32mM\u001b[m \"2015-10-27 \\303\\251lasticit\\303\\251 expansion.ipynb\"\r\n",
      " \u001b[32mM\u001b[m \"2015-10-27 \\303\\251lasticit\\303\\251 rapsberry pyserial.ipynb\"\r\n",
      " \u001b[32mM\u001b[m ../scenario_line_contraint.py\r\n",
      " \u001b[32mM\u001b[m ../src/elasticite.py\r\n",
      "\u001b[36m??\u001b[m ../.ipynb_checkpoints/\r\n",
      "\u001b[36m??\u001b[m ../PLAN_PRINCIPE_PROTO/\r\n",
      "\u001b[36m??\u001b[m ../Presentation-Dossier-Artistique/\r\n",
      "\u001b[36m??\u001b[m ../TESTS_TRAME/\r\n",
      "\u001b[36m??\u001b[m ../__temp_ipython__.png\r\n",
      "\u001b[36m??\u001b[m ../files/elastic_fresnel.mp4\r\n",
      "\u001b[36m??\u001b[m ../files/elastic_fresnel_gauche.mp4\r\n",
      "\u001b[36m??\u001b[m ../files/elastic_fresnel_lateral.mp4\r\n",
      "\u001b[36m??\u001b[m ../files/elastic_fresnel_pasapas.mp4\r\n",
      "\u001b[36m??\u001b[m ../files/elastic_fresnel_rot.mp4\r\n",
      "\u001b[36m??\u001b[m ../files/fresnel.mp4\r\n",
      "\u001b[36m??\u001b[m \"../files/grille_carr\\303\\251e.mp4\"\r\n",
      "\u001b[36m??\u001b[m ../files/lames_contraintes.mp4\r\n",
      "\u001b[36m??\u001b[m ../files/lames_oscillantes.mp4\r\n",
      "\u001b[36m??\u001b[m ../files/lames_oscillantes_fps5.mp4\r\n",
      "\u001b[36m??\u001b[m \"../notes-Laurent/2015-10-22_\\303\\251lasticit\\303\\251 LAMES-Dynamique_pdf.pdf\"\r\n",
      "\u001b[36m??\u001b[m .ipynb_checkpoints/\r\n",
      "\u001b[36m??\u001b[m __temp__.mp4\r\n",
      "\u001b[36m??\u001b[m __temp_ipython__.png\r\n",
      "\u001b[36m??\u001b[m anim.gif\r\n",
      "\u001b[36m??\u001b[m ../screenshot.png\r\n",
      "\u001b[36m??\u001b[m ../src/elasticite.egg-info/\r\n"
     ]
    }
   ],
   "source": [
    "!git s\n",
    "#!git add 2015-10-27\\ élasticité\\ r*"
   ]
  },
  {
   "cell_type": "code",
   "execution_count": 12,
   "metadata": {
    "collapsed": false
   },
   "outputs": [
    {
     "name": "stdout",
     "output_type": "stream",
     "text": [
      "[master e8cbc37]  on connecte le π + simplifying things\n",
      " 5 files changed, 131 insertions(+), 134 deletions(-)\n"
     ]
    }
   ],
   "source": [
    "!git commit -am' on connecte le π + coordonnées absolues'"
   ]
  },
  {
   "cell_type": "code",
   "execution_count": 13,
   "metadata": {
    "collapsed": false
   },
   "outputs": [
    {
     "name": "stdout",
     "output_type": "stream",
     "text": [
      "To git@git.framasoft.org:laurentperrinet/elasticte.git\r\n",
      " ! [rejected]        master -> master (fetch first)\r\n",
      "error: failed to push some refs to 'git@git.framasoft.org:laurentperrinet/elasticte.git'\r\n",
      "hint: Updates were rejected because the remote contains work that you do\r\n",
      "hint: not have locally. This is usually caused by another repository pushing\r\n",
      "hint: to the same ref. You may want to first integrate the remote changes\r\n",
      "hint: (e.g., 'git pull ...') before pushing again.\r\n",
      "hint: See the 'Note about fast-forwards' in 'git push --help' for details.\r\n"
     ]
    }
   ],
   "source": [
    "! git push"
   ]
  }
 ],
 "metadata": {
  "kernelspec": {
   "display_name": "Python 3",
   "language": "python",
   "name": "python3"
  },
  "language_info": {
   "codemirror_mode": {
    "name": "ipython",
    "version": 3
   },
   "file_extension": ".py",
   "mimetype": "text/x-python",
   "name": "python",
   "nbconvert_exporter": "python",
   "pygments_lexer": "ipython3",
   "version": "3.5.0"
  }
 },
 "nbformat": 4,
 "nbformat_minor": 0
}

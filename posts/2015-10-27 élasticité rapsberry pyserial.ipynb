{
 "cells": [
  {
   "cell_type": "code",
   "execution_count": 2,
   "metadata": {
    "collapsed": false
   },
   "outputs": [],
   "source": [
    "%load_ext autoreload\n",
    "%autoreload 2"
   ]
  },
  {
   "cell_type": "markdown",
   "metadata": {
    "collapsed": true
   },
   "source": [
    "1. sharing internet on the laocal machine\n",
    "\n",
    "````\n",
    "    ifconfig\n",
    "````\n",
    "\n",
    "2. scanning the local network to find the raspberry π\n",
    "\n",
    "````\n",
    "    nmap -T4 -sP 192.168.2.0/24\n",
    "````\n",
    "\n",
    "3 . cloned the repository on the π\n",
    "\n",
    "````\n",
    "  686  pip install pyserial\n",
    "  687  vim .ssh/id_rsa.pub\n",
    "  688  vim .ssh/id_rsa\n",
    "  689  chmod 0600 .ssh/id_rsa\n",
    "  690  git clone git@git.framasoft.org:laurentperrinet/elasticte.git\n",
    "  691  cd elasticte/\n",
    "  692  ls\n",
    "  693  cat scenario_line_contraint.py\n",
    "  694  python scenario_line_contraint.py  serial\n",
    "  695  pip install -e .\n",
    "  696  pip install --user -e .\n",
    "  697  python scenario_line_contraint.py  serial\n",
    "````\n"
   ]
  },
  {
   "cell_type": "markdown",
   "metadata": {},
   "source": [
    "## git\n"
   ]
  },
  {
   "cell_type": "code",
   "execution_count": 3,
   "metadata": {
    "collapsed": false
   },
   "outputs": [
    {
     "name": "stdout",
     "output_type": "stream",
     "text": [
      " \u001b[32mM\u001b[m \"2015-10-27 \\303\\251lasticit\\303\\251 expansion.ipynb\"\r\n",
      "\u001b[33mA\u001b[m  \"2015-10-27 \\303\\251lasticit\\303\\251 rapsberry pyserial.ipynb\"\r\n",
      " \u001b[32mM\u001b[m ../src/elasticite.py\r\n",
      "\u001b[36m??\u001b[m ../.ipynb_checkpoints/\r\n",
      "\u001b[36m??\u001b[m ../PLAN_PRINCIPE_PROTO/\r\n",
      "\u001b[36m??\u001b[m ../Presentation-Dossier-Artistique/\r\n",
      "\u001b[36m??\u001b[m ../TESTS_TRAME/\r\n",
      "\u001b[36m??\u001b[m ../__temp_ipython__.png\r\n",
      "\u001b[36m??\u001b[m ../files/elastic_fresnel.mp4\r\n",
      "\u001b[36m??\u001b[m ../files/elastic_fresnel_gauche.mp4\r\n",
      "\u001b[36m??\u001b[m ../files/elastic_fresnel_lateral.mp4\r\n",
      "\u001b[36m??\u001b[m ../files/elastic_fresnel_pasapas.mp4\r\n",
      "\u001b[36m??\u001b[m ../files/elastic_fresnel_rot.mp4\r\n",
      "\u001b[36m??\u001b[m ../files/fresnel.mp4\r\n",
      "\u001b[36m??\u001b[m \"../files/grille_carr\\303\\251e.mp4\"\r\n",
      "\u001b[36m??\u001b[m ../files/lames_contraintes.mp4\r\n",
      "\u001b[36m??\u001b[m ../files/lames_oscillantes.mp4\r\n",
      "\u001b[36m??\u001b[m ../files/lames_oscillantes_fps5.mp4\r\n",
      "\u001b[36m??\u001b[m \"../notes-Laurent/2015-10-22_\\303\\251lasticit\\303\\251 LAMES-Dynamique_pdf.pdf\"\r\n",
      "\u001b[36m??\u001b[m .ipynb_checkpoints/\r\n",
      "\u001b[36m??\u001b[m \"2015-10-27 \\303\\251lasticit\\303\\251 expansion-r\\303\\251action diffusion.ipynb\"\r\n",
      "\u001b[36m??\u001b[m __temp__.mp4\r\n",
      "\u001b[36m??\u001b[m __temp_ipython__.png\r\n",
      "\u001b[36m??\u001b[m anim.gif\r\n",
      "\u001b[36m??\u001b[m ../screenshot.png\r\n",
      "\u001b[36m??\u001b[m ../src/elasticite.egg-info/\r\n"
     ]
    }
   ],
   "source": [
    "!git s\n",
    "!git add 2015-10-27\\ élasticité\\ r*"
   ]
  },
  {
   "cell_type": "code",
   "execution_count": 4,
   "metadata": {
    "collapsed": false
   },
   "outputs": [
    {
     "name": "stdout",
     "output_type": "stream",
     "text": [
      "[master 9275c64]  on connecte le π\r\n",
      " 3 files changed, 289 insertions(+), 67 deletions(-)\r\n",
      " create mode 100644 \"posts/2015-10-27 \\303\\251lasticit\\303\\251 rapsberry pyserial.ipynb\"\r\n"
     ]
    }
   ],
   "source": [
    "!git commit -am' on connecte le π '"
   ]
  },
  {
   "cell_type": "code",
   "execution_count": 5,
   "metadata": {
    "collapsed": false
   },
   "outputs": [
    {
     "name": "stdout",
     "output_type": "stream",
     "text": [
      "Counting objects: 7, done.\n",
      "Delta compression using up to 4 threads.\n",
      "Compressing objects: 100% (7/7), done.\n",
      "Writing objects: 100% (7/7), 175.73 KiB | 0 bytes/s, done.\n",
      "Total 7 (delta 5), reused 0 (delta 0)\n",
      "To git@git.framasoft.org:laurentperrinet/elasticte.git\n",
      "   ff8f33a..9275c64  master -> master\n"
     ]
    }
   ],
   "source": [
    "! git push\n"
   ]
  },
  {
   "cell_type": "code",
   "execution_count": null,
   "metadata": {
    "collapsed": true
   },
   "outputs": [],
   "source": []
  }
 ],
 "metadata": {
  "kernelspec": {
   "display_name": "Python 3",
   "language": "python",
   "name": "python3"
  },
  "language_info": {
   "codemirror_mode": {
    "name": "ipython",
    "version": 3
   },
   "file_extension": ".py",
   "mimetype": "text/x-python",
   "name": "python",
   "nbconvert_exporter": "python",
   "pygments_lexer": "ipython3",
   "version": "3.5.0"
  }
 },
 "nbformat": 4,
 "nbformat_minor": 0
}

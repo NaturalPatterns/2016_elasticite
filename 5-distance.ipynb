{
 "metadata": {
  "name": "",
  "signature": "sha256:1b63aef39508c90805abd637da0ca710ea3cbc0d7cc16d93643400977d862d7f"
 },
 "nbformat": 3,
 "nbformat_minor": 0,
 "worksheets": [
  {
   "cells": [
    {
     "cell_type": "heading",
     "level": 2,
     "metadata": {},
     "source": [
      "algo de base d'adaptation \u00e0 une stat d\u00e9sir\u00e9e de co-occurence"
     ]
    },
    {
     "cell_type": "code",
     "collapsed": false,
     "input": [
      "import numpy as np\n",
      "import matplotlib.pyplot as plt\n",
      "%matplotlib inline"
     ],
     "language": "python",
     "metadata": {},
     "outputs": [],
     "prompt_number": 1
    },
    {
     "cell_type": "code",
     "collapsed": false,
     "input": [
      "from matplotlib import animation\n",
      "from JSAnimation import IPython_display\n",
      "from EdgeGrid import *"
     ],
     "language": "python",
     "metadata": {},
     "outputs": [],
     "prompt_number": 2
    },
    {
     "cell_type": "code",
     "collapsed": false,
     "input": [
      "e = EdgeGrid()\n",
      "fig, a = e.show_edges()\n",
      "def init():\n",
      "    e.lames[2, :] = 2*np.pi*np.pi*np.random.rand(e.N_lame)\n",
      "    e.show_edges(fig, a)\n",
      "\n",
      "N_frame = 500\n",
      "\n",
      "def phi(theta, r, r_0= .1, B_theta=20*np.pi/180.):\n",
      "    champ = np.zeros(r.shape)\n",
      "    champ = -np.sin(theta)/B_theta # np.exp(np.cos(theta)/B_theta)\n",
      "    champ *= r/r_0 * np.exp(1 - r/r_0) # anneau\n",
      "    return champ.sum(axis=0)\n",
      "    \n",
      "def animate(i, eta=10.*np.pi/N_frame):\n",
      "    r = np.sqrt((e.lames[1,:][:, np.newaxis] - e.lames[1,:][np.newaxis, :])**2 + \n",
      "                (e.lames[0,:][:, np.newaxis] - e.lames[0,:][np.newaxis, :])**2)\n",
      "    theta = e.lames[2,:][:, np.newaxis] - e.lames[2,:][np.newaxis, :]\n",
      "    e.lames[2, :] += eta * phi(theta, r)\n",
      "    e.update_lines()\n",
      "\n",
      "animation.FuncAnimation(fig, animate, init_func=init, frames=N_frame, interval=1000./30, blit=True)"
     ],
     "language": "python",
     "metadata": {},
     "outputs": []
    },
    {
     "cell_type": "code",
     "collapsed": false,
     "input": [
      "e = EdgeGrid()\n",
      "fig, a = e.show_edges()\n",
      "def init():\n",
      "    e.lames[2, :] = 2*np.pi*np.pi*np.random.rand(e.N_lame)\n",
      "    e.show_edges(fig, a)\n",
      "\n",
      "N_frame = 500\n",
      "\n",
      "def phi(theta, r, r_0= .1, B_theta=2*np.pi/180.):\n",
      "    champ = np.zeros(r.shape)\n",
      "    champ = -np.sin(theta)/B_theta # np.exp(np.cos(theta)/B_theta)\n",
      "    champ *= r/r_0 * np.exp(1 - r/r_0) # anneau\n",
      "    return champ.sum(axis=0)\n",
      "    \n",
      "def animate(i, eta=10.*np.pi/N_frame):\n",
      "    r = np.sqrt((e.lames[1,:][:, np.newaxis] - e.lames[1,:][np.newaxis, :])**2 + \n",
      "                (e.lames[0,:][:, np.newaxis] - e.lames[0,:][np.newaxis, :])**2)\n",
      "    theta = e.lames[2,:][:, np.newaxis] - e.lames[2,:][np.newaxis, :]\n",
      "    e.lames[2, :] += eta * phi(theta, r)\n",
      "    e.update_lines()\n",
      "\n",
      "animation.FuncAnimation(fig, animate, init_func=init, frames=N_frame, interval=1000./30, blit=True)"
     ],
     "language": "python",
     "metadata": {},
     "outputs": []
    },
    {
     "cell_type": "code",
     "collapsed": false,
     "input": [
      "e = EdgeGrid()\n",
      "fig, a = e.show_edges()\n",
      "def init():\n",
      "    e.lames[2, :] = 2*np.pi*np.pi*np.random.rand(e.N_lame)\n",
      "    e.show_edges(fig, a)\n",
      "\n",
      "N_frame = 500\n",
      "\n",
      "def phi(theta, r, r_0= .05, B_theta=20*np.pi/180.):\n",
      "    champ = np.zeros(r.shape)\n",
      "    champ = -np.sin(theta)/B_theta # np.exp(np.cos(theta)/B_theta)\n",
      "    champ *= r/r_0 * np.exp(1 - r/r_0) # anneau\n",
      "    return champ.sum(axis=0)\n",
      "    \n",
      "def animate(i, eta=10.*np.pi/N_frame):\n",
      "    r = np.sqrt((e.lames[1,:][:, np.newaxis] - e.lames[1,:][np.newaxis, :])**2 + \n",
      "                (e.lames[0,:][:, np.newaxis] - e.lames[0,:][np.newaxis, :])**2)\n",
      "    theta = e.lames[2,:][:, np.newaxis] - e.lames[2,:][np.newaxis, :]\n",
      "    e.lames[2, :] += eta * phi(theta, r)\n",
      "    e.update_lines()\n",
      "\n",
      "animation.FuncAnimation(fig, animate, init_func=init, frames=N_frame, interval=1000./30, blit=True)"
     ],
     "language": "python",
     "metadata": {},
     "outputs": []
    },
    {
     "cell_type": "code",
     "collapsed": false,
     "input": [
      "e = EdgeGrid()\n",
      "fig, a = e.show_edges()\n",
      "def init():\n",
      "    e.lames[2, :] = 2*np.pi*np.pi*np.random.rand(e.N_lame)\n",
      "    e.show_edges(fig, a)\n",
      "\n",
      "N_frame = 500\n",
      "\n",
      "def phi(theta, r, r_0= .2, B_theta=20*np.pi/180.):\n",
      "    champ = np.zeros(r.shape)\n",
      "    champ = -np.sin(theta)/B_theta # np.exp(np.cos(theta)/B_theta)\n",
      "    champ *= r/r_0 * np.exp(1 - r/r_0) # anneau\n",
      "    return champ.sum(axis=0)\n",
      "    \n",
      "def animate(i, eta=10.*np.pi/N_frame):\n",
      "    r = np.sqrt((e.lames[1,:][:, np.newaxis] - e.lames[1,:][np.newaxis, :])**2 + \n",
      "                (e.lames[0,:][:, np.newaxis] - e.lames[0,:][np.newaxis, :])**2)\n",
      "    theta = e.lames[2,:][:, np.newaxis] - e.lames[2,:][np.newaxis, :]\n",
      "    e.lames[2, :] += eta * phi(theta, r)\n",
      "    e.update_lines()\n",
      "\n",
      "animation.FuncAnimation(fig, animate, init_func=init, frames=N_frame, interval=1000./30, blit=True)"
     ],
     "language": "python",
     "metadata": {},
     "outputs": []
    },
    {
     "cell_type": "code",
     "collapsed": false,
     "input": [
      "e = EdgeGrid()\n",
      "fig, a = e.show_edges()\n",
      "def init():\n",
      "    e.lames[2, :] = 2*np.pi*np.pi*np.random.rand(e.N_lame)\n",
      "    e.show_edges(fig, a)\n",
      "\n",
      "N_frame = 500\n",
      "\n",
      "def phi(theta, r, r_0= .4, B_theta=20*np.pi/180.):\n",
      "    champ = np.zeros(r.shape)\n",
      "    champ = -np.sin(theta)/B_theta # np.exp(np.cos(theta)/B_theta)\n",
      "    champ *= r/r_0 * np.exp(1 - r/r_0) # anneau\n",
      "    return champ.sum(axis=0)\n",
      "    \n",
      "def animate(i, eta=10.*np.pi/N_frame):\n",
      "    r = np.sqrt((e.lames[1,:][:, np.newaxis] - e.lames[1,:][np.newaxis, :])**2 + \n",
      "                (e.lames[0,:][:, np.newaxis] - e.lames[0,:][np.newaxis, :])**2)\n",
      "    theta = e.lames[2,:][:, np.newaxis] - e.lames[2,:][np.newaxis, :]\n",
      "    e.lames[2, :] += eta * phi(theta, r)\n",
      "    e.update_lines()\n",
      "\n",
      "animation.FuncAnimation(fig, animate, init_func=init, frames=N_frame, interval=1000./30, blit=True)"
     ],
     "language": "python",
     "metadata": {},
     "outputs": []
    },
    {
     "cell_type": "code",
     "collapsed": false,
     "input": [],
     "language": "python",
     "metadata": {},
     "outputs": []
    }
   ],
   "metadata": {}
  }
 ]
}